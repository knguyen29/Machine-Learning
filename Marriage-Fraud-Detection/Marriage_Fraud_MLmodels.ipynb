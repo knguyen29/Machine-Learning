{
 "cells": [
  {
   "cell_type": "code",
   "execution_count": 1,
   "metadata": {},
   "outputs": [
    {
     "data": {
      "text/html": [
       "<style>.container { width:120% !important; }</style>"
      ],
      "text/plain": [
       "<IPython.core.display.HTML object>"
      ]
     },
     "metadata": {},
     "output_type": "display_data"
    },
    {
     "name": "stdout",
     "output_type": "stream",
     "text": [
      "2.4.8\n"
     ]
    }
   ],
   "source": [
    "# (1) Import the required Python dependencies\n",
    "%matplotlib inline\n",
    "import matplotlib.pyplot as plt\n",
    "import seaborn as sns\n",
    "import pandas as pd\n",
    "\n",
    "import findspark\n",
    "findspark.init()\n",
    "import pyspark\n",
    "from pyspark import SparkContext\n",
    "from pyspark import SQLContext\n",
    "from pyspark.context import SparkContext\n",
    "from pyspark.sql import SparkSession  #Main entry point for DataFrame and SQL functionality.\n",
    "from pyspark.sql import DataFrame #A distributed collection of data grouped into named columns.\n",
    "from pyspark.sql import Column #A column expression in a DataFrame.\n",
    "from pyspark.sql import Row #A row of data in a DataFrame.\n",
    "from pyspark.sql import GroupedData #Aggregation methods, returned by DataFrame.groupBy().\n",
    "from pyspark.sql import DataFrameNaFunctions #Methods for handling missing data (null values).\n",
    "from pyspark.sql import DataFrameStatFunctions #Methods for statistics functionality.\n",
    "from pyspark.sql import functions #List of built-in functions available for DataFrame.\n",
    "from pyspark.sql import types #List of data types available.\n",
    "from pyspark.sql import Window #For working with window functions.\n",
    "from pyspark import SparkConf\n",
    "from pyspark.sql import *\n",
    "from pyspark.sql.functions import *\n",
    "from pyspark.sql.types import ArrayType, StructField, StructType, StringType, IntegerType\n",
    "from pyspark.sql.functions import explode\n",
    "from pyspark.sql.functions import row_number, monotonically_increasing_id\n",
    "import matplotlib.pyplot as plt\n",
    "import numpy as np\n",
    "from pyspark.sql.functions import when\n",
    "\n",
    "from IPython.core.display import display, HTML\n",
    "display(HTML(\"<style>.container { width:120% !important; }</style>\"))\n",
    "\n",
    "\n",
    "\n",
    "#Linear Regression\n",
    "from pyspark.ml.feature import VectorAssembler\n",
    "from pyspark.ml.regression import LinearRegression\n",
    "from pyspark.ml.evaluation import RegressionEvaluator\n",
    "\n",
    "#logistic Regression\n",
    "from pyspark.sql.functions import col\n",
    "from pyspark.ml.feature import VectorAssembler\n",
    "from pyspark.ml.feature import StringIndexer\n",
    "from pyspark.ml.classification import LogisticRegression\n",
    "from pyspark.ml.evaluation import BinaryClassificationEvaluator\n",
    "from pyspark.mllib.evaluation import MulticlassMetrics\n",
    "\n",
    "#decision tree\n",
    "from pyspark.sql.types import StructType, StructField\n",
    "from pyspark.sql.types import DoubleType, IntegerType, StringType\n",
    "from pyspark.ml import Pipeline\n",
    "\n",
    "from pyspark.ml.feature import StringIndexer\n",
    "from pyspark.ml.feature import OneHotEncoderEstimator\n",
    "from pyspark.ml.classification import DecisionTreeClassifier\n",
    "from pyspark.ml.classification import RandomForestClassifier\n",
    "from pyspark.ml.evaluation import BinaryClassificationEvaluator\n",
    "\n",
    "#Support Vector Machines Classifier\n",
    "from pyspark.ml.classification import LinearSVC\n",
    "from pyspark.ml.linalg import Vector\n",
    "\n",
    "\n",
    "#Multilayer Perceptron classifier\n",
    "from pyspark.ml.classification import MultilayerPerceptronClassifier\n",
    "from pyspark.ml.evaluation import MulticlassClassificationEvaluator\n",
    "\n",
    "sc = SparkContext.getOrCreate()\n",
    "#print(sc.version)\n",
    "\n",
    "spark = SparkSession.builder.getOrCreate()\n",
    "print(spark.version)"
   ]
  },
  {
   "cell_type": "code",
   "execution_count": 2,
   "metadata": {},
   "outputs": [],
   "source": [
    "# (2) Instantiate a Spark Context\n",
    "conf = SparkConf().setMaster(\"spark://master:7077\").setAppName(\"ML Models - Marriage Fraud\")\n",
    "sc = SparkContext(conf=conf)\n",
    "sqlContext = SQLContext(sc)"
   ]
  },
  {
   "cell_type": "code",
   "execution_count": 3,
   "metadata": {},
   "outputs": [
    {
     "name": "stdout",
     "output_type": "stream",
     "text": [
      "1000000\n",
      "root\n",
      " |-- id: long (nullable = true)\n",
      " |-- Age_gap: integer (nullable = true)\n",
      " |-- Income: integer (nullable = true)\n",
      " |-- Number_of_children: integer (nullable = true)\n",
      " |-- Number_of_divorce: integer (nullable = true)\n",
      " |-- Different_Language: integer (nullable = true)\n",
      " |-- Different_Address: integer (nullable = true)\n",
      " |-- Criminal_history: integer (nullable = true)\n",
      " |-- Big_age_gap: string (nullable = true)\n",
      " |-- Too_many_children: string (nullable = true)\n",
      " |-- Too_many_divorce: string (nullable = true)\n",
      " |-- Too_low_income: string (nullable = true)\n",
      " |-- Indicator_Sum: double (nullable = true)\n",
      " |-- Fraud_Alert: string (nullable = true)\n",
      "\n"
     ]
    }
   ],
   "source": [
    "#Read marriage fraud parquet file\n",
    "marriage_df = spark.read.parquet(\"marriage_fraud_dataset.parquet\")\n",
    "\n",
    "\n",
    "marriage_df.createOrReplaceTempView(\"MarriageFraudTable\")\n",
    "\n",
    "print(marriage_df.count())\n",
    "marriage_df.printSchema()"
   ]
  },
  {
   "cell_type": "code",
   "execution_count": 4,
   "metadata": {},
   "outputs": [
    {
     "name": "stdout",
     "output_type": "stream",
     "text": [
      "+-----------+------+\n",
      "|Fraud_Alert| count|\n",
      "+-----------+------+\n",
      "|          0|893937|\n",
      "|          1|106063|\n",
      "+-----------+------+\n",
      "\n"
     ]
    }
   ],
   "source": [
    "marriage_df.groupBy('Fraud_Alert').count().show()"
   ]
  },
  {
   "cell_type": "code",
   "execution_count": 5,
   "metadata": {
    "scrolled": false
   },
   "outputs": [
    {
     "name": "stdout",
     "output_type": "stream",
     "text": [
      "+------+-------+------+------------------+-----------------+------------------+-----------------+----------------+-----------+-----------------+----------------+--------------+-------------+-----------+-----+\n",
      "|    id|Age_gap|Income|Number_of_children|Number_of_divorce|Different_Language|Different_Address|Criminal_history|Big_age_gap|Too_many_children|Too_many_divorce|Too_low_income|Indicator_Sum|Fraud_Alert|label|\n",
      "+------+-------+------+------------------+-----------------+------------------+-----------------+----------------+-----------+-----------------+----------------+--------------+-------------+-----------+-----+\n",
      "|258922|      2| 42260|                 2|                3|                 0|                0|               0|          0|                0|               0|             0|          0.0|          0|  0.0|\n",
      "|258923|     10|102590|                 3|                1|                 0|                0|               0|          0|                0|               0|             0|          0.0|          0|  0.0|\n",
      "|258924|     20|181359|                 3|                0|                 0|                0|               0|          0|                0|               0|             0|          0.0|          0|  0.0|\n",
      "|258925|      1| 33308|                 1|                2|                 0|                0|               0|          0|                0|               0|             0|          0.0|          0|  0.0|\n",
      "|258926|      8| 92039|                 1|                1|                 0|                0|               0|          0|                0|               0|             0|          0.0|          0|  0.0|\n",
      "|258927|     19|169838|                 2|                0|                 0|                0|               0|          0|                0|               0|             0|          0.0|          0|  0.0|\n",
      "|258928|      4| 60741|                 0|                3|                 0|                0|               0|          0|                0|               0|             0|          0.0|          0|  0.0|\n",
      "|258929|     13|125237|                 2|                2|                 0|                0|               0|          0|                0|               0|             0|          0.0|          0|  0.0|\n",
      "|258930|     12|117408|                 1|                3|                 0|                0|               0|          0|                0|               0|             0|          0.0|          0|  0.0|\n",
      "|258931|      3| 48819|                 1|                1|                 0|                0|               0|          0|                0|               0|             0|          0.0|          0|  0.0|\n",
      "|258932|      4| 57493|                 1|                1|                 0|                0|               0|          0|                0|               0|             0|          0.0|          0|  0.0|\n",
      "|258933|      5| 62625|                 4|                5|                 0|                0|               1|          0|                0|               1|             0|          2.0|          1|  1.0|\n",
      "|258934|      4| 59067|                 1|                3|                 0|                0|               0|          0|                0|               0|             0|          0.0|          0|  0.0|\n",
      "|258935|      5| 66440|                 2|                5|                 0|                0|               1|          0|                0|               1|             0|          2.0|          1|  1.0|\n",
      "|258936|     17|154689|                 1|                1|                 0|                0|               0|          0|                0|               0|             0|          0.0|          0|  0.0|\n",
      "|258937|     17|158662|                 2|                3|                 0|                0|               0|          0|                0|               0|             0|          0.0|          0|  0.0|\n",
      "|258938|     12|119081|                 6|                1|                 0|                1|               0|          0|                1|               0|             0|          2.0|          1|  1.0|\n",
      "|258939|     20|181160|                 3|                1|                 0|                0|               0|          0|                0|               0|             0|          0.0|          0|  0.0|\n",
      "|258940|     17|159178|                 1|                1|                 0|                0|               0|          0|                0|               0|             0|          0.0|          0|  0.0|\n",
      "|258941|     13|125099|                 5|                4|                 0|                1|               0|          0|                0|               0|             0|          1.0|          0|  0.0|\n",
      "+------+-------+------+------------------+-----------------+------------------+-----------------+----------------+-----------+-----------------+----------------+--------------+-------------+-----------+-----+\n",
      "only showing top 20 rows\n",
      "\n"
     ]
    }
   ],
   "source": [
    "# (3) Load the dataset into a Spark DataFrame\n",
    "indexer = StringIndexer(inputCol = \"Fraud_Alert\", outputCol = \"label\").fit(marriage_df)\n",
    "marriage_df = indexer.transform(marriage_df)\n",
    "marriage_df.show(20)"
   ]
  },
  {
   "cell_type": "code",
   "execution_count": null,
   "metadata": {},
   "outputs": [],
   "source": []
  },
  {
   "cell_type": "code",
   "execution_count": 6,
   "metadata": {},
   "outputs": [
    {
     "data": {
      "text/plain": [
       "[Row(features=DenseVector([2.0, 42260.0, 2.0, 3.0, 0.0, 0.0, 0.0]), label=0.0),\n",
       " Row(features=DenseVector([10.0, 102590.0, 3.0, 1.0, 0.0, 0.0, 0.0]), label=0.0),\n",
       " Row(features=SparseVector(7, {0: 20.0, 1: 181359.0, 2: 3.0}), label=0.0),\n",
       " Row(features=DenseVector([1.0, 33308.0, 1.0, 2.0, 0.0, 0.0, 0.0]), label=0.0),\n",
       " Row(features=DenseVector([8.0, 92039.0, 1.0, 1.0, 0.0, 0.0, 0.0]), label=0.0),\n",
       " Row(features=SparseVector(7, {0: 19.0, 1: 169838.0, 2: 2.0}), label=0.0),\n",
       " Row(features=SparseVector(7, {0: 4.0, 1: 60741.0, 3: 3.0}), label=0.0),\n",
       " Row(features=DenseVector([13.0, 125237.0, 2.0, 2.0, 0.0, 0.0, 0.0]), label=0.0),\n",
       " Row(features=DenseVector([12.0, 117408.0, 1.0, 3.0, 0.0, 0.0, 0.0]), label=0.0),\n",
       " Row(features=DenseVector([3.0, 48819.0, 1.0, 1.0, 0.0, 0.0, 0.0]), label=0.0)]"
      ]
     },
     "execution_count": 6,
     "metadata": {},
     "output_type": "execute_result"
    }
   ],
   "source": [
    "# (5) Generate Input Feature Vectors from the Raw Spark DataFrame\n",
    "feature_columns = ['Age_gap', 'Income', 'Number_of_children', 'Number_of_divorce', 'Different_Language', 'Different_Address', 'Criminal_history']\n",
    "label_column = 'label'\n",
    "vector_assembler = VectorAssembler(inputCols = feature_columns, outputCol = 'features')\n",
    "marriage_features_df = vector_assembler.transform(marriage_df).select(['features', label_column])\n",
    "marriage_features_df.head(10)"
   ]
  },
  {
   "cell_type": "code",
   "execution_count": 7,
   "metadata": {},
   "outputs": [
    {
     "data": {
      "text/plain": [
       "(700444, 299556)"
      ]
     },
     "execution_count": 7,
     "metadata": {},
     "output_type": "execute_result"
    }
   ],
   "source": [
    "# (6) Split the Raw DataFrame into a Training DataFrame and a Test DataFrame\n",
    "train_df, test_df = marriage_features_df.randomSplit([0.70, 0.30], seed=552)\n",
    "train_df.count(), test_df.count()"
   ]
  },
  {
   "cell_type": "code",
   "execution_count": 8,
   "metadata": {},
   "outputs": [],
   "source": [
    "# (7) Train a Logistic Regression Model on the Training DataFrame\n",
    "logistic_regression = LogisticRegression(featuresCol = 'features', labelCol = label_column)\n",
    "logistic_regression_model = logistic_regression.fit(train_df)"
   ]
  },
  {
   "cell_type": "code",
   "execution_count": 9,
   "metadata": {},
   "outputs": [
    {
     "name": "stdout",
     "output_type": "stream",
     "text": [
      "Model Coefficients: DenseMatrix([[ 3.93066343e-01, -4.76000923e-05,  5.79626254e-01,\n",
      "               5.84227651e-01,  6.21236203e+01,  1.93147505e+01,\n",
      "               2.04835832e+01]])\n",
      "Intercept: [-22.44394691022355]\n"
     ]
    }
   ],
   "source": [
    "# (8) Output Logistic Regression Model Summary Statistics to evaluate the Training Model\n",
    "print(\"Model Coefficients: \" + str(logistic_regression_model.coefficientMatrix))\n",
    "print(\"Intercept: \" + str(logistic_regression_model.interceptVector))"
   ]
  },
  {
   "cell_type": "code",
   "execution_count": 10,
   "metadata": {},
   "outputs": [
    {
     "name": "stdout",
     "output_type": "stream",
     "text": [
      "TEST DATASET PREDICTIONS AGAINST ACTUAL LABEL: \n",
      "+--------------------+--------------------+----------+-----+--------------------+\n",
      "|         probability|       rawPrediction|prediction|label|            features|\n",
      "+--------------------+--------------------+----------+-----+--------------------+\n",
      "|[0.99999999991659...|[23.2072772110870...|       0.0|  0.0|(7,[0,1],[1.0,242...|\n",
      "|[0.99999999991677...|[23.2094192152425...|       0.0|  0.0|(7,[0,1],[1.0,243...|\n",
      "|[0.99999999991737...|[23.2166544292786...|       0.0|  0.0|(7,[0,1],[1.0,244...|\n",
      "|[0.99999999991762...|[23.2197484352809...|       0.0|  0.0|(7,[0,1],[1.0,245...|\n",
      "|[0.99999999991962...|[23.2443100829299...|       0.0|  0.0|(7,[0,1],[1.0,250...|\n",
      "|[0.99999999991997...|[23.2487368915179...|       0.0|  0.0|(7,[0,1],[1.0,251...|\n",
      "|[0.99999999992007...|[23.2498792937341...|       0.0|  0.0|(7,[0,1],[1.0,251...|\n",
      "|[0.99999999992092...|[23.2606369146036...|       0.0|  0.0|(7,[0,1],[1.0,254...|\n",
      "|[0.99999999992119...|[23.2640641212523...|       0.0|  0.0|(7,[0,1],[1.0,254...|\n",
      "|[0.99999999992166...|[23.2699665327029...|       0.0|  0.0|(7,[0,1],[1.0,256...|\n",
      "|[0.99999999992223...|[23.2773921471084...|       0.0|  0.0|(7,[0,1],[1.0,257...|\n",
      "|[0.99999999992270...|[23.2833897587436...|       0.0|  0.0|(7,[0,1],[1.0,258...|\n",
      "|[0.99999999992404...|[23.3008589926335...|       0.0|  0.0|(7,[0,1],[1.0,262...|\n",
      "|[0.99999999992412...|[23.3019061946651...|       0.0|  0.0|(7,[0,1],[1.0,262...|\n",
      "|[0.99999999992507...|[23.3144726190436...|       0.0|  0.0|(7,[0,1],[1.0,265...|\n",
      "|[0.99999999992604...|[23.3276102445303...|       0.0|  0.0|(7,[0,1],[1.0,268...|\n",
      "|[0.99999999992824...|[23.3577411029835...|       0.0|  0.0|(7,[0,1],[1.0,274...|\n",
      "|[0.99999999992886...|[23.3664995199746...|       0.0|  0.0|(7,[0,1],[1.0,276...|\n",
      "|[0.99999999992989...|[23.3809699480469...|       0.0|  0.0|(7,[0,1],[1.0,279...|\n",
      "|[0.99999999993175...|[23.4078640002208...|       0.0|  0.0|(7,[0,1],[1.0,285...|\n",
      "+--------------------+--------------------+----------+-----+--------------------+\n",
      "only showing top 20 rows\n",
      "\n"
     ]
    }
   ],
   "source": [
    "# (9) Apply the Trained Logistic Regression Model to the Test DataFrame to make predictions\n",
    "test_logistic_regression_predictions_df = logistic_regression_model.transform(test_df)\n",
    "print(\"TEST DATASET PREDICTIONS AGAINST ACTUAL LABEL: \")\n",
    "test_logistic_regression_predictions_df.select(\"probability\", \"rawPrediction\", \"prediction\", label_column, \"features\").show()"
   ]
  },
  {
   "cell_type": "code",
   "execution_count": 11,
   "metadata": {},
   "outputs": [
    {
     "data": {
      "image/png": "[encoded data removed]",
      "text/plain": [
       "<Figure size 864x576 with 1 Axes>"
      ]
     },
     "metadata": {
      "needs_background": "light"
     },
     "output_type": "display_data"
    },
    {
     "name": "stdout",
     "output_type": "stream",
     "text": [
      "Area Under ROC Curve on Test Data = 0.994246\n"
     ]
    }
   ],
   "source": [
    "# (10) Evaluate the performance of our Logistic Regression Model on the Test DataFrame using Area under a ROC curve\n",
    "test_summary = logistic_regression_model.evaluate(test_df)\n",
    "roc = test_summary.roc.toPandas()\n",
    "plt.figure(figsize=(12,8))\n",
    "plt.plot(roc['FPR'],roc['TPR'])\n",
    "plt.ylabel('False Positive Rate')\n",
    "plt.xlabel('True Positive Rate')\n",
    "plt.title('ROC Curve')\n",
    "plt.show()\n",
    "evaluator_roc_area = BinaryClassificationEvaluator(rawPredictionCol = \"rawPrediction\", labelCol = label_column, metricName = \"areaUnderROC\")\n",
    "print(\"Area Under ROC Curve on Test Data = %g\" % evaluator_roc_area.evaluate(test_logistic_regression_predictions_df))"
   ]
  },
  {
   "cell_type": "code",
   "execution_count": 12,
   "metadata": {},
   "outputs": [
    {
     "name": "stdout",
     "output_type": "stream",
     "text": [
      "Number of Test record = 299556\n",
      "Overall Accuracy = 0.971074\n",
      "Overall Error Rate = 0.0289261\n",
      "Sensitivity = 0.89173\n",
      "Specificity = 0.980522\n",
      "Precision Score = 0.844992\n",
      "Recall Score = 0.89173\n",
      "F1 Score = 0.867732\n"
     ]
    }
   ],
   "source": [
    "# Calculate Logistic model metrics\n",
    "N = test_logistic_regression_predictions_df.count()\n",
    "true_positives = test_logistic_regression_predictions_df.filter( col(\"prediction\") == 1.0 ).filter( col(\"label\") == 1.0 ).count()\n",
    "true_negatives = test_logistic_regression_predictions_df.filter( col(\"prediction\") == 0.0 ).filter( col(\"label\") == 0.0 ).count()\n",
    "false_positives = test_logistic_regression_predictions_df.filter( col(\"prediction\") == 1.0 ).filter( col(\"label\") == 0.0 ).count()\n",
    "false_negatives = test_logistic_regression_predictions_df.filter( col(\"prediction\") == 0.0 ).filter( col(\"label\") == 1.0 ).count()\n",
    "print(\"Number of Test record = %g\" % N)\n",
    "print(\"Overall Accuracy = %g\" % ((true_negatives + true_positives)/N))\n",
    "print(\"Overall Error Rate = %g\" % ((false_negatives + false_positives)/N))\n",
    "print(\"Sensitivity = %g\" % (true_positives / (true_positives + false_negatives)))\n",
    "print(\"Specificity = %g\" % (true_negatives / (true_negatives + false_positives)))\n",
    "print(\"Precision Score = %g\" % (true_positives/(true_positives + false_positives)))\n",
    "print(\"Recall Score = %g\" % (true_positives/(true_positives + false_negatives)))\n",
    "print(\"F1 Score = %g\" % (2*true_positives/(2*true_positives + false_negatives + false_positives)))"
   ]
  },
  {
   "cell_type": "code",
   "execution_count": 13,
   "metadata": {},
   "outputs": [
    {
     "name": "stdout",
     "output_type": "stream",
     "text": [
      "N = 299556\n",
      "DenseMatrix([[262468.,   5214.],\n",
      "             [  3451.,  28423.]])\n"
     ]
    }
   ],
   "source": [
    "# Calculate Confustion Matrix\n",
    "predictions_and_label = test_logistic_regression_predictions_df.select(\"prediction\", \"label\").rdd\n",
    "metrics = MulticlassMetrics(predictions_and_label)\n",
    "print(\"N = %g\" % N)\n",
    "print(metrics.confusionMatrix())"
   ]
  },
  {
   "cell_type": "code",
   "execution_count": 14,
   "metadata": {},
   "outputs": [],
   "source": [
    "##DECISION TREE AND RANDOM FOREST"
   ]
  },
  {
   "cell_type": "code",
   "execution_count": 15,
   "metadata": {},
   "outputs": [
    {
     "name": "stdout",
     "output_type": "stream",
     "text": [
      "Wall time: 14.6 s\n"
     ]
    }
   ],
   "source": [
    "%%time\n",
    "# (7) Train a Classification Tree Model on the Training DataFrame\n",
    "decision_tree = DecisionTreeClassifier(featuresCol = 'features', labelCol = label_column)\n",
    "decision_tree_model = decision_tree.fit(train_df)"
   ]
  },
  {
   "cell_type": "code",
   "execution_count": 16,
   "metadata": {},
   "outputs": [
    {
     "name": "stdout",
     "output_type": "stream",
     "text": [
      "TEST DATASET PREDICTIONS AGAINST ACTUAL LABEL: \n",
      "+--------------------+----------------+----------+-----+--------------------+\n",
      "|         probability|   rawPrediction|prediction|label|            features|\n",
      "+--------------------+----------------+----------+-----+--------------------+\n",
      "|[0.99906224684347...|[610462.0,573.0]|       0.0|  0.0|(7,[0,1],[1.0,242...|\n",
      "|[0.99906224684347...|[610462.0,573.0]|       0.0|  0.0|(7,[0,1],[1.0,243...|\n",
      "|[0.99906224684347...|[610462.0,573.0]|       0.0|  0.0|(7,[0,1],[1.0,244...|\n",
      "|[0.99906224684347...|[610462.0,573.0]|       0.0|  0.0|(7,[0,1],[1.0,245...|\n",
      "|[0.99906224684347...|[610462.0,573.0]|       0.0|  0.0|(7,[0,1],[1.0,250...|\n",
      "|[0.99906224684347...|[610462.0,573.0]|       0.0|  0.0|(7,[0,1],[1.0,251...|\n",
      "|[0.99906224684347...|[610462.0,573.0]|       0.0|  0.0|(7,[0,1],[1.0,251...|\n",
      "|[0.99906224684347...|[610462.0,573.0]|       0.0|  0.0|(7,[0,1],[1.0,254...|\n",
      "|[0.99906224684347...|[610462.0,573.0]|       0.0|  0.0|(7,[0,1],[1.0,254...|\n",
      "|[0.99906224684347...|[610462.0,573.0]|       0.0|  0.0|(7,[0,1],[1.0,256...|\n",
      "|[0.99906224684347...|[610462.0,573.0]|       0.0|  0.0|(7,[0,1],[1.0,257...|\n",
      "|[0.99906224684347...|[610462.0,573.0]|       0.0|  0.0|(7,[0,1],[1.0,258...|\n",
      "|[0.99906224684347...|[610462.0,573.0]|       0.0|  0.0|(7,[0,1],[1.0,262...|\n",
      "|[0.99906224684347...|[610462.0,573.0]|       0.0|  0.0|(7,[0,1],[1.0,262...|\n",
      "|[0.99906224684347...|[610462.0,573.0]|       0.0|  0.0|(7,[0,1],[1.0,265...|\n",
      "|[0.99906224684347...|[610462.0,573.0]|       0.0|  0.0|(7,[0,1],[1.0,268...|\n",
      "|[0.99906224684347...|[610462.0,573.0]|       0.0|  0.0|(7,[0,1],[1.0,274...|\n",
      "|[0.99906224684347...|[610462.0,573.0]|       0.0|  0.0|(7,[0,1],[1.0,276...|\n",
      "|[0.99906224684347...|[610462.0,573.0]|       0.0|  0.0|(7,[0,1],[1.0,279...|\n",
      "|[0.99906224684347...|[610462.0,573.0]|       0.0|  0.0|(7,[0,1],[1.0,285...|\n",
      "+--------------------+----------------+----------+-----+--------------------+\n",
      "only showing top 20 rows\n",
      "\n"
     ]
    }
   ],
   "source": [
    "# (8) Apply the Trained Classification Tree Model to the Test DataFrame to make predictions\n",
    "test_decision_tree_predictions_df = decision_tree_model.transform(test_df)\n",
    "print(\"TEST DATASET PREDICTIONS AGAINST ACTUAL LABEL: \")\n",
    "test_decision_tree_predictions_df.select(\"probability\", \"rawPrediction\", \"prediction\", label_column, \"features\").show()"
   ]
  },
  {
   "cell_type": "code",
   "execution_count": 17,
   "metadata": {
    "scrolled": true
   },
   "outputs": [
    {
     "name": "stdout",
     "output_type": "stream",
     "text": [
      "Number of Test record = 299556\n",
      "Overall Accuracy = 0.998648\n",
      "Overall Error Rate = 0.001352\n",
      "Sensitivity = 0.987294\n",
      "Specificity = 1\n",
      "Precision Score = 1\n",
      "Recall Score = 0.987294\n",
      "F1 Score = 0.993606\n"
     ]
    }
   ],
   "source": [
    "# Calculate  model metrics\n",
    "N1 = test_decision_tree_predictions_df.count()\n",
    "true_positives = test_decision_tree_predictions_df.filter( col(\"prediction\") == 1.0 ).filter( col(\"label\") == 1.0 ).count()\n",
    "true_negatives = test_decision_tree_predictions_df.filter( col(\"prediction\") == 0.0 ).filter( col(\"label\") == 0.0 ).count()\n",
    "false_positives = test_decision_tree_predictions_df.filter( col(\"prediction\") == 1.0 ).filter( col(\"label\") == 0.0 ).count()\n",
    "false_negatives = test_decision_tree_predictions_df.filter( col(\"prediction\") == 0.0 ).filter( col(\"label\") == 1.0 ).count()\n",
    "print(\"Number of Test record = %g\" % N)\n",
    "print(\"Overall Accuracy = %g\" % ((true_negatives + true_positives)/N1))\n",
    "print(\"Overall Error Rate = %g\" % ((false_negatives + false_positives)/N1))\n",
    "print(\"Sensitivity = %g\" % (true_positives / (true_positives + false_negatives)))\n",
    "print(\"Specificity = %g\" % (true_negatives / (true_negatives + false_positives)))\n",
    "print(\"Precision Score = %g\" % (true_positives/(true_positives + false_positives)))\n",
    "print(\"Recall Score = %g\" % (true_positives/(true_positives + false_negatives)))\n",
    "print(\"F1 Score = %g\" % (2*true_positives/(2*true_positives + false_negatives + false_positives)))"
   ]
  },
  {
   "cell_type": "code",
   "execution_count": null,
   "metadata": {},
   "outputs": [],
   "source": []
  },
  {
   "cell_type": "code",
   "execution_count": 18,
   "metadata": {},
   "outputs": [
    {
     "name": "stdout",
     "output_type": "stream",
     "text": [
      "Area Under ROC Curve on Test Data = 0.99114\n"
     ]
    }
   ],
   "source": [
    "# (9) Evaluate the performance of our Classification Tree Model on the Test DataFrame using Area under a ROC curve\n",
    "evaluator_roc_area = BinaryClassificationEvaluator(rawPredictionCol = \"rawPrediction\", labelCol = label_column, metricName = \"areaUnderROC\")\n",
    "print(\"Area Under ROC Curve on Test Data = %g\" % evaluator_roc_area.evaluate(test_decision_tree_predictions_df))"
   ]
  },
  {
   "cell_type": "code",
   "execution_count": null,
   "metadata": {},
   "outputs": [],
   "source": []
  },
  {
   "cell_type": "code",
   "execution_count": 19,
   "metadata": {},
   "outputs": [
    {
     "name": "stdout",
     "output_type": "stream",
     "text": [
      "DecisionTreeClassificationModel (uid=DecisionTreeClassifier_9be91ece785a) of depth 5 with 11 nodes\n",
      "  If (feature 4 <= 0.5)\n",
      "   If (feature 3 <= 4.5)\n",
      "    If (feature 2 <= 5.5)\n",
      "     If (feature 5 <= 0.5)\n",
      "      Predict: 0.0\n",
      "     Else (feature 5 > 0.5)\n",
      "      If (feature 0 <= 20.5)\n",
      "       Predict: 0.0\n",
      "      Else (feature 0 > 20.5)\n",
      "       Predict: 1.0\n",
      "    Else (feature 2 > 5.5)\n",
      "     Predict: 1.0\n",
      "   Else (feature 3 > 4.5)\n",
      "    Predict: 1.0\n",
      "  Else (feature 4 > 0.5)\n",
      "   Predict: 1.0\n",
      "\n"
     ]
    }
   ],
   "source": [
    "# (10) Visualise the Classification Tree\n",
    "print(str(decision_tree_model.toDebugString))"
   ]
  },
  {
   "cell_type": "code",
   "execution_count": null,
   "metadata": {},
   "outputs": [],
   "source": []
  },
  {
   "cell_type": "code",
   "execution_count": 20,
   "metadata": {},
   "outputs": [],
   "source": [
    "# (11) Train a Random Forest Classifier Model on the Training DataFrame\n",
    "random_forest = RandomForestClassifier(featuresCol = 'features', labelCol = label_column)\n",
    "random_forest_model = random_forest.fit(train_df)"
   ]
  },
  {
   "cell_type": "code",
   "execution_count": 21,
   "metadata": {},
   "outputs": [
    {
     "name": "stdout",
     "output_type": "stream",
     "text": [
      "TEST DATASET PREDICTIONS AGAINST ACTUAL LABEL: \n",
      "+--------------------+--------------------+----------+-----+--------------------+\n",
      "|         probability|       rawPrediction|prediction|label|            features|\n",
      "+--------------------+--------------------+----------+-----+--------------------+\n",
      "|[0.99677419238406...|[19.9354838476812...|       0.0|  0.0|(7,[0,1],[1.0,242...|\n",
      "|[0.99677419238406...|[19.9354838476812...|       0.0|  0.0|(7,[0,1],[1.0,243...|\n",
      "|[0.99677419238406...|[19.9354838476812...|       0.0|  0.0|(7,[0,1],[1.0,244...|\n",
      "|[0.99677419238406...|[19.9354838476812...|       0.0|  0.0|(7,[0,1],[1.0,245...|\n",
      "|[0.99677419238406...|[19.9354838476812...|       0.0|  0.0|(7,[0,1],[1.0,250...|\n",
      "|[0.99677419238406...|[19.9354838476812...|       0.0|  0.0|(7,[0,1],[1.0,251...|\n",
      "|[0.99677419238406...|[19.9354838476812...|       0.0|  0.0|(7,[0,1],[1.0,251...|\n",
      "|[0.99677419238406...|[19.9354838476812...|       0.0|  0.0|(7,[0,1],[1.0,254...|\n",
      "|[0.99677419238406...|[19.9354838476812...|       0.0|  0.0|(7,[0,1],[1.0,254...|\n",
      "|[0.99677419238406...|[19.9354838476812...|       0.0|  0.0|(7,[0,1],[1.0,256...|\n",
      "|[0.99677419238406...|[19.9354838476812...|       0.0|  0.0|(7,[0,1],[1.0,257...|\n",
      "|[0.99677419238406...|[19.9354838476812...|       0.0|  0.0|(7,[0,1],[1.0,258...|\n",
      "|[0.99677419238406...|[19.9354838476812...|       0.0|  0.0|(7,[0,1],[1.0,262...|\n",
      "|[0.99677419238406...|[19.9354838476812...|       0.0|  0.0|(7,[0,1],[1.0,262...|\n",
      "|[0.99677419238406...|[19.9354838476812...|       0.0|  0.0|(7,[0,1],[1.0,265...|\n",
      "|[0.99677419238406...|[19.9354838476812...|       0.0|  0.0|(7,[0,1],[1.0,268...|\n",
      "|[0.99677419238406...|[19.9354838476812...|       0.0|  0.0|(7,[0,1],[1.0,274...|\n",
      "|[0.99677419238406...|[19.9354838476812...|       0.0|  0.0|(7,[0,1],[1.0,276...|\n",
      "|[0.99677419238406...|[19.9354838476812...|       0.0|  0.0|(7,[0,1],[1.0,279...|\n",
      "|[0.99677419238406...|[19.9354838476812...|       0.0|  0.0|(7,[0,1],[1.0,285...|\n",
      "+--------------------+--------------------+----------+-----+--------------------+\n",
      "only showing top 20 rows\n",
      "\n"
     ]
    }
   ],
   "source": [
    "# (12) Apply the Trained Random Forest Classifier Model to the Test DataFrame to make predictions\n",
    "test_random_forest_predictions_df = random_forest_model.transform(test_df)\n",
    "print(\"TEST DATASET PREDICTIONS AGAINST ACTUAL LABEL: \")\n",
    "test_random_forest_predictions_df.select(\"probability\", \"rawPrediction\", \"prediction\", label_column, \"features\").show()"
   ]
  },
  {
   "cell_type": "code",
   "execution_count": 22,
   "metadata": {},
   "outputs": [
    {
     "name": "stdout",
     "output_type": "stream",
     "text": [
      "Area Under ROC Curve on Test Data = 0.99993\n"
     ]
    }
   ],
   "source": [
    "# (13) Evaluate the performance of our Random Forest Classifier Model on the Test DataFrame using Area under a ROC curve\n",
    "evaluator_rf_roc_area = BinaryClassificationEvaluator(rawPredictionCol = \"rawPrediction\", labelCol = label_column, metricName = \"areaUnderROC\")\n",
    "print(\"Area Under ROC Curve on Test Data = %g\" % evaluator_rf_roc_area.evaluate(test_random_forest_predictions_df))"
   ]
  },
  {
   "cell_type": "code",
   "execution_count": 23,
   "metadata": {},
   "outputs": [
    {
     "name": "stdout",
     "output_type": "stream",
     "text": [
      "Number of Test records = 299556\n",
      "Overall Accuracy = 0.999259\n",
      "Overall Error Rate = 0.000741097\n",
      "Sensitivity = 0.993035\n",
      "Specificity = 1\n",
      "Precision Score = 1\n",
      "Recall Score = 0.993035\n",
      "F1 Score = 0.996505\n"
     ]
    }
   ],
   "source": [
    "# Calculate Random Forest model metrics\n",
    "N2 = test_random_forest_predictions_df.count()\n",
    "true_positives = test_random_forest_predictions_df.filter( col(\"prediction\") == 1.0 ).filter( col(\"label\") == 1.0 ).count()\n",
    "true_negatives = test_random_forest_predictions_df.filter( col(\"prediction\") == 0.0 ).filter( col(\"label\") == 0.0 ).count()\n",
    "false_positives = test_random_forest_predictions_df.filter( col(\"prediction\") == 1.0 ).filter( col(\"label\") == 0.0 ).count()\n",
    "false_negatives = test_random_forest_predictions_df.filter( col(\"prediction\") == 0.0 ).filter( col(\"label\") == 1.0 ).count()\n",
    "print(\"Number of Test records = %g\" % N)\n",
    "print(\"Overall Accuracy = %g\" % ((true_negatives + true_positives)/N2))\n",
    "print(\"Overall Error Rate = %g\" % ((false_negatives + false_positives)/N2))\n",
    "print(\"Sensitivity = %g\" % (true_positives / (true_positives + false_negatives)))\n",
    "print(\"Specificity = %g\" % (true_negatives / (true_negatives + false_positives)))\n",
    "print(\"Precision Score = %g\" % (true_positives/(true_positives + false_positives)))\n",
    "print(\"Recall Score = %g\" % (true_positives/(true_positives + false_negatives)))\n",
    "print(\"F1 Score = %g\" % (2*true_positives/(2*true_positives + false_negatives + false_positives)))"
   ]
  },
  {
   "cell_type": "code",
   "execution_count": null,
   "metadata": {
    "scrolled": true
   },
   "outputs": [],
   "source": []
  },
  {
   "cell_type": "code",
   "execution_count": 24,
   "metadata": {},
   "outputs": [
    {
     "name": "stdout",
     "output_type": "stream",
     "text": [
      "Wall time: 17min 14s\n"
     ]
    },
    {
     "data": {
      "text/plain": [
       "['features', 'label', 'rawPrediction', 'prediction']"
      ]
     },
     "execution_count": 24,
     "metadata": {},
     "output_type": "execute_result"
    }
   ],
   "source": [
    "%%time\n",
    "# Linear Support Vector Machines Classifier\n",
    "from pyspark.ml.classification import LinearSVC\n",
    "lsvc = LinearSVC()\n",
    "lsvc_model = lsvc.fit(train_df)\n",
    "model_predictions = lsvc_model.transform(test_df)\n",
    "model_predictions.columns"
   ]
  },
  {
   "cell_type": "code",
   "execution_count": 25,
   "metadata": {},
   "outputs": [
    {
     "name": "stdout",
     "output_type": "stream",
     "text": [
      "+-----+----------+\n",
      "|label|prediction|\n",
      "+-----+----------+\n",
      "|0.0  |0.0       |\n",
      "|0.0  |0.0       |\n",
      "|0.0  |0.0       |\n",
      "|0.0  |0.0       |\n",
      "|0.0  |0.0       |\n",
      "|0.0  |0.0       |\n",
      "|0.0  |0.0       |\n",
      "|0.0  |0.0       |\n",
      "|0.0  |0.0       |\n",
      "|0.0  |0.0       |\n",
      "|0.0  |0.0       |\n",
      "|0.0  |0.0       |\n",
      "|0.0  |0.0       |\n",
      "|0.0  |0.0       |\n",
      "|0.0  |0.0       |\n",
      "|0.0  |0.0       |\n",
      "|0.0  |0.0       |\n",
      "|0.0  |0.0       |\n",
      "|0.0  |0.0       |\n",
      "|0.0  |0.0       |\n",
      "+-----+----------+\n",
      "only showing top 20 rows\n",
      "\n"
     ]
    }
   ],
   "source": [
    "model_predictions.select(['label','prediction']).show(20, False)"
   ]
  },
  {
   "cell_type": "code",
   "execution_count": 26,
   "metadata": {},
   "outputs": [
    {
     "name": "stdout",
     "output_type": "stream",
     "text": [
      "The auc value of SupportVectorClassifier is 0.9944575127116344\n",
      "The aupr value of SupportVectorClassifier is 0.9592819439860784\n"
     ]
    }
   ],
   "source": [
    "#Evaluate Performance on Test Data\n",
    "svc_evaluator = BinaryClassificationEvaluator(metricName='areaUnderROC')\n",
    "svc_auroc = svc_evaluator.evaluate(model_predictions)\n",
    "print(f'The auc value of SupportVectorClassifier is {svc_auroc}')\n",
    "\n",
    "svc_evaluator = BinaryClassificationEvaluator(metricName='areaUnderPR')\n",
    "svc_aupr = svc_evaluator.evaluate(model_predictions)\n",
    "print(f'The aupr value of SupportVectorClassifier is {svc_aupr}')\n",
    "\n"
   ]
  },
  {
   "cell_type": "code",
   "execution_count": 27,
   "metadata": {},
   "outputs": [],
   "source": [
    "true_pos = model_predictions.filter(model_predictions['label']==1).filter(model_predictions['prediction']==1).count()\n",
    "actual_pos = model_predictions.filter(model_predictions['label']==1).count\n",
    "pred_pos = model_predictions.filter(model_predictions['prediction']==1).count()\n",
    "\n",
    "\n"
   ]
  },
  {
   "cell_type": "code",
   "execution_count": 28,
   "metadata": {},
   "outputs": [
    {
     "name": "stdout",
     "output_type": "stream",
     "text": [
      "Number of Test record = 299556\n",
      "Overall Accuracy = 0.964531\n",
      "Overall Error Rate = 0.0354692\n",
      "Sensitivity = 0.868608\n",
      "Specificity = 0.975953\n",
      "Precision Score = 0.811359\n",
      "Recall Score = 0.868608\n",
      "F1 Score = 0.839008\n"
     ]
    }
   ],
   "source": [
    "N3 = model_predictions.count()\n",
    "true_positives = model_predictions.filter( col(\"prediction\") == 1.0 ).filter( col(\"label\") == 1.0 ).count()\n",
    "true_negatives = model_predictions.filter( col(\"prediction\") == 0.0 ).filter( col(\"label\") == 0.0 ).count()\n",
    "false_positives = model_predictions.filter( col(\"prediction\") == 1.0 ).filter( col(\"label\") == 0.0 ).count()\n",
    "false_negatives = model_predictions.filter( col(\"prediction\") == 0.0 ).filter( col(\"label\") == 1.0 ).count()\n",
    "print(\"Number of Test record = %g\" % N)\n",
    "print(\"Overall Accuracy = %g\" % ((true_negatives + true_positives)/N3))\n",
    "print(\"Overall Error Rate = %g\" % ((false_negatives + false_positives)/N3))\n",
    "print(\"Sensitivity = %g\" % (true_positives / (true_positives + false_negatives)))\n",
    "print(\"Specificity = %g\" % (true_negatives / (true_negatives + false_positives)))\n",
    "print(\"Precision Score = %g\" % (true_positives/(true_positives + false_positives)))\n",
    "print(\"Recall Score = %g\" % (true_positives/(true_positives + false_negatives)))\n",
    "print(\"F1 Score = %g\" % (2*true_positives/(2*true_positives + false_negatives + false_positives)))"
   ]
  },
  {
   "cell_type": "code",
   "execution_count": null,
   "metadata": {},
   "outputs": [],
   "source": []
  },
  {
   "cell_type": "code",
   "execution_count": 97,
   "metadata": {},
   "outputs": [],
   "source": [
    "num_children = marriage_df.groupBy('Fraud_Alert','Number_of_children').count()"
   ]
  },
  {
   "cell_type": "code",
   "execution_count": 98,
   "metadata": {
    "scrolled": true
   },
   "outputs": [
    {
     "name": "stdout",
     "output_type": "stream",
     "text": [
      "root\n",
      " |-- Number_of_children: string (nullable = true)\n",
      " |-- count: integer (nullable = false)\n",
      "\n",
      "+------------------+------+\n",
      "|Number_of_children| count|\n",
      "+------------------+------+\n",
      "|                 2|195834|\n",
      "|                 5|  7497|\n",
      "|                 3|153451|\n",
      "|                 3| 13846|\n",
      "|                 2| 17513|\n",
      "|                 0| 11614|\n",
      "|                 4| 10004|\n",
      "|                 0|130585|\n",
      "|                 1| 21647|\n",
      "|                 4|109100|\n",
      "|                 1|240960|\n",
      "|                 5| 64007|\n",
      "|                 6| 23942|\n",
      "+------------------+------+\n",
      "\n"
     ]
    }
   ],
   "source": [
    "from pyspark.sql.functions import col\n",
    "from pyspark.sql.types import StringType,BooleanType,DateType\n",
    "num_children = num_children.selectExpr(\"cast(Number_of_children as string) Number_of_children\",\n",
    "                                      \"cast(count as int) count\")\n",
    "num_children.printSchema()\n",
    "num_children.show()"
   ]
  },
  {
   "cell_type": "code",
   "execution_count": null,
   "metadata": {},
   "outputs": [],
   "source": []
  }
 ],
 "metadata": {
  "kernelspec": {
   "display_name": "Python 3 (ipykernel)",
   "language": "python",
   "name": "python3"
  },
  "language_info": {
   "codemirror_mode": {
    "name": "ipython",
    "version": 3
   },
   "file_extension": ".py",
   "mimetype": "text/x-python",
   "name": "python",
   "nbconvert_exporter": "python",
   "pygments_lexer": "ipython3",
   "version": "3.7.3"
  }
 },
 "nbformat": 4,
 "nbformat_minor": 4
}
