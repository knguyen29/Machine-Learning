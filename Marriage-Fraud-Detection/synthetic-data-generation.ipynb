{
 "cells": [
  {
   "cell_type": "markdown",
   "metadata": {
    "id": "fc69a991"
   },
   "source": [
    "# Setup and Imports"
   ]
  },
  {
   "cell_type": "code",
   "execution_count": 1,
   "metadata": {
    "colab": {
     "base_uri": "https://localhost:8080/"
    },
    "id": "bd29b0dc",
    "outputId": "0bdff429-8a51-4294-ff29-14aa0648e8ba"
   },
   "outputs": [
    {
     "name": "stdout",
     "output_type": "stream",
     "text": [
      "Collecting faker\n",
      "  Downloading https://files.pythonhosted.org/packages/16/ba/3add40668ed95febdc43042ccc9f354b21ee44c10ac0af5dee469b464068/Faker-9.8.0-py3-none-any.whl (1.2MB)\n",
      "Collecting typing-extensions>=3.10.0.2; python_version < \"3.8\" (from faker)\n",
      "  Downloading https://files.pythonhosted.org/packages/74/60/18783336cc7fcdd95dae91d73477830aa53f5d3181ae4fe20491d7fc3199/typing_extensions-3.10.0.2-py3-none-any.whl\n",
      "Collecting text-unidecode==1.3 (from faker)\n",
      "  Downloading https://files.pythonhosted.org/packages/a6/a5/c0b6468d3824fe3fde30dbb5e1f687b291608f9473681bbf7dabbf5a87d7/text_unidecode-1.3-py2.py3-none-any.whl (78kB)\n",
      "Requirement already satisfied: python-dateutil>=2.4 in c:\\programdata\\anaconda3\\lib\\site-packages (from faker) (2.8.0)\n",
      "Requirement already satisfied: six>=1.5 in c:\\programdata\\anaconda3\\lib\\site-packages (from python-dateutil>=2.4->faker) (1.12.0)\n",
      "Installing collected packages: typing-extensions, text-unidecode, faker\n",
      "Successfully installed faker-9.8.0 text-unidecode-1.3 typing-extensions-3.10.0.2\n",
      "Requirement already satisfied: scipy in c:\\programdata\\anaconda3\\lib\\site-packages (1.2.1)\n"
     ]
    }
   ],
   "source": [
    "!pip install faker\n",
    "!pip install scipy"
   ]
  },
  {
   "cell_type": "code",
   "execution_count": 2,
   "metadata": {
    "id": "f2b9fae7"
   },
   "outputs": [],
   "source": [
    "import csv\n",
    "import random\n",
    "\n",
    "from faker import Faker\n",
    "from scipy.stats import truncnorm\n",
    "from decimal import Decimal\n",
    "\n",
    "faker = Faker()"
   ]
  },
  {
   "cell_type": "markdown",
   "metadata": {
    "id": "20ac3e0c"
   },
   "source": [
    "# Pseudorandom Value Generation Functions"
   ]
  },
  {
   "cell_type": "code",
   "execution_count": 4,
   "metadata": {
    "id": "6dfd4f45"
   },
   "outputs": [],
   "source": [
    "##\n",
    "# Skewed Normal Distribution Helper Function\n",
    "##\n",
    "def get_truncated_normal(mean=0, sd=1, low=0, upp=10):\n",
    "    return truncnorm(\n",
    "        (low - mean) / sd, (upp - mean) / sd, loc=mean, scale=sd)\n",
    "##\n",
    "# Random Savings Number Distribution\n",
    "# Mean $5,0000, SD $20,000, Lower $0, Upper $80,000\n",
    "# Source: https://www.fool.com/the-ascent/research/average-savings-account-balance/#:~:text=71%25%20of%20Americans%20have%20a,while%20the%20mean%20is%20%2426%2C619.\n",
    "##\n",
    "def random_savings(upp=80000):\n",
    "    return round(get_truncated_normal(mean=4000, sd=20000, low=0, upp=upp).rvs(), 2)\n",
    "\n",
    "##\n",
    "# Random Investments Number Distribution\n",
    "# Mean $25,000, SD $30,000, Lower $0, Upper $200,000\n",
    "# Retirement Account Source: https://www.businessinsider.com/personal-finance/investments-by-age-americans-non-retirement-2020-3\n",
    "##\n",
    "def random_investments(upp=200000):\n",
    "    return round(get_truncated_normal(mean=25000, sd=30000, low=0, upp=upp).rvs(), 2)\n",
    "\n",
    "##\n",
    "# Random Salary Number Distribution\n",
    "# Mean $45,000, SD $30,000, Lower $0, Upper $210,000\n",
    "# Source: https://www.statista.com/statistics/203183/percentage-distribution-of-household-income-in-the-us/\n",
    "##\n",
    "def random_salary(upp=210000, low=10000):\n",
    "    return round(get_truncated_normal(mean=45000, sd=30000, low=low, upp=upp).rvs(), 2)\n",
    "\n",
    "##\n",
    "# Random Age Number Distribution\n",
    "# Mean 30, SD 20, Lower 18, Upper 90\n",
    "##\n",
    "def random_age(mean=30, sd=20, low=18, upp=90):\n",
    "    return int(get_truncated_normal(mean=mean, sd=sd, low=low, upp=upp).rvs())\n",
    "\n",
    "##\n",
    "# Random Event Generator (Used for unlikely events)\n",
    "# Returns True 5% of the Time\n",
    "##\n",
    "def random_event():\n",
    "    return random.randint(0,19) == 1\n",
    "\n",
    "##\n",
    "# Random Ethnicity Generator\n",
    "# Selects a random choice from a list of ethnicities\n",
    "##\n",
    "def random_ethnicity():\n",
    "    return random.choice(['White', 'Hispanic or Latino', \n",
    "                          'Black or African American', 'Native American or American Indian',\n",
    "                          'Asian / Pacific Islander', 'Other'])\n",
    "\n",
    "##\n",
    "# Random Gender Generator\n",
    "# Selects a random gender with 50% odds\n",
    "##\n",
    "def random_gender():\n",
    "    return 'MALE' if random.randint(0,1) == 0 else 'FEMALE'\n",
    "\n",
    "##\n",
    "# Random Criminal History Generator\n",
    "# Gives someone a criminal history 1% of the time\n",
    "##\n",
    "def random_criminal_history():\n",
    "    return random.randint(1,100) <= 0\n",
    "\n",
    "##\n",
    "# Random Education Generator\n",
    "# Selects a random choice from a list of educational backgrounds\n",
    "##\n",
    "def random_education():\n",
    "    return random.choice(['None','Some High School','High School',\n",
    "                          'Some College', 'Bachelors Degree', 'Graduate Degree'])\n",
    "\n",
    "##\n",
    "# Random Religion Generator\n",
    "# Selects a random choice from a list of religious backgrounds\n",
    "##\n",
    "def random_religion():\n",
    "    return random.choice(['Christian', 'Muslim', 'Atheist', 'Hindu', \n",
    "                          'Buddhist', 'Chinese Traditional', 'Other'])\n",
    "\n",
    "##\n",
    "# Random Language Generator\n",
    "# Selects a random choice from a list of languages\n",
    "##\n",
    "def random_language():\n",
    "    return random.choice(['English', 'Mandarin', 'Hindi', \n",
    "                          'Spanish', 'French', 'Arabic', \n",
    "                          'Bengali', 'Russian', 'Other'])\n",
    "\n",
    "##\n",
    "# Random Children Count Distribution\n",
    "# Mean 2, SD 2, Lower 0, Upper 7\n",
    "##\n",
    "def random_children_count():\n",
    "    return int(get_truncated_normal(mean=2, sd=2, low=0, upp=7).rvs())\n",
    "\n",
    "##\n",
    "# Random Previous Marriage Count Normal Distribution\n",
    "# Mean 0, SD 1, Lower 0, Upper 5\n",
    "##\n",
    "def random_previous_marriage_count(mean=0, sd=1.5, low=0, upp=5):\n",
    "    return int(get_truncated_normal(mean=mean, sd=sd, low=low, upp=upp).rvs())\n",
    "\n",
    "##\n",
    "# Random Marriage Years Normal Distribution\n",
    "# Mean 8, SD 10, Lower 1, Upper 40\n",
    "# Based on average marriage of 8.2 years\n",
    "##\n",
    "def random_marriage_years():\n",
    "    return int(get_truncated_normal(mean=8, sd=10, low=1, upp=40).rvs())\n",
    "\n",
    "##\n",
    "# Random Dating Months Normal Distribution\n",
    "# Mean 18, SD 6, Lower 0, Upper 40\n",
    "# Based on average months to engaged of 12-18 months\n",
    "##\n",
    "def random_dating_months():\n",
    "    return int(get_truncated_normal(mean=18, sd=6, low=0, upp=40).rvs())\n",
    "\n",
    "##\n",
    "# Random Joint Bank Account Recent Generator\n",
    "# 10% Chance that they recently opened a joint bank account together\n",
    "##\n",
    "def random_recent_join_bank_account():\n",
    "    return random.randint(1,10) == 1\n",
    "\n",
    "##\n",
    "# Randomly Nervous at Interview Generator\n",
    "# 20% chance that they are nervous at the interview\n",
    "##\n",
    "def random_nervousness_at_interview():\n",
    "    return random.randint(1,5) == 1"
   ]
  },
  {
   "cell_type": "markdown",
   "metadata": {
    "id": "32d93280"
   },
   "source": [
    "# Generate a non-fraud Record"
   ]
  },
  {
   "cell_type": "code",
   "execution_count": 5,
   "metadata": {
    "id": "70cbeda3"
   },
   "outputs": [],
   "source": [
    "def get_standard_record(fraudulent):\n",
    "    num_previous_marriages = 0\n",
    "    age = random_age()\n",
    "    spouse_age = random_age(mean=age, sd=1, low=18, upp=90)\n",
    "    ethnicity = random_ethnicity()\n",
    "    religion = random_religion()\n",
    "    language = random_language()\n",
    "    address = faker.address()\n",
    "    \n",
    "    return {\n",
    "        'Balance of Savings and Checkings account (I-864)': random_savings(),\n",
    "        'Current cash value of stocks, bonds, etc. (I-864)': random_investments(),\n",
    "        'Annual Income (I-864)': random_salary(), \n",
    "        'Country of Birth (I-130)': faker.country(), \n",
    "        'First Petition for Beneficiary (I-130)': random_event(),\n",
    "        'Beneficiary Ever in Immigration Proceedings (I-130)': random_event(), \n",
    "        'Criminal History (N-400)': random_criminal_history(),\n",
    "        'Age': age, \n",
    "        'Spouse - Age (I-130)': spouse_age, \n",
    "        'Gender': random_gender(),\n",
    "        'Job': faker.job(), \n",
    "        'Education': random_education(), \n",
    "        'Race/Ethnicity (I-130)': ethnicity,\n",
    "        'Spouse - Race/Ethnicity (I-130)': ethnicity,\n",
    "        'Religion (I-130)': religion,\n",
    "        'Spouse - Religion (I-130)': religion,\n",
    "        'Language (I-130)': language,\n",
    "        'Spouse - Language (I-130)': language,\n",
    "        'Children Count (I-130)': random_children_count(), \n",
    "        'Address (I-130)': address,\n",
    "        'Spouse - Address (I-130)': address,\n",
    "        'Number of Previous Marriages (I-130)': num_previous_marriages, \n",
    "        'Length of Marriage 1 - Years (I-130)': random_marriage_years() if num_previous_marriages >= 1 else 0, \n",
    "        'Length of Marriage 2 - Years (I-130)': random_marriage_years() if num_previous_marriages >= 2 else 0, \n",
    "        'Length of Marriage 3 - Years (I-130)': random_marriage_years() if num_previous_marriages >= 3 else 0, \n",
    "        'Length of Marriage 4 - Years (I-130)': random_marriage_years() if num_previous_marriages >= 4 else 0, \n",
    "        'Length of Marriage 5 - Years (I-130)': random_marriage_years() if num_previous_marriages >= 5 else 0, \n",
    "        'Dating Length (I-130 Interview)': random_dating_months(), \n",
    "        'Recent Joint Bank Accounts (I-130 Interview)': random_recent_join_bank_account(),\n",
    "        'Nervousness at I-130 Interview (I-130 Interview)': random_nervousness_at_interview(),\n",
    "        'Known Fradulent': fraudulent,\n",
    "        'Reasons': 'None Known' # For Debugging\n",
    "    }"
   ]
  },
  {
   "cell_type": "markdown",
   "metadata": {
    "id": "1b2fc70d"
   },
   "source": [
    "# Define Conditions from the QVM"
   ]
  },
  {
   "cell_type": "code",
   "execution_count": 6,
   "metadata": {
    "id": "a807c709"
   },
   "outputs": [],
   "source": [
    "##\n",
    "# 1 to 3 indicators that show Poor Financial Status\n",
    "##\n",
    "def poor_financial_status(record):\n",
    "    indicator_count = random.randint(1,3)\n",
    "    if indicator_count >= 1:\n",
    "        record['Balance of Savings and Checkings account (I-864)'] = random_savings(upp=5000)\n",
    "    if indicator_count >= 2:\n",
    "        record['Current cash value of stocks, bonds, etc. (I-864)'] = random_investments(upp=1000)\n",
    "    if indicator_count >= 3:\n",
    "        record['Annual Income (I-864)'] = random_salary(upp=15000, low=0)\n",
    "    \n",
    "    return record\n",
    "\n",
    "##\n",
    "# Singular condition for being from a high fraud country\n",
    "##\n",
    "# Source: https://mypathtocitizenship.com/which-countries-are-on-the-uscis-high-fraud-list/\n",
    "def high_fraud_countries(record):\n",
    "    high_fraud_countries = ['Nigeria', 'India', 'Ghana', 'Morocco', \n",
    "                            'Yemen', 'Kenya', 'Pakistan', 'China', 'Philippines', 'Mexico']\n",
    "    record['Country of Birth (I-130)'] = random.choice(high_fraud_countries)\n",
    "    return record\n",
    "\n",
    "##\n",
    "# Has multiple open petitions\n",
    "##\n",
    "def multiple_open_petitions(record):\n",
    "    record['First Petition for Beneficiary (I-130)'] = True\n",
    "    return record\n",
    "\n",
    "##\n",
    "# Has multiple immigration proceedings\n",
    "##\n",
    "def multiple_immigration_proceedings(record):\n",
    "    record['Beneficiary Ever in Immigration Proceedings (I-130)'] = True\n",
    "    return record\n",
    "\n",
    "##\n",
    "# Has a criminal history\n",
    "##\n",
    "def criminal_history(record):\n",
    "    record['Criminal History (N-400)'] = True\n",
    "    return record\n",
    "\n",
    "##\n",
    "# Has an inconsistent age, job, and education combination\n",
    "##\n",
    "# TODO refine further. Filler for now.\n",
    "def inconsistent_occupation(record):\n",
    "    record['Age'] = random_age(upp=21)\n",
    "    record['Job'] = random.choice(['Doctor', 'Lawyer'])\n",
    "    record['Education'] = random.choice(['None','Some High School','High School', 'Some College'])\n",
    "    return record\n",
    "    \n",
    "##\n",
    "# 1 to 3 indicators that show spouses share cultural differences\n",
    "##\n",
    "def cultural_differences(record):\n",
    "    indicator_count = random.randint(1,3)\n",
    "    if indicator_count >= 1:\n",
    "        ethnicities = random.sample(['White', 'Hispanic or Latino', \n",
    "                          'Black or African American', 'Native American or American Indian',\n",
    "                          'Asian / Pacific Islander', 'Other'], 2)\n",
    "        record['Race/Ethnicity (I-130)'] = ethnicities[0]\n",
    "        record['Spouse - Race/Ethnicity (I-130)'] = ethnicities[1]\n",
    "    if indicator_count >= 2:\n",
    "        religions = random.sample(['Christian', 'Muslim', 'Atheist', 'Hindu', \n",
    "                          'Buddhist', 'Chinese Traditional', 'Other'], 2)\n",
    "        record['Religion (I-130)'] = religions[0]\n",
    "        record['Spouse - Religion (I-130)'] = religions[1]\n",
    "    if indicator_count >= 3:\n",
    "        languages = random.sample(['English', 'Mandarin', 'Hindi', \n",
    "                          'Spanish', 'French', 'Arabic', \n",
    "                          'Bengali', 'Russian', 'Other'], 2)\n",
    "        record['Language (I-130)'] = languages[0]\n",
    "        record['Spouse - Language (I-130)'] = languages[1]\n",
    "    \n",
    "    return record\n",
    "##\n",
    "# 1 to 5 indicators for poor marital factors\n",
    "##\n",
    "def marital_factors(record):\n",
    "    indicator_count = random.randint(1,5)\n",
    "    if indicator_count >= 1:\n",
    "        record['Children Count (I-130)'] = 5\n",
    "    if indicator_count >= 2:\n",
    "        record['Spouse - Age (I-130)'] = record['Age'] + random.randint(20,50)\n",
    "    if indicator_count >= 3:\n",
    "        record['Address (I-130)'] = faker.address()\n",
    "        record['Spouse - Address (I-130)'] = faker.address()\n",
    "    if indicator_count >= 4:\n",
    "        num_previous_marriages = random.randint(2,5)\n",
    "        record['Number of Previous Marriages (I-130)'] = num_previous_marriages\n",
    "        record['Length of Marriage 1 - Years (I-130)'] = random_marriage_years() if num_previous_marriages >= 1 else 0 \n",
    "        record['Length of Marriage 2 - Years (I-130)'] = random_marriage_years() if num_previous_marriages >= 2 else 0\n",
    "        record['Length of Marriage 3 - Years (I-130)'] = random_marriage_years() if num_previous_marriages >= 3 else 0\n",
    "        record['Length of Marriage 4 - Years (I-130)'] = random_marriage_years() if num_previous_marriages >= 4 else 0\n",
    "        record['Length of Marriage 5 - Years (I-130)'] = random_marriage_years() if num_previous_marriages >= 5 else 0\n",
    "    if indicator_count >= 5:\n",
    "        record['Dating Length (I-130 Interview)'] = random.randint(0,3)\n",
    "        \n",
    "    return record\n",
    "\n",
    "##\n",
    "# 1 to 2 indicators for miscellaneous factors\n",
    "##\n",
    "def misc_factors(record):\n",
    "    indicator_count = random.randint(1,2)\n",
    "    if indicator_count >= 1:\n",
    "        record['Recent Joint Bank Accounts (I-130 Interview)'] = True\n",
    "    if indicator_count >= 2:\n",
    "        record['Nervousness at I-130 Interview (I-130 Interview)'] = True\n",
    "        \n",
    "    return record\n",
    "        \n",
    "##\n",
    "# All fraudulent marker functions from the QVM in a list\n",
    "##\n",
    "fraudulent_markers = [poor_financial_status, high_fraud_countries, multiple_open_petitions, \n",
    "                      multiple_immigration_proceedings, criminal_history, inconsistent_occupation, \n",
    "                      cultural_differences, marital_factors, misc_factors]"
   ]
  },
  {
   "cell_type": "markdown",
   "metadata": {
    "id": "51e67561"
   },
   "source": [
    "# Generate a fraudulent record\n",
    "## Randomly selects a number of fraudulent markers\n",
    "## Also randomly selects a sample of which functions to apply to the record"
   ]
  },
  {
   "cell_type": "code",
   "execution_count": 7,
   "metadata": {
    "id": "443aecb9"
   },
   "outputs": [],
   "source": [
    "def get_fraudulent_record(record):\n",
    "    n = int(get_truncated_normal(mean=2, sd=3, low=1, upp=len(fraudulent_markers)).rvs())\n",
    "    \n",
    "    fraudulent_functions = random.sample(fraudulent_markers, n)\n",
    "    fradulence_reasons = []\n",
    "    for func in fraudulent_functions:\n",
    "        record = func(record)\n",
    "        fradulence_reasons.append(func.__name__)\n",
    "        \n",
    "    record['Reasons'] = ', '.join(fradulence_reasons)\n",
    "    return record\n",
    "\n",
    "record = get_standard_record(True)\n",
    "record = get_fraudulent_record(record)"
   ]
  },
  {
   "cell_type": "markdown",
   "metadata": {
    "id": "afb2e71a"
   },
   "source": [
    "# Generate the CSV\n",
    "## Define Record Count and Rough % that should be Fraud"
   ]
  },
  {
   "cell_type": "code",
   "execution_count": 8,
   "metadata": {
    "colab": {
     "base_uri": "https://localhost:8080/"
    },
    "id": "de977989",
    "outputId": "e9ffccc0-6b85-431c-8c05-59ac2d9515ce"
   },
   "outputs": [
    {
     "name": "stdout",
     "output_type": "stream",
     "text": [
      "10000 records generated.\n",
      "20000 records generated.\n",
      "30000 records generated.\n",
      "40000 records generated.\n",
      "50000 records generated.\n",
      "60000 records generated.\n",
      "70000 records generated.\n",
      "80000 records generated.\n",
      "90000 records generated.\n",
      "100000 records generated.\n",
      "110000 records generated.\n",
      "120000 records generated.\n",
      "130000 records generated.\n",
      "140000 records generated.\n",
      "150000 records generated.\n",
      "160000 records generated.\n",
      "170000 records generated.\n",
      "180000 records generated.\n",
      "190000 records generated.\n",
      "200000 records generated.\n",
      "210000 records generated.\n",
      "220000 records generated.\n",
      "230000 records generated.\n",
      "240000 records generated.\n",
      "250000 records generated.\n",
      "260000 records generated.\n",
      "270000 records generated.\n",
      "280000 records generated.\n",
      "290000 records generated.\n",
      "300000 records generated.\n",
      "310000 records generated.\n",
      "320000 records generated.\n",
      "330000 records generated.\n",
      "340000 records generated.\n",
      "350000 records generated.\n",
      "360000 records generated.\n",
      "370000 records generated.\n",
      "380000 records generated.\n",
      "390000 records generated.\n",
      "400000 records generated.\n",
      "410000 records generated.\n",
      "420000 records generated.\n",
      "430000 records generated.\n",
      "440000 records generated.\n",
      "450000 records generated.\n",
      "460000 records generated.\n",
      "470000 records generated.\n",
      "480000 records generated.\n",
      "490000 records generated.\n",
      "500000 records generated.\n",
      "510000 records generated.\n",
      "520000 records generated.\n",
      "530000 records generated.\n",
      "540000 records generated.\n",
      "550000 records generated.\n",
      "560000 records generated.\n",
      "570000 records generated.\n",
      "580000 records generated.\n",
      "590000 records generated.\n",
      "600000 records generated.\n",
      "610000 records generated.\n",
      "620000 records generated.\n",
      "630000 records generated.\n",
      "640000 records generated.\n",
      "650000 records generated.\n",
      "660000 records generated.\n",
      "670000 records generated.\n",
      "680000 records generated.\n",
      "690000 records generated.\n",
      "700000 records generated.\n",
      "710000 records generated.\n",
      "720000 records generated.\n",
      "730000 records generated.\n",
      "740000 records generated.\n",
      "750000 records generated.\n",
      "760000 records generated.\n",
      "770000 records generated.\n",
      "780000 records generated.\n",
      "790000 records generated.\n",
      "800000 records generated.\n",
      "810000 records generated.\n",
      "820000 records generated.\n",
      "830000 records generated.\n",
      "840000 records generated.\n",
      "850000 records generated.\n",
      "860000 records generated.\n",
      "870000 records generated.\n",
      "880000 records generated.\n",
      "890000 records generated.\n",
      "900000 records generated.\n",
      "910000 records generated.\n",
      "920000 records generated.\n",
      "930000 records generated.\n",
      "940000 records generated.\n",
      "950000 records generated.\n",
      "960000 records generated.\n",
      "970000 records generated.\n",
      "980000 records generated.\n",
      "990000 records generated.\n",
      "1000000 records generated.\n",
      "50227 are Fraudulent\n"
     ]
    }
   ],
   "source": [
    "import time\n",
    "start = time.time()\n",
    "\n",
    "RECORD_COUNT = 1100000\n",
    "ROUGH_PERCENT_FRAUD = 6\n",
    "\n",
    "\n",
    "def create_csv_file():\n",
    "    number_fraud = 0\n",
    "    with open('synthetic-data-dev.csv', 'w', newline='') as csvfile:\n",
    "        fieldnames = get_standard_record(False)\n",
    "        writer = csv.DictWriter(csvfile, fieldnames=fieldnames)\n",
    "\n",
    "        writer.writeheader()\n",
    "        \n",
    "        for i in range(RECORD_COUNT):\n",
    "            if (i+1) % 10000 == 0:\n",
    "                print('%s records generated.' % str(i+1))\n",
    "                \n",
    "            row_json = {}\n",
    "            \n",
    "            fraudulent = random.randint(1,100) <= ROUGH_PERCENT_FRAUD\n",
    "            record = get_standard_record(fraudulent)\n",
    "            \n",
    "            if fraudulent:\n",
    "                number_fraud += 1\n",
    "                record = get_fraudulent_record(record)\n",
    "            \n",
    "            for field in record.keys():\n",
    "                row_json[field] = str(record[field]).replace(\"\\n\", \"\")\n",
    "                \n",
    "            writer.writerow(row_json)\n",
    "    \n",
    "    print('%s are Fraudulent' % str(number_fraud))\n",
    "            \n",
    "create_csv_file()\n",
    "\n",
    "end = time.time()\n",
    "print(\"The time of execution for\", RECORD_COUNT , \"records is :\", end-start)"
   ]
  },
  {
   "cell_type": "markdown",
   "metadata": {
    "id": "9KeMdsDnciev"
   },
   "source": [
    "# View Distributions of Data"
   ]
  },
  {
   "cell_type": "code",
   "execution_count": 31,
   "metadata": {
    "colab": {
     "base_uri": "https://localhost:8080/",
     "height": 1000
    },
    "id": "9058c72b",
    "outputId": "de00c458-f098-4f13-9cb1-eddf27b037ad",
    "scrolled": false
   },
   "outputs": [
    {
     "data": {
      "image/png": "[encoded data removed]",
      "text/plain": [
       "<Figure size 432x288 with 1 Axes>"
      ]
     },
     "metadata": {
      "needs_background": "light"
     },
     "output_type": "display_data"
    },
    {
     "data": {
      "image/png": "[encoded data removed]",
      "text/plain": [
       "<Figure size 432x288 with 1 Axes>"
      ]
     },
     "metadata": {
      "needs_background": "light"
     },
     "output_type": "display_data"
    },
    {
     "data": {
      "image/png": "[encoded data removed]",
      "text/plain": [
       "<Figure size 432x288 with 1 Axes>"
      ]
     },
     "metadata": {
      "needs_background": "light"
     },
     "output_type": "display_data"
    },
    {
     "data": {
      "image/png": "[encoded data removed]",
      "text/plain": [
       "<Figure size 432x288 with 1 Axes>"
      ]
     },
     "metadata": {
      "needs_background": "light"
     },
     "output_type": "display_data"
    },
    {
     "data": {
      "image/png": "[encoded data removed]",
      "text/plain": [
       "<Figure size 432x288 with 1 Axes>"
      ]
     },
     "metadata": {
      "needs_background": "light"
     },
     "output_type": "display_data"
    },
    {
     "data": {
      "image/png": "[encoded data removed]",
      "text/plain": [
       "<Figure size 432x288 with 1 Axes>"
      ]
     },
     "metadata": {
      "needs_background": "light"
     },
     "output_type": "display_data"
    }
   ],
   "source": [
    "import pandas as pd\n",
    "import matplotlib.pyplot as plt\n",
    "\n",
    "df = pd.read_csv('../../Data/Synthetic/synthetic-data-dev.csv')\n",
    "\n",
    "df['Age_Gap'] = abs(df['Age'] - df['Spouse - Age (I-130)'])\n",
    "df['Same_Language'] = (df['Language (I-130)'] == df['Spouse - Language (I-130)']).astype(int)\n",
    "df['Same_Address'] = (df['Address (I-130)'] == df['Spouse - Address (I-130)']).astype(int)\n",
    "\n",
    "interested_fields = [\n",
    "        'Annual Income (I-864)',\n",
    "        'Number of Previous Marriages (I-130)',\n",
    "        'Same_Language',\n",
    "        'Age_Gap',\n",
    "        'Same_Address',\n",
    "        'Children Count (I-130)'\n",
    "]\n",
    "\n",
    "for field in interested_fields:\n",
    "    plt.hist(df[field], bins=200, density=True)\n",
    "    plt.title(field)\n",
    "    plt.show()"
   ]
  },
  {
   "cell_type": "code",
   "execution_count": null,
   "metadata": {
    "id": "ydaMIGaMcp9w"
   },
   "outputs": [],
   "source": []
  },
  {
   "cell_type": "code",
   "execution_count": null,
   "metadata": {
    "id": "HWfBRj2SeWWA"
   },
   "outputs": [],
   "source": []
  }
 ],
 "metadata": {
  "colab": {
   "name": "Synthetic Marriage Fraud Data Generation",
   "provenance": []
  },
  "kernelspec": {
   "display_name": "Python 3",
   "language": "python",
   "name": "python3"
  },
  "language_info": {
   "codemirror_mode": {
    "name": "ipython",
    "version": 3
   },
   "file_extension": ".py",
   "mimetype": "text/x-python",
   "name": "python",
   "nbconvert_exporter": "python",
   "pygments_lexer": "ipython3",
   "version": "3.7.3"
  }
 },
 "nbformat": 4,
 "nbformat_minor": 5
}
