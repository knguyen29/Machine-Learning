{
 "cells": [
  {
   "cell_type": "code",
   "execution_count": 2,
   "metadata": {},
   "outputs": [
    {
     "data": {
      "text/html": [
       "<style>.container { width:120% !important; }</style>"
      ],
      "text/plain": [
       "<IPython.core.display.HTML object>"
      ]
     },
     "metadata": {},
     "output_type": "display_data"
    }
   ],
   "source": [
    "import findspark\n",
    "findspark.init()\n",
    "import pyspark\n",
    "from pyspark import SparkContext\n",
    "from pyspark import SQLContext\n",
    "from pyspark.context import SparkContext\n",
    "from pyspark.sql import SparkSession  #Main entry point for DataFrame and SQL functionality.\n",
    "from pyspark.sql import DataFrame #A distributed collection of data grouped into named columns.\n",
    "from pyspark.sql import Column #A column expression in a DataFrame.\n",
    "from pyspark.sql import Row #A row of data in a DataFrame.\n",
    "from pyspark.sql import GroupedData #Aggregation methods, returned by DataFrame.groupBy().\n",
    "from pyspark.sql import DataFrameNaFunctions #Methods for handling missing data (null values).\n",
    "from pyspark.sql import DataFrameStatFunctions #Methods for statistics functionality.\n",
    "from pyspark.sql import functions #List of built-in functions available for DataFrame.\n",
    "from pyspark.sql import types #List of data types available.\n",
    "from pyspark.sql import Window #For working with window functions.\n",
    "from pyspark import SparkConf\n",
    "from pyspark.sql import *\n",
    "from pyspark.sql.functions import *\n",
    "from pyspark.sql.types import ArrayType, StructField, StructType, StringType, IntegerType\n",
    "from pyspark.sql.functions import explode\n",
    "from pyspark.sql.functions import row_number, monotonically_increasing_id\n",
    "import matplotlib.pyplot as plt\n",
    "import numpy as np\n",
    "from pyspark.sql.functions import when\n",
    "\n",
    "from IPython.core.display import display, HTML\n",
    "display(HTML(\"<style>.container { width:120% !important; }</style>\"))"
   ]
  },
  {
   "cell_type": "code",
   "execution_count": 3,
   "metadata": {},
   "outputs": [
    {
     "name": "stdout",
     "output_type": "stream",
     "text": [
      "Wall time: 114 ms\n"
     ]
    },
    {
     "data": {
      "text/plain": [
       "array([0, 0, 0, 0, 0, 0, 0, 0, 0, 1, 0, 0, 0, 0, 0, 0, 0, 0, 0, 0, 0, 1,\n",
       "       0, 0, 0, 0, 0, 0, 0, 0, 0, 0, 0, 0, 0, 0, 0, 0, 0, 0, 0, 0, 0, 0,\n",
       "       0, 0, 0, 0, 0, 0, 0, 0, 0, 1, 0, 0, 0, 0, 0, 0, 0, 0, 0, 0, 0, 0,\n",
       "       0, 0, 0, 0, 0, 0, 0, 0, 0, 0, 0, 0, 0, 0, 0, 0, 0, 0, 0, 0, 0, 0,\n",
       "       0, 0, 0, 0, 0, 0, 0, 0, 0, 0, 0])"
      ]
     },
     "execution_count": 3,
     "metadata": {},
     "output_type": "execute_result"
    }
   ],
   "source": [
    "%%time\n",
    "np.random.seed(552)\n",
    "Different_Language = np.random.choice([0, 1], size=1000000, p=[95/100, 5/100])\n",
    "Different_Address = np.random.choice([0, 1], size=1000000, p=[95/100, 5/100])\n",
    "Criminal_history = np.random.choice([0, 1], size=1000000, p=[95/100, 5/100])\n",
    "Criminal_history[1:100]\n"
   ]
  },
  {
   "cell_type": "code",
   "execution_count": 4,
   "metadata": {
    "scrolled": true
   },
   "outputs": [
    {
     "name": "stdout",
     "output_type": "stream",
     "text": [
      "Wall time: 360 ms\n"
     ]
    },
    {
     "data": {
      "image/png": "[encoded data removed]",
      "text/plain": [
       "<Figure size 864x576 with 1 Axes>"
      ]
     },
     "metadata": {
      "needs_background": "light"
     },
     "output_type": "display_data"
    }
   ],
   "source": [
    "%%time\n",
    "np.random.seed(552)\n",
    "Income = np.random.triangular(5000, 50000, 250000, 1000000).astype(int)\n",
    "Income\n",
    "plt.figure(figsize=(12,8))\n",
    "h = plt.hist(Income, bins=500, density=True)"
   ]
  },
  {
   "cell_type": "code",
   "execution_count": 5,
   "metadata": {},
   "outputs": [
    {
     "name": "stdout",
     "output_type": "stream",
     "text": [
      "Wall time: 90 ms\n"
     ]
    }
   ],
   "source": [
    "%%time\n",
    "np.random.seed(552)\n",
    "Age_gap = np.random.triangular(0, 1, 30, 1000000).astype(int)\n",
    "Number_of_children = np.random.triangular(0, 1, 7, 1000000).astype(int)\n",
    "Number_of_divorce = np.random.triangular(0, 1, 6, 1000000).astype(int)\n",
    "\n"
   ]
  },
  {
   "cell_type": "code",
   "execution_count": 6,
   "metadata": {},
   "outputs": [],
   "source": []
  },
  {
   "cell_type": "code",
   "execution_count": 7,
   "metadata": {},
   "outputs": [
    {
     "name": "stdout",
     "output_type": "stream",
     "text": [
      "Wall time: 0 ns\n"
     ]
    }
   ],
   "source": [
    "%%time\n",
    "\n",
    "numdivorce1 = Number_of_divorce.T\n",
    "#print(numdivorce1[1:10])\n",
    "numchild1 = Number_of_children.T\n",
    "age_gap1 = Age_gap.T\n",
    "income1 = Income.T\n",
    "Diff_Language1 = Different_Language.T\n",
    "Diff_Address1 = Different_Address.T\n",
    "Criminal_history1 = Criminal_history.T\n"
   ]
  },
  {
   "cell_type": "code",
   "execution_count": 8,
   "metadata": {},
   "outputs": [],
   "source": [
    "appName = \"Data Generator\"\n",
    "master = \"local\"\n",
    "\n",
    "# Create Spark session\n",
    "spark = SparkSession.builder \\\n",
    "    .appName(appName) \\\n",
    "    .master(master) \\\n",
    "    .getOrCreate()"
   ]
  },
  {
   "cell_type": "code",
   "execution_count": 9,
   "metadata": {},
   "outputs": [
    {
     "name": "stdout",
     "output_type": "stream",
     "text": [
      "Wall time: 85 ms\n"
     ]
    }
   ],
   "source": [
    "%%time\n",
    "#data = [(\"Income\", Income), (\"Age_gap\", Age_gap), (\"Number_of_children\", Number_of_children), (\"Number_of_divorce\", Number_of_divorce)] \n",
    "#data = [Income.tolist(), Age_gap.tolist(), Number_of_children.tolist(), Number_of_divorce.tolist()] \n",
    "data = [age_gap1.tolist(), income1.tolist(), numchild1.tolist(), numdivorce1.tolist(), Diff_Language1.tolist(), \\\n",
    "Diff_Address1.tolist(), Criminal_history1.tolist()]\n"
   ]
  },
  {
   "cell_type": "code",
   "execution_count": 10,
   "metadata": {
    "scrolled": false
   },
   "outputs": [
    {
     "name": "stdout",
     "output_type": "stream",
     "text": [
      "ParallelCollectionRDD[0] at parallelize at PythonRDD.scala:195\n",
      "Wall time: 651 ms\n"
     ]
    }
   ],
   "source": [
    "%%time\n",
    "# Create a schema for the dataframe\n",
    "schema = StructType([\n",
    "    StructField('Age_gap', ArrayType(IntegerType(), True), True),\n",
    "    StructField('Income', ArrayType(IntegerType(), True), True),\n",
    "    StructField('Number_of_children', ArrayType(IntegerType(), True), True),\n",
    "    StructField('Number_of_divorce', ArrayType(IntegerType(), True), True),\n",
    "    StructField('Different_Language', ArrayType(IntegerType(), True), True),\n",
    "    StructField('Different_Address', ArrayType(IntegerType(), True), True),\n",
    "    StructField('Criminal_history', ArrayType(IntegerType(), True), True),\n",
    "])\n",
    "\n",
    "# Convert list to RDD\n",
    "rdd = spark.sparkContext.parallelize([data])\n",
    "print(rdd)"
   ]
  },
  {
   "cell_type": "code",
   "execution_count": 11,
   "metadata": {},
   "outputs": [
    {
     "name": "stdout",
     "output_type": "stream",
     "text": [
      "root\n",
      " |-- Age_gap: array (nullable = true)\n",
      " |    |-- element: integer (containsNull = true)\n",
      " |-- Income: array (nullable = true)\n",
      " |    |-- element: integer (containsNull = true)\n",
      " |-- Number_of_children: array (nullable = true)\n",
      " |    |-- element: integer (containsNull = true)\n",
      " |-- Number_of_divorce: array (nullable = true)\n",
      " |    |-- element: integer (containsNull = true)\n",
      " |-- Different_Language: array (nullable = true)\n",
      " |    |-- element: integer (containsNull = true)\n",
      " |-- Different_Address: array (nullable = true)\n",
      " |    |-- element: integer (containsNull = true)\n",
      " |-- Criminal_history: array (nullable = true)\n",
      " |    |-- element: integer (containsNull = true)\n",
      "\n",
      "+--------------------+--------------------+--------------------+--------------------+--------------------+--------------------+--------------------+\n",
      "|             Age_gap|              Income|  Number_of_children|   Number_of_divorce|  Different_Language|   Different_Address|    Criminal_history|\n",
      "+--------------------+--------------------+--------------------+--------------------+--------------------+--------------------+--------------------+\n",
      "|[1, 6, 7, 16, 3, ...|[30578, 76397, 82...|[0, 3, 0, 1, 1, 0...|[4, 1, 4, 3, 3, 2...|[0, 0, 0, 0, 0, 0...|[0, 0, 0, 0, 0, 0...|[0, 0, 0, 0, 0, 0...|\n",
      "+--------------------+--------------------+--------------------+--------------------+--------------------+--------------------+--------------------+\n",
      "\n",
      "Wall time: 26.4 s\n"
     ]
    }
   ],
   "source": [
    "%%time\n",
    "# Create data frame\n",
    "df = spark.createDataFrame(rdd,schema)\n",
    "df.printSchema()\n",
    "df.show()"
   ]
  },
  {
   "cell_type": "code",
   "execution_count": 12,
   "metadata": {},
   "outputs": [
    {
     "name": "stdout",
     "output_type": "stream",
     "text": [
      "+----------------+\n",
      "|Criminal_history|\n",
      "+----------------+\n",
      "|               0|\n",
      "|               0|\n",
      "|               0|\n",
      "|               0|\n",
      "|               0|\n",
      "|               0|\n",
      "|               0|\n",
      "|               0|\n",
      "|               0|\n",
      "|               0|\n",
      "+----------------+\n",
      "only showing top 10 rows\n",
      "\n",
      "Wall time: 18.8 s\n"
     ]
    }
   ],
   "source": [
    "%%time\n",
    "from pyspark.sql.functions import explode\n",
    "df2 = df.select(explode(df.Age_gap).alias(\"Age_gap\"))\n",
    "#df2.show(10)\n",
    "df3 = df.select(explode(df.Income).alias(\"Income\"))\n",
    "#df3.show(10)\n",
    "df4 = df.select(explode(df.Number_of_children).alias(\"Number_of_children\"))\n",
    "#df4.show(10)\n",
    "df5 = df.select(explode(df.Number_of_divorce).alias(\"Number_of_divorce\"))\n",
    "#df5.show(10)\n",
    "df6 = df.select(explode(df.Different_Language).alias(\"Different_Language\"))\n",
    "#df6.show(10)\n",
    "df7 = df.select(explode(df.Different_Address).alias(\"Different_Address\"))\n",
    "#df7.show(10)\n",
    "df8 = df.select(explode(df.Criminal_history).alias(\"Criminal_history\"))\n",
    "df8.show(10)\n",
    "\n"
   ]
  },
  {
   "cell_type": "code",
   "execution_count": 13,
   "metadata": {},
   "outputs": [
    {
     "name": "stdout",
     "output_type": "stream",
     "text": [
      "+----------------+---+\n",
      "|Criminal_history| id|\n",
      "+----------------+---+\n",
      "|               0|  0|\n",
      "|               0|  1|\n",
      "|               0|  2|\n",
      "|               0|  3|\n",
      "|               0|  4|\n",
      "|               0|  5|\n",
      "|               0|  6|\n",
      "|               0|  7|\n",
      "|               0|  8|\n",
      "|               0|  9|\n",
      "+----------------+---+\n",
      "only showing top 10 rows\n",
      "\n",
      "Wall time: 20 s\n"
     ]
    }
   ],
   "source": [
    "%%time\n",
    "from pyspark.sql.functions import row_number, monotonically_increasing_id\n",
    "#Add column \"id\" for joining\n",
    "df2 = df2.withColumn(\"id\", monotonically_increasing_id())\n",
    "df3 = df3.withColumn(\"id\", monotonically_increasing_id())\n",
    "df4 = df4.withColumn(\"id\", monotonically_increasing_id())\n",
    "df5 = df5.withColumn(\"id\", monotonically_increasing_id())\n",
    "df6 = df6.withColumn(\"id\", monotonically_increasing_id())\n",
    "df7 = df7.withColumn(\"id\", monotonically_increasing_id())\n",
    "df8 = df8.withColumn(\"id\", monotonically_increasing_id())\n",
    "\n",
    "df8.show(10)\n",
    "\n"
   ]
  },
  {
   "cell_type": "code",
   "execution_count": 14,
   "metadata": {},
   "outputs": [
    {
     "name": "stdout",
     "output_type": "stream",
     "text": [
      "Wall time: 95 ms\n"
     ]
    }
   ],
   "source": [
    "%%time\n",
    "merged_df =df2.join(df3,[\"id\"]).join(df4, [\"id\"]).join(df5, [\"id\"]).join(df6,[\"id\"]).join(df7, [\"id\"]).join(df8, [\"id\"])\n",
    "\n",
    "#merged_df.sort(\"id\").show(100) \n"
   ]
  },
  {
   "cell_type": "code",
   "execution_count": 15,
   "metadata": {},
   "outputs": [
    {
     "name": "stdout",
     "output_type": "stream",
     "text": [
      "Wall time: 663 ms\n"
     ]
    }
   ],
   "source": [
    "%%time\n",
    "from pyspark.sql.functions import when\n",
    "#set conditions for Fraud with new columns\n",
    "marriage_df = merged_df.withColumn(\"Big_age_gap\", when((merged_df.Age_gap > 20), lit(\"1\")).otherwise(lit(\"0\"))). \\\n",
    "                        withColumn(\"Too_many_children\", when((merged_df.Number_of_children > 5), lit(\"1\")).otherwise(lit(\"0\"))). \\\n",
    "                        withColumn(\"Too_many_divorce\", when((merged_df.Number_of_divorce > 4), lit(\"1\")).otherwise(lit(\"0\"))). \\\n",
    "                        withColumn(\"Too_low_income\", when((merged_df.Income < 15000), lit(\"1\")).otherwise(lit(\"0\")))\n",
    "\n",
    "#Aggregate selected indicators for fraud\n",
    "marriage_df = marriage_df.withColumn(\"Indicator_Sum\", col(\"Different_Language\") + col(\"Different_Address\") + \\\n",
    "                                              col(\"Criminal_history\") + col(\"Big_age_gap\")  + \\\n",
    "                                              col(\"Too_many_children\") + col(\"Too_many_divorce\") + col(\"Too_low_income\")) \n",
    "\n",
    "marriage_df = marriage_df.withColumn(\"Fraud_Alert\", when((marriage_df.Indicator_Sum >= 2), lit(\"1\")).otherwise(lit(\"0\")))\n",
    "\n",
    "marriage_df = marriage_df.sort(\"id\")\n"
   ]
  },
  {
   "cell_type": "code",
   "execution_count": 16,
   "metadata": {
    "scrolled": true
   },
   "outputs": [
    {
     "name": "stdout",
     "output_type": "stream",
     "text": [
      "+---+-------+------+------------------+-----------------+------------------+-----------------+----------------+-----------+-----------------+----------------+--------------+-------------+-----------+\n",
      "| id|Age_gap|Income|Number_of_children|Number_of_divorce|Different_Language|Different_Address|Criminal_history|Big_age_gap|Too_many_children|Too_many_divorce|Too_low_income|Indicator_Sum|Fraud_Alert|\n",
      "+---+-------+------+------------------+-----------------+------------------+-----------------+----------------+-----------+-----------------+----------------+--------------+-------------+-----------+\n",
      "|  0|      1| 30578|                 0|                4|                 0|                0|               0|          0|                0|               0|             0|          0.0|          0|\n",
      "|  1|      6| 76397|                 3|                1|                 0|                0|               0|          0|                0|               0|             0|          0.0|          0|\n",
      "|  2|      7| 82968|                 0|                4|                 0|                0|               0|          0|                0|               0|             0|          0.0|          0|\n",
      "|  3|     16|151651|                 1|                3|                 0|                0|               0|          0|                0|               0|             0|          0.0|          0|\n",
      "|  4|      3| 52168|                 1|                3|                 0|                0|               0|          0|                0|               0|             0|          0.0|          0|\n",
      "|  5|      7| 81712|                 0|                2|                 0|                0|               0|          0|                0|               0|             0|          0.0|          0|\n",
      "|  6|     18|161320|                 2|                4|                 0|                0|               0|          0|                0|               0|             0|          0.0|          0|\n",
      "|  7|      2| 39653|                 4|                2|                 0|                0|               0|          0|                0|               0|             0|          0.0|          0|\n",
      "|  8|     11|112230|                 5|                1|                 0|                0|               0|          0|                0|               0|             0|          0.0|          0|\n",
      "|  9|      8| 90420|                 0|                1|                 0|                0|               0|          0|                0|               0|             0|          0.0|          0|\n",
      "| 10|      1| 31035|                 0|                4|                 0|                0|               1|          0|                0|               0|             0|          1.0|          0|\n",
      "| 11|      4| 55950|                 1|                3|                 0|                0|               0|          0|                0|               0|             0|          0.0|          0|\n",
      "| 12|     21|182668|                 0|                0|                 0|                0|               0|          1|                0|               0|             0|          1.0|          0|\n",
      "| 13|     11|112493|                 1|                2|                 0|                0|               0|          0|                0|               0|             0|          0.0|          0|\n",
      "| 14|     23|197616|                 0|                3|                 0|                0|               0|          1|                0|               0|             0|          1.0|          0|\n",
      "| 15|     10|103174|                 1|                0|                 0|                0|               0|          0|                0|               0|             0|          0.0|          0|\n",
      "| 16|     21|184824|                 1|                2|                 0|                0|               0|          1|                0|               0|             0|          1.0|          0|\n",
      "| 17|     12|118199|                 0|                1|                 0|                0|               0|          0|                0|               0|             0|          0.0|          0|\n",
      "| 18|     10| 99989|                 2|                1|                 0|                0|               0|          0|                0|               0|             0|          0.0|          0|\n",
      "| 19|     12|116273|                 1|                3|                 0|                0|               0|          0|                0|               0|             0|          0.0|          0|\n",
      "| 20|      6| 69954|                 2|                2|                 0|                0|               0|          0|                0|               0|             0|          0.0|          0|\n",
      "| 21|     16|147715|                 1|                1|                 0|                0|               0|          0|                0|               0|             0|          0.0|          0|\n",
      "| 22|      4| 58759|                 1|                4|                 0|                0|               1|          0|                0|               0|             0|          1.0|          0|\n",
      "| 23|     10|100921|                 3|                1|                 0|                0|               0|          0|                0|               0|             0|          0.0|          0|\n",
      "| 24|      6| 70165|                 1|                1|                 0|                0|               0|          0|                0|               0|             0|          0.0|          0|\n",
      "| 25|     22|190272|                 3|                4|                 0|                0|               0|          1|                0|               0|             0|          1.0|          0|\n",
      "| 26|     24|211158|                 1|                1|                 1|                0|               0|          1|                0|               0|             0|          2.0|          1|\n",
      "| 27|     24|211786|                 1|                3|                 1|                0|               0|          1|                0|               0|             0|          2.0|          1|\n",
      "| 28|     15|140659|                 2|                3|                 0|                0|               0|          0|                0|               0|             0|          0.0|          0|\n",
      "| 29|      3| 50794|                 3|                1|                 0|                0|               0|          0|                0|               0|             0|          0.0|          0|\n",
      "+---+-------+------+------------------+-----------------+------------------+-----------------+----------------+-----------+-----------------+----------------+--------------+-------------+-----------+\n",
      "only showing top 30 rows\n",
      "\n",
      "Wall time: 2min 20s\n"
     ]
    }
   ],
   "source": [
    "%%time\n",
    "marriage_df.sort(\"id\").show(30)\n"
   ]
  },
  {
   "cell_type": "code",
   "execution_count": 17,
   "metadata": {},
   "outputs": [
    {
     "name": "stdout",
     "output_type": "stream",
     "text": [
      "+----------------+\n",
      "|sum(Fraud_Alert)|\n",
      "+----------------+\n",
      "|        106063.0|\n",
      "+----------------+\n",
      "\n",
      "Wall time: 4min 9s\n"
     ]
    }
   ],
   "source": [
    "%%time\n",
    "# find sum of subjects column\n",
    "marriage_df.agg({'Fraud_Alert': 'sum'}).show()\n",
    "\n"
   ]
  },
  {
   "cell_type": "code",
   "execution_count": null,
   "metadata": {
    "scrolled": true
   },
   "outputs": [],
   "source": [
    "\n"
   ]
  },
  {
   "cell_type": "code",
   "execution_count": null,
   "metadata": {
    "scrolled": true
   },
   "outputs": [],
   "source": [
    "%%time\n",
    "path1 = \"C:\\\\Users\\\\knguye29\\\\Desktop\\\\ECE552\\\\Finalproject\\\\marriage_fraud_dataset\"\n",
    "\n",
    "marriage_df.write.parquet(path1)"
   ]
  },
  {
   "cell_type": "code",
   "execution_count": null,
   "metadata": {},
   "outputs": [],
   "source": []
  },
  {
   "cell_type": "code",
   "execution_count": null,
   "metadata": {},
   "outputs": [],
   "source": []
  },
  {
   "cell_type": "code",
   "execution_count": null,
   "metadata": {},
   "outputs": [],
   "source": [
    "%%time\n",
    "\n",
    "#marriage_df.write.option(\"header\",True).csv(\"C:\\\\Users\\\\knguye29\\\\Desktop\\\\ECE552\\\\Finalproject\\\\marriage_data.csv\")\n",
    "#marriage_df.write.format(\"csv\").save(\"C:\\\\Users\\\\knguye29\\\\Desktop\\\\ECE552\\\\Finalproject\\\\marriage_data.csv\")\n",
    "path = \"marriage_fraud_dataset\"\n",
    "\n",
    "marriage_df.write.parquet(path)"
   ]
  },
  {
   "cell_type": "code",
   "execution_count": 1,
   "metadata": {},
   "outputs": [
    {
     "data": {
      "text/plain": [
       "'\\n%%time\\n#Creating Table\\n\\nspark = SparkSession.builder.getOrCreate()\\nsqlContext = SQLContext(spark)\\n#marriage_df.registerTempTable(\\'MarriageFraudTable\\')\\n#Running Query\\ndf1 = sqlContext.sql(\"SELECT * from MarriageFraudTable\").toPandas()\\ndf2 = sqlContext.sql(\"SELECT Number_of_children from MarriageFraudTable where Fraud_Alert == 1\").toPandas()\\n#Creating Visualization\\nfig = plt.pie(df2[\\'Number_of_children\\'], autopct=\\'%1.1f%%\\', startangle=140,labels=df2[\\'Number_of_children\\'])\\nplt.title(\\'Distribution of Fraud base on Number of Children\\')\\nplt.show()\\n'"
      ]
     },
     "execution_count": 1,
     "metadata": {},
     "output_type": "execute_result"
    }
   ],
   "source": [
    "'''\n",
    "%%time\n",
    "#Creating Table\n",
    "\n",
    "spark = SparkSession.builder.getOrCreate()\n",
    "sqlContext = SQLContext(spark)\n",
    "#marriage_df.registerTempTable('MarriageFraudTable')\n",
    "#Running Query\n",
    "df1 = sqlContext.sql(\"SELECT * from MarriageFraudTable\").toPandas()\n",
    "df2 = sqlContext.sql(\"SELECT Number_of_children from MarriageFraudTable where Fraud_Alert == 1\").toPandas()\n",
    "#Creating Visualization\n",
    "fig = plt.pie(df2['Number_of_children'], autopct='%1.1f%%', startangle=140,labels=df2['Number_of_children'])\n",
    "plt.title('Distribution of Fraud base on Number of Children')\n",
    "plt.show()\n",
    "'''"
   ]
  },
  {
   "cell_type": "code",
   "execution_count": null,
   "metadata": {},
   "outputs": [],
   "source": []
  }
 ],
 "metadata": {
  "kernelspec": {
   "display_name": "Python 3",
   "language": "python",
   "name": "python3"
  },
  "language_info": {
   "codemirror_mode": {
    "name": "ipython",
    "version": 3
   },
   "file_extension": ".py",
   "mimetype": "text/x-python",
   "name": "python",
   "nbconvert_exporter": "python",
   "pygments_lexer": "ipython3",
   "version": "3.7.6"
  }
 },
 "nbformat": 4,
 "nbformat_minor": 4
}
