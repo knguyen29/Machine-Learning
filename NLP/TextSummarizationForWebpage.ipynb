{
 "cells": [
  {
   "cell_type": "code",
   "execution_count": 1,
   "id": "c4d8241a",
   "metadata": {},
   "outputs": [
    {
     "data": {
      "text/html": [
       "<style>.container { width:100% !important; }</style>"
      ],
      "text/plain": [
       "<IPython.core.display.HTML object>"
      ]
     },
     "metadata": {},
     "output_type": "display_data"
    }
   ],
   "source": [
    "from IPython.core.display import display, HTML\n",
    "display(HTML(\"<style>.container { width:100% !important; }</style>\"))\n",
    "import nltk\n",
    "import re, pprint, string, os, math\n",
    "from nltk import word_tokenize\n",
    "from nltk.corpus import stopwords\n",
    "from nltk.tokenize import sent_tokenize, word_tokenize\n",
    "from nltk.tokenize import wordpunct_tokenize\n",
    "from nltk.tokenize import RegexpTokenizer\n",
    "from nltk.probability import FreqDist\n",
    "from wordcloud import WordCloud, STOPWORDS\n",
    "import matplotlib.pyplot as plt\n",
    "import bs4 as bs\n",
    "import urllib.request\n",
    "import heapq\n",
    "from itertools import islice\n",
    "from nltk import ngrams"
   ]
  },
  {
   "cell_type": "markdown",
   "id": "247ad4d4",
   "metadata": {},
   "source": [
    "## Task 1: (5 points) Text Summarization with Word Frequencies\n",
    "#Date 6/13/2022"
   ]
  },
  {
   "cell_type": "code",
   "execution_count": 2,
   "id": "7a05a29c",
   "metadata": {},
   "outputs": [],
   "source": [
    "# 1.1 (0 points) Use the web scraping technique with BeautifulSoup as shown in class to\n",
    "# get the text data from the specified data location on the Wikipedia webpage.\n",
    "# Hints: Please see code snippets for web scraping in the lecture slides\n",
    "# Text Data Location: https://en.wikipedia.org/wiki/Natural_language_processing\n",
    "def scrape_webpage(url):\n",
    "    ''' Use BeautifulSoup to scrape the webpage text contents'''\n",
    "    scraped_textdata = urllib.request.urlopen(url)\n",
    "    textdata = scraped_textdata.read()\n",
    "    parsed_textdata = bs.BeautifulSoup(textdata, 'lxml')\n",
    "    paragraphs = parsed_textdata.find_all('p')\n",
    "    formated_text = \"\"\n",
    "    \n",
    "    for para in paragraphs:\n",
    "        formated_text += para.text\n",
    "    \n",
    "    return formated_text\n",
    "\n",
    "mytext = scrape_webpage('https://en.wikipedia.org/wiki/Natural_language_processing')\n"
   ]
  },
  {
   "cell_type": "code",
   "execution_count": 3,
   "id": "b1dbe444",
   "metadata": {},
   "outputs": [
    {
     "name": "stdout",
     "output_type": "stream",
     "text": [
      "Numer of characters in the scraped text:  8945\n",
      "The number of sentences = 50\n",
      "Number of words after word tokenizing:  1519\n",
      "First 20 words: \n",
      " ['Natural', 'language', 'processing', '(', 'NLP', ')', 'is', 'a', 'subfield', 'of', 'linguistics', ',', 'computer', 'science', ',', 'and', 'artificial', 'intelligence', 'concerned', 'with'] \n",
      "\n",
      "Number of words after punctuation remove:  1339\n",
      "['Natural', 'language', 'processing', 'NLP', 'is', 'a', 'subfield', 'of', 'linguistics', 'computer', 'science', 'and', 'artificial', 'intelligence', 'concerned', 'with', 'the', 'interactions', 'between', 'computers'] \n",
      "\n",
      "<FreqDist with 476 samples and 861 outcomes>\n",
      "Number of words without stop words:  861\n",
      "['natural', 'language', 'processing', 'nlp', 'subfield', 'linguistics', 'computer', 'science', 'artificial', 'intelligence', 'concerned', 'interactions', 'computers', 'human', 'language', 'particular', 'program', 'computers', 'process', 'analyze']\n"
     ]
    }
   ],
   "source": [
    "# 1.2 (0.5 points) Preprocess the text data and must include word tokenization, stop\n",
    "# words and punctuation removal, etc.\n",
    "print('Numer of characters in the scraped text: ', len(mytext))\n",
    "#Tokenize sentences and words\n",
    "tokens = word_tokenize(mytext)\n",
    "type(tokens)\n",
    "print(\"The number of sentences =\", len(sent_tokenize(mytext)))\n",
    "print(\"Number of words after word tokenizing: \", len(tokens))\n",
    "print(\"First 20 words: \\n\", tokens[0:20], \"\\n\")\n",
    "#Remove punctuations\n",
    "toker = nltk.RegexpTokenizer(r\"\\w+\")\n",
    "no_punct = toker.tokenize(mytext)\n",
    "print(\"Number of words after punctuation remove: \", len(no_punct))\n",
    "print(no_punct[0:20], \"\\n\")\n",
    "\n",
    "## Remove stop words and count the distinct cleaned words.\n",
    "#USE FreqDist()\n",
    "freq_dist = FreqDist(word.lower() for word in no_punct if word.lower() not in stopwords.words('english'))\n",
    "print(freq_dist)\n",
    "\n",
    "#OR \n",
    "filtered_words = [word.lower() for word in no_punct if word.lower() not in stopwords.words('english')]\n",
    "print(\"Number of words without stop words: \", len(filtered_words))\n",
    "print(filtered_words[0:20])\n",
    "\n"
   ]
  },
  {
   "cell_type": "code",
   "execution_count": 4,
   "id": "30f54028",
   "metadata": {},
   "outputs": [
    {
     "data": {
      "text/plain": [
       "[('language', 28),\n",
       " ('natural', 20),\n",
       " ('nlp', 17),\n",
       " ('processing', 16),\n",
       " ('machine', 13),\n",
       " ('learning', 13),\n",
       " ('cognitive', 13),\n",
       " ('statistical', 12),\n",
       " ('e', 10),\n",
       " ('tasks', 10)]"
      ]
     },
     "execution_count": 4,
     "metadata": {},
     "output_type": "execute_result"
    }
   ],
   "source": [
    "# 1.3 (1.0 points) Calculate word frequencies or weighted word frequencies\n",
    "tf = {word: filtered_words.count(word) for word in set(filtered_words)}\n",
    "#list(tf.items())[:20]\n",
    "\n",
    "freq_dist.most_common(10)"
   ]
  },
  {
   "cell_type": "code",
   "execution_count": 5,
   "id": "2d0b5e25",
   "metadata": {},
   "outputs": [
    {
     "name": "stdout",
     "output_type": "stream",
     "text": [
      "28\n"
     ]
    },
    {
     "data": {
      "text/plain": [
       "FreqDist({'language': 1.0, 'natural': 0.7142857142857143, 'nlp': 0.6071428571428571, 'processing': 0.5714285714285714, 'machine': 0.4642857142857143, 'learning': 0.4642857142857143, 'cognitive': 0.4642857142857143, 'statistical': 0.42857142857142855, 'e': 0.35714285714285715, 'tasks': 0.35714285714285715, ...})"
      ]
     },
     "execution_count": 5,
     "metadata": {},
     "output_type": "execute_result"
    }
   ],
   "source": [
    "#Weighted word frequency\n",
    "frequency = nltk.FreqDist(filtered_words)\n",
    "max_frequency = max(frequency.values())\n",
    "print(max_frequency)\n",
    "\n",
    "for word in frequency.keys():\n",
    "    frequency[word] = frequency[word]/max_frequency\n",
    "frequency"
   ]
  },
  {
   "cell_type": "code",
   "execution_count": 6,
   "id": "345dc7f8",
   "metadata": {
    "scrolled": false
   },
   "outputs": [
    {
     "data": {
      "text/plain": [
       "{'Natural language processing (NLP) is a subfield of linguistics, computer science, and artificial intelligence concerned with the interactions between computers and human language, in particular how to program computers to process and analyze large amounts of natural language data.': 7.249999999999999,\n",
       " 'The goal is a computer capable of \"understanding\" the contents of documents, including the contextual nuances of the language within them.': 1.6785714285714286,\n",
       " 'The technology can then accurately extract information and insights contained in the documents as well as categorize and organize the documents themselves.': 0.6428571428571428,\n",
       " 'Challenges in natural language processing frequently involve speech recognition, natural-language understanding, and natural-language generation.': 6.357142857142858,\n",
       " 'Natural language processing has its roots in the 1950s.': 2.3571428571428568,\n",
       " 'Already in 1950, Alan Turing published an article titled \"Computing Machinery and Intelligence\" which proposed what is now called the Turing test as a criterion of intelligence, though at the time that was not articulated as a problem separate from artificial intelligence.': 1.4642857142857142,\n",
       " 'The proposed test includes a task that involves the automated interpretation and generation of natural language.': 2.1785714285714284,\n",
       " \"The premise of symbolic NLP is well-summarized by John Searle's Chinese room experiment: Given a collection of rules (e.g., a Chinese phrasebook, with questions and matching answers), the computer emulates natural language understanding (or other NLP tasks) by applying those rules to the data it confronts.\": 6.071428571428571,\n",
       " 'Up to the 1980s, most natural language processing systems were based on complex sets of hand-written rules.': 3.5000000000000004,\n",
       " 'Starting in the late 1980s, however, there was a revolution in natural language processing with the introduction of machine learning algorithms for language processing.': 5.5,\n",
       " \"This was due to both the steady increase in computational power (see Moore's law) and the gradual lessening of the dominance of Chomskyan theories of linguistics (e.g.\": 1.6428571428571428,\n",
       " 'transformational grammar), whose theoretical underpinnings discouraged the sort of corpus linguistics that underlies the machine-learning approach to language processing.': 3.3571428571428568,\n",
       " '[6]\\nIn the 2010s, representation learning and deep neural network-style machine learning methods became widespread in natural language processing.': 4.571428571428571,\n",
       " 'That popularity was due partly to a flurry of results showing that such techniques[7][8] can achieve state-of-the-art results in many natural language tasks, e.g., in language modeling[9] and parsing.': 4.9642857142857135,\n",
       " '[10][11] This is increasingly important in medicine and healthcare, where NLP helps analyze notes and text in electronic health records that would otherwise be inaccessible for study when seeking to improve care.': 1.5000000000000009,\n",
       " '[12]\\nIn the early days, many language-processing systems were designed by symbolic methods, i.e., the hand-coding of a set of rules, coupled with a dictionary lookup:[13][14] such as by writing grammars or devising heuristic rules for stemming.': 4.178571428571428,\n",
       " 'More recent systems based on machine-learning algorithms have many advantages over hand-produced rules: \\nDespite the popularity of machine learning in NLP research, symbolic methods are still (2020) commonly used:\\nSince the so-called \"statistical revolution\"[15][16] in the late 1980s and mid-1990s, much natural language processing research has relied heavily on machine learning.': 9.607142857142856,\n",
       " 'The machine-learning paradigm calls instead for using statistical inference to automatically learn such rules through the analysis of large corpora (the plural form of corpus, is a set of documents, possibly with human or computer annotations) of typical real-world examples.': 3.2857142857142856,\n",
       " 'Many different classes of machine-learning algorithms have been applied to natural-language-processing tasks.': 4.142857142857142,\n",
       " 'These algorithms take as input a large set of \"features\" that are generated from the input data.': 1.1785714285714284,\n",
       " 'Increasingly, however, research has focused on statistical models, which make soft, probabilistic decisions based on attaching real-valued weights to each input feature (complex-valued embeddings,[17] and neural networks in general have also been proposed, for e.g.': 4.142857142857143,\n",
       " 'speech[18]).': 0.2142857142857143,\n",
       " 'Such models have the advantage that they can express the relative certainty of many different possible answers rather than only one, producing more reliable results when such a model is included as a component of a larger system.': 1.5357142857142858,\n",
       " 'Some of the earliest-used machine learning algorithms, such as decision trees, produced systems of hard if-then rules similar to existing hand-written rules.': 2.6428571428571432,\n",
       " 'However, part-of-speech tagging introduced the use of hidden Markov models to natural language processing, and increasingly, research has focused on statistical models, which make soft, probabilistic decisions based on attaching real-valued weights to the features making up the input data.': 5.964285714285713,\n",
       " 'The cache language models upon which many speech recognition systems now rely are examples of such statistical models.': 2.928571428571429,\n",
       " 'Such models are generally more robust when given unfamiliar input, especially input that contains errors (as is very common for real-world data), and produce more reliable results when integrated into a larger system comprising multiple subtasks.': 2.214285714285715,\n",
       " 'Since the neural turn, statistical methods in NLP research have been largely replaced by neural networks.': 2.464285714285714,\n",
       " 'However, they continue to be relevant for contexts in which statistical interpretability and transparency is required.': 0.8214285714285713,\n",
       " 'A major drawback of statistical methods is that they require elaborate feature engineering.': 0.9285714285714285,\n",
       " 'Since 2015,[19] the field has thus largely abandoned statistical methods and shifted to neural networks for machine learning.': 2.428571428571429,\n",
       " 'Popular techniques include the use of word embeddings to capture semantic properties of words, and an increase in end-to-end learning of a higher-level task (e.g., question answering) instead of relying on a pipeline of separate intermediate tasks (e.g., part-of-speech tagging and dependency parsing).': 3.928571428571429,\n",
       " 'In some areas, this shift has entailed substantial changes in how NLP systems are designed, such that deep neural network-based approaches may be viewed as a new paradigm distinct from statistical natural language processing.': 4.821428571428571,\n",
       " 'For instance, the term neural machine translation (NMT) emphasizes the fact that deep learning-based approaches to machine translation directly learn sequence-to-sequence transformations, obviating the need for intermediate steps such as word alignment and language modeling that was used in statistical machine translation (SMT).': 5.357142857142858,\n",
       " 'The following is a list of some of the most commonly researched tasks in natural language processing.': 2.8571428571428568,\n",
       " 'Some of these tasks have direct real-world applications, while others more commonly serve as subtasks that are used to aid in solving larger tasks.': 1.6785714285714286,\n",
       " 'Though natural language processing tasks are closely intertwined, they can be subdivided into categories for convenience.': 2.892857142857142,\n",
       " 'A coarse division is given below.': 0.17857142857142855,\n",
       " 'Based on long-standing trends in the field, it is possible to extrapolate future directions of NLP.': 1.357142857142857,\n",
       " 'As of 2020, three trends among the topics of the long-standing series of CoNLL Shared Tasks can be observed:[38]\\nMost higher-level NLP applications involve aspects that emulate intelligent behaviour and apparent comprehension of natural language.': 3.9999999999999996,\n",
       " 'More broadly speaking, the technical operationalization of increasingly advanced aspects of cognitive behaviour represents one of the developmental trajectories of NLP (see trends among CoNLL shared tasks above).': 2.5000000000000004,\n",
       " 'Cognition refers to \"the mental action or process of acquiring knowledge and understanding through thought, experience, and the senses.': 0.5714285714285714,\n",
       " '\"[39] Cognitive science is the interdisciplinary, scientific study of the mind and its processes.': 0.857142857142857,\n",
       " '[40] Cognitive linguistics is an interdisciplinary branch of linguistics, combining knowledge and research from both psychology and linguistics.': 1.9285714285714286,\n",
       " '[41] Especially during the age of symbolic NLP, the area of computational linguistics maintained strong ties with cognitive studies.': 2.0,\n",
       " 'As an example, George Lakoff offers a methodology to build natural language processing (NLP) algorithms through the perspective of cognitive science, along with the findings of cognitive linguistics,[42] with two defining aspects:\\nTies with cognitive linguistics are part of the historical heritage of NLP, but they have been less frequently addressed since the statistical turn during the 1990s.': 7.499999999999997,\n",
       " 'Nevertheless, approaches to develop cognitive models towards technically operationalizable frameworks have been pursued in the context of various frameworks, e.g., of cognitive grammar,[44] functional grammar,[45] construction grammar,[46] computational psycholinguistics and cognitive neuroscience (e.g., ACT-R), however, with limited uptake in mainstream NLP (as measured by presence on major conferences[47] of the ACL).': 5.607142857142855,\n",
       " 'More recently, ideas of cognitive NLP have been revived as an approach to achieve explainability, e.g., under the notion of \"cognitive AI\".': 2.607142857142857,\n",
       " '[48] Likewise, ideas of cognitive NLP are inherent to neural models multimodal NLP (although rarely made explicit).': 2.642857142857143,\n",
       " '[49]': 0.03571428571428571}"
      ]
     },
     "execution_count": 6,
     "metadata": {},
     "output_type": "execute_result"
    }
   ],
   "source": [
    "# 1.4 (1.5 points) Score the sentences.\n",
    "# Hints: Calculate the sentence frequency by summing up the frequency of each word. \n",
    "# Calculate sentence score excluding stop words\n",
    "sentences = nltk.sent_tokenize(mytext)\n",
    "sentence_scores = {}\n",
    "for x in sentences:\n",
    "    for word in nltk.RegexpTokenizer(r\"\\w+\").tokenize(x.lower()):\n",
    "        if word not in stopwords.words('english'):\n",
    "            if word in frequency.keys():\n",
    "                if x not in sentence_scores.keys():\n",
    "                    sentence_scores[x] = frequency[word]\n",
    "                else:\n",
    "                    sentence_scores[x] += frequency[word]\n",
    "sentence_scores\n",
    "\n",
    "\n",
    "\n"
   ]
  },
  {
   "cell_type": "code",
   "execution_count": 7,
   "id": "9ac2329c",
   "metadata": {
    "scrolled": true
   },
   "outputs": [
    {
     "name": "stdout",
     "output_type": "stream",
     "text": [
      "---------RANK SENTENCES AND LIST FROM HIGH TO LOW FREQUENCY: \n",
      "\n",
      "[('More recent systems based on machine-learning algorithms have many advantages over hand-produced rules: \\nDespite the popularity of machine learning in NLP research, symbolic methods are still (2020) commonly used:\\nSince the so-called \"statistical revolution\"[15][16] in the late 1980s and mid-1990s, much natural language processing research has relied heavily on machine learning.', 9.607142857142856), ('As an example, George Lakoff offers a methodology to build natural language processing (NLP) algorithms through the perspective of cognitive science, along with the findings of cognitive linguistics,[42] with two defining aspects:\\nTies with cognitive linguistics are part of the historical heritage of NLP, but they have been less frequently addressed since the statistical turn during the 1990s.', 7.499999999999997), ('Natural language processing (NLP) is a subfield of linguistics, computer science, and artificial intelligence concerned with the interactions between computers and human language, in particular how to program computers to process and analyze large amounts of natural language data.', 7.249999999999999), ('Challenges in natural language processing frequently involve speech recognition, natural-language understanding, and natural-language generation.', 6.357142857142858), (\"The premise of symbolic NLP is well-summarized by John Searle's Chinese room experiment: Given a collection of rules (e.g., a Chinese phrasebook, with questions and matching answers), the computer emulates natural language understanding (or other NLP tasks) by applying those rules to the data it confronts.\", 6.071428571428571), ('However, part-of-speech tagging introduced the use of hidden Markov models to natural language processing, and increasingly, research has focused on statistical models, which make soft, probabilistic decisions based on attaching real-valued weights to the features making up the input data.', 5.964285714285713), ('Nevertheless, approaches to develop cognitive models towards technically operationalizable frameworks have been pursued in the context of various frameworks, e.g., of cognitive grammar,[44] functional grammar,[45] construction grammar,[46] computational psycholinguistics and cognitive neuroscience (e.g., ACT-R), however, with limited uptake in mainstream NLP (as measured by presence on major conferences[47] of the ACL).', 5.607142857142855), ('Starting in the late 1980s, however, there was a revolution in natural language processing with the introduction of machine learning algorithms for language processing.', 5.5), ('For instance, the term neural machine translation (NMT) emphasizes the fact that deep learning-based approaches to machine translation directly learn sequence-to-sequence transformations, obviating the need for intermediate steps such as word alignment and language modeling that was used in statistical machine translation (SMT).', 5.357142857142858), ('That popularity was due partly to a flurry of results showing that such techniques[7][8] can achieve state-of-the-art results in many natural language tasks, e.g., in language modeling[9] and parsing.', 4.9642857142857135)]\n"
     ]
    }
   ],
   "source": [
    "# 1.5 (0.5 points) Rank the sentences.\n",
    "# Hints: Rank of the sentences based on the frequency of each sentence: from High to Low sentence score.\n",
    "\n",
    "#{k:v for k, v in sorted(sentence_scores.items(), key=lambda item: item[1], reverse=True)}\n",
    "print(\"---------RANK SENTENCES AND LIST FROM HIGH TO LOW FREQUENCY: \\n\")\n",
    "print(sorted(sentence_scores.items(), key=lambda item: item[1], reverse=True)[0:10])"
   ]
  },
  {
   "cell_type": "code",
   "execution_count": 9,
   "id": "eb7915d0",
   "metadata": {},
   "outputs": [],
   "source": [
    "#{k:v for k, v in sorted(sentence_scores.items(), key=lambda item: item[1], reverse=True)}"
   ]
  },
  {
   "cell_type": "markdown",
   "id": "1b19da1a",
   "metadata": {},
   "source": [
    "### 1.6 (1.5 points) Build a summary based on sentence count, word count, and percentage. \n",
    "Print out all three summarized text examples.\n",
    "\n",
    "Hints: For example, (a) “sentence count = 3” means only 3 or less sentences with top\n",
    "frequencies are selected for summarization; (b) “word count = 50” means the total number\n",
    "of words used for summarization is equal to or less than 50; (c) “percentage = 20%” means\n",
    "only 20% words are used for summarization.\n",
    "More tips*:\n",
    "1. For (a), the total number of the summarized sentences is less than or equal to a given  N.\n",
    "2. For (b), the number of returned words is related to the top N sentences (i.e., based on (a)). \n",
    "We rank all the sentences based on frequencies and then count the number of\n",
    "words for summarization. Note that this may cause incompleteness of the last sentence.\n",
    "3. (c) is similar to (b). We calculate the # of words for summarization based on a given\n",
    "percentage and then follow the same method of (a) to extract the total summarized\n",
    "words. Likewise, the last sentence could be incomplete.\n",
    "4. For (b) and (c), the total number of summarized words is less than or equal to a given N\n",
    "or the percentage of the total word count.\n",
    "* You can use different approaches, but please clearly describe your methods in the code\n",
    "\n"
   ]
  },
  {
   "cell_type": "code",
   "execution_count": 10,
   "id": "9e9cb440",
   "metadata": {
    "scrolled": true
   },
   "outputs": [
    {
     "name": "stdout",
     "output_type": "stream",
     "text": [
      "More recent systems based on machine-learning algorithms have many advantages over hand-produced rules: \n",
      "Despite the popularity of machine learning in NLP research, symbolic methods are still (2020) commonly used:\n",
      "Since the so-called \"statistical revolution\"[15][16] in the late 1980s and mid-1990s, much natural language processing research has relied heavily on machine learning. As an example, George Lakoff offers a methodology to build natural language processing (NLP) algorithms through the perspective of cognitive science, along with the findings of cognitive linguistics,[42] with two defining aspects:\n",
      "Ties with cognitive linguistics are part of the historical heritage of NLP, but they have been less frequently addressed since the statistical turn during the 1990s. Natural language processing (NLP) is a subfield of linguistics, computer science, and artificial intelligence concerned with the interactions between computers and human language, in particular how to program computers to process and analyze large amounts of natural language data.\n",
      "\n",
      " -----------------\n",
      " -----------------\n",
      "IN THE SCRIPT ABOVE, I USED heapq LIBRARY AND nlargest FUNCTION TO RETRIEVE THE TOP 3 SENTENCES WITH THE HIGHEST SCORES.\n"
     ]
    }
   ],
   "source": [
    "#a) Getting the Summary for Top 3 sentences.\n",
    "import heapq\n",
    "from collections import defaultdict\n",
    "from string import punctuation\n",
    "from heapq import nlargest\n",
    "\n",
    "summary_sentences = heapq.nlargest(3, sentence_scores, key=sentence_scores.get)\n",
    "summary = ' '.join(summary_sentences)\n",
    "print(summary)\n",
    "\n",
    "print(\"\\n -----------------\")\n",
    "print(\" -----------------\")\n",
    "print(\"IN THE SCRIPT ABOVE, I USED heapq LIBRARY AND nlargest FUNCTION TO RETRIEVE THE TOP 3 SENTENCES WITH THE HIGHEST SCORES.\")\n"
   ]
  },
  {
   "cell_type": "code",
   "execution_count": 12,
   "id": "76efb88d",
   "metadata": {},
   "outputs": [
    {
     "name": "stdout",
     "output_type": "stream",
     "text": [
      "**** THE FIRST 100 WORDS (keeping stopwords and special characters) FROM THE TOP RANKED SENTENCES:\n"
     ]
    },
    {
     "data": {
      "text/plain": [
       "\" More recent systems based on machine-learning algorithms have many advantages over hand-produced rules : Despite the popularity of machine learning in NLP research , symbolic methods are still ( 2020 ) commonly used : Since the so-called `` statistical revolution '' [ 15 ] [ 16 ] in the late 1980s and mid-1990s , much natural language processing research has relied heavily on machine learning . As an example , George Lakoff offers a methodology to build natural language processing ( NLP ) algorithms through the perspective of cognitive science , along with the findings of cognitive linguistics , [\""
      ]
     },
     "execution_count": 12,
     "metadata": {},
     "output_type": "execute_result"
    }
   ],
   "source": [
    "# b) Summary for WORD COUNT\n",
    "# “word count = 50” means the total number of words used for summarization is equal to or less than 50\n",
    "#For (b), the number of returned words is related to the top N sentences (i.e., based on (a)). \n",
    "# We rank all the sentences based on frequencies and then count the number of words for summarization. \n",
    "# Note that this may cause incompleteness of the last sentence.\n",
    "summary_word = \"\"\n",
    "tokenize_summary = word_tokenize(summary)\n",
    "for w in tokenize_summary: #and w not in stopwords.words('english'):\n",
    "    if len(summary_word.split()) < 100:\n",
    "        summary_word += \" \"+ w\n",
    "print('**** THE FIRST 100 WORDS (keeping stopwords and special characters) FROM THE TOP RANKED SENTENCES:')\n",
    "summary_word"
   ]
  },
  {
   "cell_type": "code",
   "execution_count": 13,
   "id": "b686d065",
   "metadata": {
    "scrolled": true
   },
   "outputs": [
    {
     "name": "stdout",
     "output_type": "stream",
     "text": [
      "Number of words in the summary by percentage (10%) is:  127\n",
      "Number of total words from the Website text is:  1267\n",
      "\n",
      "****THE FIRST 10% OF ALL THE WORDS FROM THE TOP RANKED SENTENCES:\n"
     ]
    },
    {
     "data": {
      "text/plain": [
       "\" More recent systems based on machine-learning algorithms have many advantages over hand-produced rules : Despite the popularity of machine learning in NLP research , symbolic methods are still ( 2020 ) commonly used : Since the so-called `` statistical revolution '' [ 15 ] [ 16 ] in the late 1980s and mid-1990s , much natural language processing research has relied heavily on machine learning . As an example , George Lakoff offers a methodology to build natural language processing ( NLP ) algorithms through the perspective of cognitive science , along with the findings of cognitive linguistics , [ 42 ] with two defining aspects : Ties with cognitive linguistics are part of the historical heritage of NLP , but they have been less frequently addressed\""
      ]
     },
     "execution_count": 13,
     "metadata": {},
     "output_type": "execute_result"
    }
   ],
   "source": [
    "# c)  Summary for PERCENTAGE (20%)\n",
    "#(c) We calculate the # of words for summarization based on a given percentage andfollow the same method of (a) to extract the total summarized words. \n",
    "len(sent_tokenize(mytext))\n",
    "summary_sentences1 = heapq.nlargest(50, sentence_scores, key=sentence_scores.get)\n",
    "summary1 = ' '.join(summary_sentences1)\n",
    "\n",
    "summary_pct = \"\"\n",
    "tokenize_summary1 = word_tokenize(summary)\n",
    "for w in tokenize_summary1: \n",
    "    if len(summary_pct.split()) < len(summary1.split())/10:\n",
    "        summary_pct += \" \"+ w\n",
    "\n",
    "print('Number of words in the summary by percentage (10%) is: ', len(summary_pct.split()))\n",
    "print('Number of total words from the Website text is: ', len(summary1.split()))\n",
    "print('\\n****THE FIRST 10% OF ALL THE WORDS FROM THE TOP RANKED SENTENCES:')\n",
    "summary_pct\n"
   ]
  },
  {
   "cell_type": "markdown",
   "id": "bf878cab",
   "metadata": {},
   "source": [
    "## Task 2: (4 points) Text Summarization with N-grams\n",
    "Based on Task 1, replace the word frequency method with the N-grams technique to\n",
    "summarize the same text:\n"
   ]
  },
  {
   "cell_type": "code",
   "execution_count": 14,
   "id": "3307047b",
   "metadata": {},
   "outputs": [],
   "source": [
    "# 2.1 (0 points) Follow the following code examples to generate N-grams with NLTK:\n",
    "# Define a function to generate N-Grams with NLTK\n",
    "# Function to generate n-grams from the text\n",
    "from nltk.util import ngrams\n",
    "from nltk.collocations import BigramCollocationFinder\n",
    "from nltk.metrics import BigramAssocMeasures\n",
    "def generate_ngrams(text,n):\n",
    "    n_grams = ngrams(nltk.word_tokenize(text.lower()), n)\n",
    "    return [' '.join(grams) for grams in n_grams]"
   ]
  },
  {
   "cell_type": "code",
   "execution_count": 15,
   "id": "935c1577",
   "metadata": {
    "scrolled": false
   },
   "outputs": [
    {
     "name": "stdout",
     "output_type": "stream",
     "text": [
      "<FreqDist with 1236 samples and 1518 outcomes>\n",
      "[('natural language', 17), ('language processing', 14), ('of the', 9), ('in the', 8), ('. the', 7), ('e.g. ,', 7), ('. [', 7), (', and', 6), ('machine learning', 6), (', [', 6), (') .', 6), ('of cognitive', 6), (', the', 5), ('based on', 5), ('however ,', 5), ('processing .', 5), ('have been', 5), ('is a', 4), ('in natural', 4), ('as a', 4), ('( e.g.', 4), (') ,', 4)]\n"
     ]
    },
    {
     "data": {
      "image/png": "[encoded data removed]",
      "text/plain": [
       "<Figure size 432x288 with 1 Axes>"
      ]
     },
     "metadata": {
      "needs_background": "light"
     },
     "output_type": "display_data"
    },
    {
     "data": {
      "text/plain": [
       "<AxesSubplot:xlabel='Samples', ylabel='Counts'>"
      ]
     },
     "execution_count": 15,
     "metadata": {},
     "output_type": "execute_result"
    }
   ],
   "source": [
    "# 2.2 (4 points) Write the code for text summarization with any N-grams. Note that we\n",
    "# will check your program using at least two different n-grams, e.g., n=2, 3, or 4.\n",
    "# Hints:\n",
    "# a) (0.5 points) use NLTK to get N-grams and FreqDist() to calculate the n-gram frequencies.\n",
    "bigrams = generate_ngrams(mytext, 2)\n",
    "fdis2 = nltk.FreqDist(bigrams)\n",
    "print(fdis2)\n",
    "\n",
    "#Print the dictionary base on the key values in reverse order.\n",
    "print(list(sorted(fdis2.items(),key = lambda x: x[1],reverse=True))[0:22]) \n",
    "\n",
    "fdis2.plot(22)\n",
    "\n",
    "# from itertools import islice\n",
    "# def take(n, iterable):\n",
    "#     \"Return first n items of the iterable as a list\"\n",
    "#     return list(islice(iterable, n))\n",
    "# n_items = take(22, fdis2.items())\n",
    "# print(\"List of first 22 BIGRAMS: \\n\", n_items)\n",
    "\n"
   ]
  },
  {
   "cell_type": "code",
   "execution_count": 16,
   "id": "4d89b951",
   "metadata": {
    "scrolled": true
   },
   "outputs": [
    {
     "name": "stdout",
     "output_type": "stream",
     "text": [
      "<FreqDist with 1434 samples and 1517 outcomes>\n",
      "[('natural language processing', 12), ('language processing .', 5), ('in natural language', 4), ('( e.g. ,', 4), ('of natural language', 3), (', however ,', 3), ('] in the', 3), (', e.g. ,', 3), ('grammar , [', 3), ('language processing (', 2), ('processing ( nlp', 2), ('( nlp )', 2), ('of linguistics ,', 2), ('data . the', 2), ('of documents ,', 2), ('natural language .', 2), ('of symbolic nlp', 2), ('hand-written rules .', 2), ('in the late', 2), ('the late 1980s', 2), ('of machine learning', 2), ('machine learning algorithms', 2)]\n"
     ]
    },
    {
     "data": {
      "image/png": "[encoded data removed]",
      "text/plain": [
       "<Figure size 432x288 with 1 Axes>"
      ]
     },
     "metadata": {
      "needs_background": "light"
     },
     "output_type": "display_data"
    },
    {
     "data": {
      "text/plain": [
       "<AxesSubplot:xlabel='Samples', ylabel='Counts'>"
      ]
     },
     "execution_count": 16,
     "metadata": {},
     "output_type": "execute_result"
    }
   ],
   "source": [
    "trigrams = generate_ngrams(mytext, 3)\n",
    "fdis3 = nltk.FreqDist(trigrams)\n",
    "print(fdis3)\n",
    "#Print the dictionary base on the key values.\n",
    "print(list(sorted(fdis3.items(),key = lambda x: x[1],reverse=True))[0:22])\n",
    "\n",
    "fdis3.plot(22)"
   ]
  },
  {
   "cell_type": "code",
   "execution_count": 18,
   "id": "cce4818f",
   "metadata": {
    "scrolled": false
   },
   "outputs": [
    {
     "name": "stdout",
     "output_type": "stream",
     "text": [
      "<FreqDist with 1485 samples and 1516 outcomes>\n",
      "[('in natural language processing', 4), ('natural language processing .', 3), ('natural language processing (', 2), ('language processing ( nlp', 2), ('processing ( nlp )', 2), ('of natural language .', 2), ('in the late 1980s', 2), ('the input data .', 2), (', research has focused', 2), ('research has focused on', 2), ('has focused on statistical', 2), ('focused on statistical models', 2), ('on statistical models ,', 2), ('statistical models , which', 2), ('models , which make', 2), (', which make soft', 2), ('which make soft ,', 2), ('make soft , probabilistic', 2), ('soft , probabilistic decisions', 2), (', probabilistic decisions based', 2), ('probabilistic decisions based on', 2), ('decisions based on attaching', 2)]\n"
     ]
    },
    {
     "data": {
      "image/png": "[encoded data removed]",
      "text/plain": [
       "<Figure size 432x288 with 1 Axes>"
      ]
     },
     "metadata": {
      "needs_background": "light"
     },
     "output_type": "display_data"
    },
    {
     "data": {
      "text/plain": [
       "<AxesSubplot:xlabel='Samples', ylabel='Counts'>"
      ]
     },
     "execution_count": 18,
     "metadata": {},
     "output_type": "execute_result"
    }
   ],
   "source": [
    "_4grams = generate_ngrams(mytext, 4)\n",
    "fdis4 = nltk.FreqDist(_4grams)\n",
    "print(fdis4)\n",
    "\n",
    "#Print the dictionary base on the key values.\n",
    "print(list(sorted(fdis4.items(),key = lambda x: x[1],reverse=True))[0:22])\n",
    "fdis4.plot(22)"
   ]
  },
  {
   "cell_type": "code",
   "execution_count": 19,
   "id": "dcba7acd",
   "metadata": {
    "scrolled": true
   },
   "outputs": [
    {
     "data": {
      "text/plain": [
       "[('natural language processing', 1.0),\n",
       " ('language processing (', 0.16666666666666666),\n",
       " ('processing ( nlp', 0.16666666666666666),\n",
       " ('( nlp )', 0.16666666666666666),\n",
       " ('nlp ) is', 0.08333333333333333),\n",
       " (') is a', 0.08333333333333333),\n",
       " ('is a subfield', 0.08333333333333333),\n",
       " ('a subfield of', 0.08333333333333333),\n",
       " ('subfield of linguistics', 0.08333333333333333),\n",
       " ('of linguistics ,', 0.16666666666666666),\n",
       " ('linguistics , computer', 0.08333333333333333),\n",
       " (', computer science', 0.08333333333333333),\n",
       " ('computer science ,', 0.08333333333333333),\n",
       " ('science , and', 0.08333333333333333),\n",
       " (', and artificial', 0.08333333333333333),\n",
       " ('and artificial intelligence', 0.08333333333333333),\n",
       " ('artificial intelligence concerned', 0.08333333333333333),\n",
       " ('intelligence concerned with', 0.08333333333333333),\n",
       " ('concerned with the', 0.08333333333333333),\n",
       " ('with the interactions', 0.08333333333333333)]"
      ]
     },
     "execution_count": 19,
     "metadata": {},
     "output_type": "execute_result"
    }
   ],
   "source": [
    "# b) (1.0 points) Find weighted frequency occurrences from FreqDist. You can use the similar\n",
    "# function from Task 1. The code snippets and running outputs may be similar to:\n",
    "def find_weighted_frequency(dict):\n",
    "    frequency = nltk.FreqDist(dict)\n",
    "    max_frequency = max(frequency.values())\n",
    "    for word in frequency.keys():\n",
    "        frequency[word] = frequency[word]/max_frequency\n",
    "    return frequency\n",
    "ngram_freqs = find_weighted_frequency(fdis3)\n",
    "list(ngram_freqs.items())[0:20]"
   ]
  },
  {
   "cell_type": "code",
   "execution_count": 20,
   "id": "38ece420",
   "metadata": {},
   "outputs": [
    {
     "data": {
      "text/plain": [
       "True"
      ]
     },
     "execution_count": 20,
     "metadata": {},
     "output_type": "execute_result"
    }
   ],
   "source": [
    "'natural language processing' in ngram_freqs.keys()"
   ]
  },
  {
   "cell_type": "code",
   "execution_count": 22,
   "id": "493e8492",
   "metadata": {
    "scrolled": false
   },
   "outputs": [
    {
     "name": "stdout",
     "output_type": "stream",
     "text": [
      "THE SENTENCE SCORES BY FOR N-grams = 3.  I used 2 n-grams frequencies, 1 for the whole text, 1 for each sentence.\n",
      "\n",
      "Max n_grams frequency in the whole text:  12\n",
      "[('More recent systems based on machine-learning algorithms have many advantages over hand-produced rules: \\nDespite the popularity of machine learning in NLP research, symbolic methods are still (2020) commonly used:\\nSince the so-called \"statistical revolution\"[15][16] in the late 1980s and mid-1990s, much natural language processing research has relied heavily on machine learning.', 6.916666666666666), ('As an example, George Lakoff offers a methodology to build natural language processing (NLP) algorithms through the perspective of cognitive science, along with the findings of cognitive linguistics,[42] with two defining aspects:\\nTies with cognitive linguistics are part of the historical heritage of NLP, but they have been less frequently addressed since the statistical turn during the 1990s.', 6.833333333333327), ('Nevertheless, approaches to develop cognitive models towards technically operationalizable frameworks have been pursued in the context of various frameworks, e.g., of cognitive grammar,[44] functional grammar,[45] construction grammar,[46] computational psycholinguistics and cognitive neuroscience (e.g., ACT-R), however, with limited uptake in mainstream NLP (as measured by presence on major conferences[47] of the ACL).', 6.833333333333327), ('However, part-of-speech tagging introduced the use of hidden Markov models to natural language processing, and increasingly, research has focused on statistical models, which make soft, probabilistic decisions based on attaching real-valued weights to the features making up the input data.', 6.416666666666668), ('Increasingly, however, research has focused on statistical models, which make soft, probabilistic decisions based on attaching real-valued weights to each input feature (complex-valued embeddings,[17] and neural networks in general have also been proposed, for e.g.', 5.333333333333329), ('Natural language processing (NLP) is a subfield of linguistics, computer science, and artificial intelligence concerned with the interactions between computers and human language, in particular how to program computers to process and analyze large amounts of natural language data.', 5.0), (\"The premise of symbolic NLP is well-summarized by John Searle's Chinese room experiment: Given a collection of rules (e.g., a Chinese phrasebook, with questions and matching answers), the computer emulates natural language understanding (or other NLP tasks) by applying those rules to the data it confronts.\", 4.833333333333333), ('Popular techniques include the use of word embeddings to capture semantic properties of words, and an increase in end-to-end learning of a higher-level task (e.g., question answering) instead of relying on a pipeline of separate intermediate tasks (e.g., part-of-speech tagging and dependency parsing).', 4.416666666666667), ('[12]\\nIn the early days, many language-processing systems were designed by symbolic methods, i.e., the hand-coding of a set of rules, coupled with a dictionary lookup:[13][14] such as by writing grammars or devising heuristic rules for stemming.', 4.333333333333334), ('In some areas, this shift has entailed substantial changes in how NLP systems are designed, such that deep neural network-based approaches may be viewed as a new paradigm distinct from statistical natural language processing.', 4.166666666666667)]\n",
      "Wall time: 52 ms\n"
     ]
    }
   ],
   "source": [
    "%%time\n",
    "# c) (1.5 points) Define the function like calculate_sentence_scores_ngram(sent_tokens,\n",
    "# ngram_freqs, n_grams) to calculate the sentence scores for any N-grams. This function\n",
    "# is similar to the one in Task 1.\n",
    "\n",
    "def calculate_sentence_scores_ngram(sent_tokens, n_grams):\n",
    "    sentences = nltk.sent_tokenize(sent_tokens)\n",
    "    n_grams_dict = ngrams(nltk.word_tokenize(sent_tokens.lower()), n_grams)\n",
    "    ngrams_joint = [' '.join(grams) for grams in n_grams_dict]\n",
    "    #print(ngrams_joint)\n",
    "   \n",
    "    frequency = nltk.FreqDist(ngrams_joint)\n",
    "    #print(frequency.items())\n",
    "    max_frequency = max(frequency.values())\n",
    "    #print('Max n_grams frequency in the whole text: ', max_frequency)\n",
    "\n",
    "    for word in frequency.keys():\n",
    "        frequency[word] = frequency[word]/max_frequency\n",
    "    \n",
    "    sent_scores = {}\n",
    "    for x in sentences:\n",
    "        n_grams_dict1 = ngrams(nltk.word_tokenize(x.lower()), n_grams)\n",
    "        ngrams_joint1 = [' '.join(grams) for grams in n_grams_dict1]\n",
    "        frequency1 = nltk.FreqDist(ngrams_joint1)\n",
    "        for gram in frequency1.keys():\n",
    "            if x not in sent_scores.keys():\n",
    "                sent_scores[x] = frequency[gram]\n",
    "            else:\n",
    "                sent_scores[x] += frequency[gram]\n",
    "                #print(sent_scores)\n",
    "    return sent_scores\n",
    "\n",
    "print('THE SENTENCE SCORES BY FOR N-grams = 3.  I used 2 n-grams frequencies, 1 for the whole text, 1 for each sentence.\\n')\n",
    "\n",
    "sent_score_ngram = calculate_sentence_scores_ngram(mytext,3)\n",
    "print(sorted(sent_score_ngram.items(), key=lambda item: item[1], reverse=True)[0:10])"
   ]
  },
  {
   "cell_type": "code",
   "execution_count": null,
   "id": "91db3261",
   "metadata": {},
   "outputs": [],
   "source": []
  },
  {
   "cell_type": "code",
   "execution_count": 32,
   "id": "3b7acc84",
   "metadata": {},
   "outputs": [
    {
     "name": "stdout",
     "output_type": "stream",
     "text": [
      "{'More recent systems based on machine-learning algorithms have many advantages over hand-produced rules: \\nDespite the popularity of machine learning in NLP research, symbolic methods are still (2020) commonly used:\\nSince the so-called \"statistical revolution\"[15][16] in the late 1980s and mid-1990s, much natural language processing research has relied heavily on machine learning.': 6.916666666666666, 'As an example, George Lakoff offers a methodology to build natural language processing (NLP) algorithms through the perspective of cognitive science, along with the findings of cognitive linguistics,[42] with two defining aspects:\\nTies with cognitive linguistics are part of the historical heritage of NLP, but they have been less frequently addressed since the statistical turn during the 1990s.': 6.833333333333327, 'Nevertheless, approaches to develop cognitive models towards technically operationalizable frameworks have been pursued in the context of various frameworks, e.g., of cognitive grammar,[44] functional grammar,[45] construction grammar,[46] computational psycholinguistics and cognitive neuroscience (e.g., ACT-R), however, with limited uptake in mainstream NLP (as measured by presence on major conferences[47] of the ACL).': 6.833333333333327, 'However, part-of-speech tagging introduced the use of hidden Markov models to natural language processing, and increasingly, research has focused on statistical models, which make soft, probabilistic decisions based on attaching real-valued weights to the features making up the input data.': 6.416666666666668, 'Increasingly, however, research has focused on statistical models, which make soft, probabilistic decisions based on attaching real-valued weights to each input feature (complex-valued embeddings,[17] and neural networks in general have also been proposed, for e.g.': 5.333333333333329, 'Natural language processing (NLP) is a subfield of linguistics, computer science, and artificial intelligence concerned with the interactions between computers and human language, in particular how to program computers to process and analyze large amounts of natural language data.': 5.0, \"The premise of symbolic NLP is well-summarized by John Searle's Chinese room experiment: Given a collection of rules (e.g., a Chinese phrasebook, with questions and matching answers), the computer emulates natural language understanding (or other NLP tasks) by applying those rules to the data it confronts.\": 4.833333333333333, 'Popular techniques include the use of word embeddings to capture semantic properties of words, and an increase in end-to-end learning of a higher-level task (e.g., question answering) instead of relying on a pipeline of separate intermediate tasks (e.g., part-of-speech tagging and dependency parsing).': 4.416666666666667, '[12]\\nIn the early days, many language-processing systems were designed by symbolic methods, i.e., the hand-coding of a set of rules, coupled with a dictionary lookup:[13][14] such as by writing grammars or devising heuristic rules for stemming.': 4.333333333333334, 'In some areas, this shift has entailed substantial changes in how NLP systems are designed, such that deep neural network-based approaches may be viewed as a new paradigm distinct from statistical natural language processing.': 4.166666666666667, 'Starting in the late 1980s, however, there was a revolution in natural language processing with the introduction of machine learning algorithms for language processing.': 4.083333333333334, 'For instance, the term neural machine translation (NMT) emphasizes the fact that deep learning-based approaches to machine translation directly learn sequence-to-sequence transformations, obviating the need for intermediate steps such as word alignment and language modeling that was used in statistical machine translation (SMT).': 4.000000000000003, 'Already in 1950, Alan Turing published an article titled \"Computing Machinery and Intelligence\" which proposed what is now called the Turing test as a criterion of intelligence, though at the time that was not articulated as a problem separate from artificial intelligence.': 3.750000000000002, 'The machine-learning paradigm calls instead for using statistical inference to automatically learn such rules through the analysis of large corpora (the plural form of corpus, is a set of documents, possibly with human or computer annotations) of typical real-world examples.': 3.7500000000000013, 'As of 2020, three trends among the topics of the long-standing series of CoNLL Shared Tasks can be observed:[38]\\nMost higher-level NLP applications involve aspects that emulate intelligent behaviour and apparent comprehension of natural language.': 3.5833333333333344, 'Such models are generally more robust when given unfamiliar input, especially input that contains errors (as is very common for real-world data), and produce more reliable results when integrated into a larger system comprising multiple subtasks.': 3.5000000000000004, 'That popularity was due partly to a flurry of results showing that such techniques[7][8] can achieve state-of-the-art results in many natural language tasks, e.g., in language modeling[9] and parsing.': 3.416666666666668, 'Such models have the advantage that they can express the relative certainty of many different possible answers rather than only one, producing more reliable results when such a model is included as a component of a larger system.': 3.4166666666666674, '[6]\\nIn the 2010s, representation learning and deep neural network-style machine learning methods became widespread in natural language processing.': 3.4166666666666656, '[10][11] This is increasingly important in medicine and healthcare, where NLP helps analyze notes and text in electronic health records that would otherwise be inaccessible for study when seeking to improve care.': 3.0833333333333344, 'The following is a list of some of the most commonly researched tasks in natural language processing.': 2.9166666666666665, 'More recently, ideas of cognitive NLP have been revived as an approach to achieve explainability, e.g., under the notion of \"cognitive AI\".': 2.5833333333333335, 'More broadly speaking, the technical operationalization of increasingly advanced aspects of cognitive behaviour represents one of the developmental trajectories of NLP (see trends among CoNLL shared tasks above).': 2.583333333333333, \"This was due to both the steady increase in computational power (see Moore's law) and the gradual lessening of the dominance of Chomskyan theories of linguistics (e.g.\": 2.5, 'Challenges in natural language processing frequently involve speech recognition, natural-language understanding, and natural-language generation.': 2.4166666666666665, 'Up to the 1980s, most natural language processing systems were based on complex sets of hand-written rules.': 2.4166666666666665, 'Though natural language processing tasks are closely intertwined, they can be subdivided into categories for convenience.': 2.2499999999999996, 'Some of the earliest-used machine learning algorithms, such as decision trees, produced systems of hard if-then rules similar to existing hand-written rules.': 2.1666666666666656, 'transformational grammar), whose theoretical underpinnings discouraged the sort of corpus linguistics that underlies the machine-learning approach to language processing.': 1.9999999999999996, 'The goal is a computer capable of \"understanding\" the contents of documents, including the contextual nuances of the language within them.': 1.9999999999999993, 'Some of these tasks have direct real-world applications, while others more commonly serve as subtasks that are used to aid in solving larger tasks.': 1.9999999999999991, '[48] Likewise, ideas of cognitive NLP are inherent to neural models multimodal NLP (although rarely made explicit).': 1.9999999999999991, '[41] Especially during the age of symbolic NLP, the area of computational linguistics maintained strong ties with cognitive studies.': 1.916666666666666, 'Since 2015,[19] the field has thus largely abandoned statistical methods and shifted to neural networks for machine learning.': 1.8333333333333328, 'The technology can then accurately extract information and insights contained in the documents as well as categorize and organize the documents themselves.': 1.7499999999999993, 'Cognition refers to \"the mental action or process of acquiring knowledge and understanding through thought, experience, and the senses.': 1.7499999999999993, '[40] Cognitive linguistics is an interdisciplinary branch of linguistics, combining knowledge and research from both psychology and linguistics.': 1.7499999999999993, 'These algorithms take as input a large set of \"features\" that are generated from the input data.': 1.6666666666666665, 'Natural language processing has its roots in the 1950s.': 1.5833333333333328, 'The proposed test includes a task that involves the automated interpretation and generation of natural language.': 1.5, 'The cache language models upon which many speech recognition systems now rely are examples of such statistical models.': 1.4166666666666663, 'Since the neural turn, statistical methods in NLP research have been largely replaced by neural networks.': 1.4166666666666663, '\"[39] Cognitive science is the interdisciplinary, scientific study of the mind and its processes.': 1.4166666666666663, 'However, they continue to be relevant for contexts in which statistical interpretability and transparency is required.': 1.333333333333333, 'Based on long-standing trends in the field, it is possible to extrapolate future directions of NLP.': 1.333333333333333, 'Many different classes of machine-learning algorithms have been applied to natural-language-processing tasks.': 1.0000000000000002, 'A major drawback of statistical methods is that they require elaborate feature engineering.': 1.0, 'A coarse division is given below.': 0.41666666666666663, 'speech[18]).': 0.3333333333333333, '[49]': 0.08333333333333333}\n"
     ]
    }
   ],
   "source": [
    "# d) (1.0 points) Getting the summary is the same as Task 1. The following running output\n",
    "# examples show the summarized text using tri-grams and 3 sentences (based on\n",
    "# sentence count, word count, and percentage).\n",
    "\n",
    "sorted_summary_list = (sorted(sent_score_ngram.items(), key=lambda item: item[1], reverse=True))\n",
    "sorted_summary_dict = dict(sorted_summary_dict)\n",
    "print(sorted_summary_dict)\n"
   ]
  },
  {
   "cell_type": "code",
   "execution_count": 34,
   "id": "46d9c7b5",
   "metadata": {},
   "outputs": [
    {
     "name": "stdout",
     "output_type": "stream",
     "text": [
      "More recent systems based on machine-learning algorithms have many advantages over hand-produced rules: \n",
      "Despite the popularity of machine learning in NLP research, symbolic methods are still (2020) commonly used:\n",
      "Since the so-called \"statistical revolution\"[15][16] in the late 1980s and mid-1990s, much natural language processing research has relied heavily on machine learning. As an example, George Lakoff offers a methodology to build natural language processing (NLP) algorithms through the perspective of cognitive science, along with the findings of cognitive linguistics,[42] with two defining aspects:\n",
      "Ties with cognitive linguistics are part of the historical heritage of NLP, but they have been less frequently addressed since the statistical turn during the 1990s. Nevertheless, approaches to develop cognitive models towards technically operationalizable frameworks have been pursued in the context of various frameworks, e.g., of cognitive grammar,[44] functional grammar,[45] construction grammar,[46] computational psycholinguistics and cognitive neuroscience (e.g., ACT-R), however, with limited uptake in mainstream NLP (as measured by presence on major conferences[47] of the ACL).\n",
      "\n",
      " -----------------\n",
      " -----------------\n",
      " I RETRIEVED TOP 3 SENTENCES WITH THE HIGHEST SCORES BASED ON TRIGRAMS SENTENCING SCORES RANKING.\n"
     ]
    }
   ],
   "source": [
    "#a) Getting the Summary for Top 3 sentences.\n",
    "import heapq\n",
    "from collections import defaultdict\n",
    "from string import punctuation\n",
    "from heapq import nlargest\n",
    "\n",
    "ngrams_summary = heapq.nlargest(3, sorted_summary_dict, key=sorted_summary_dict.get)\n",
    "trigram_summary = ' '.join(ngrams_summary)\n",
    "print(trigram_summary)\n",
    "\n",
    "print(\"\\n -----------------\")\n",
    "print(\" -----------------\")\n",
    "print(\" I RETRIEVED TOP 3 SENTENCES WITH THE HIGHEST SCORES BASED ON TRIGRAMS SENTENCING SCORES RANKING.\")"
   ]
  },
  {
   "cell_type": "code",
   "execution_count": 36,
   "id": "c88da82e",
   "metadata": {},
   "outputs": [
    {
     "name": "stdout",
     "output_type": "stream",
     "text": [
      "**** THE FIRST 100 WORDS SUMMARY USING TRIGRAMS RANKING SENTENCES (keeping stopwords and special characters)\n"
     ]
    },
    {
     "data": {
      "text/plain": [
       "\" More recent systems based on machine-learning algorithms have many advantages over hand-produced rules : Despite the popularity of machine learning in NLP research , symbolic methods are still ( 2020 ) commonly used : Since the so-called `` statistical revolution '' [ 15 ] [ 16 ] in the late 1980s and mid-1990s , much natural language processing research has relied heavily on machine learning . As an example , George Lakoff offers a methodology to build natural language processing ( NLP ) algorithms through the perspective of cognitive science , along with the findings of cognitive linguistics , [\""
      ]
     },
     "execution_count": 36,
     "metadata": {},
     "output_type": "execute_result"
    }
   ],
   "source": [
    "# b) Summary for WORD COUNT with trigram ranking:\n",
    "trigram_summary_word = \"\"\n",
    "tokenized_summary = word_tokenize(trigram_summary)\n",
    "for w in tokenized_summary: #and w not in stopwords.words('english'):\n",
    "    if len(trigram_summary_word.split()) < 100:\n",
    "        trigram_summary_word += \" \"+ w\n",
    "print('**** THE FIRST 100 WORDS SUMMARY USING TRI-GRAMS RANKING SENTENCES (keeping stopwords and special characters)')\n",
    "trigram_summary_word"
   ]
  },
  {
   "cell_type": "code",
   "execution_count": 71,
   "id": "a1937d8b",
   "metadata": {},
   "outputs": [
    {
     "name": "stdout",
     "output_type": "stream",
     "text": [
      "Number of words in the summary by percentage (10%) is:  122\n",
      "Number of total words from the Website text is:  1218\n",
      "\n",
      "****THE FIRST 10% OF ALL THE WORDS FROM THE TOP RANKED SENTENCES:\n"
     ]
    },
    {
     "data": {
      "text/plain": [
       "\" More recent systems based on machine-learning algorithms have many advantages over hand-produced rules : Despite the popularity of machine learning in NLP research , symbolic methods are still ( 2020 ) commonly used : Since the so-called `` statistical revolution '' [ 15 ] [ 16 ] in the late 1980s and mid-1990s , much natural language processing research has relied heavily on machine learning.As an example , George Lakoff offers a methodology to build natural language processing ( NLP ) algorithms through the perspective of cognitive science , along with the findings of cognitive linguistics , [ 42 ] with two defining aspects : Ties with cognitive linguistics are part of the historical heritage of NLP , but they have been\""
      ]
     },
     "execution_count": 71,
     "metadata": {},
     "output_type": "execute_result"
    }
   ],
   "source": [
    "# c)  Summary for PERCENTAGE (10%) using tri-grams\n",
    "len(sent_tokenize(mytext))\n",
    "#get all the sentences from the tri-grams dictionary.\n",
    "total_summary_sentences = heapq.nlargest(50, sorted_summary_dict, key=sorted_summary_dict.get)\n",
    "full_trigrams_summary = ''.join(total_summary_sentences)\n",
    "\n",
    "trigrams_summary_pct = \"\"\n",
    "tokenized_summary1 = word_tokenize(full_trigrams_summary)\n",
    "for w in tokenized_summary1: \n",
    "    if len(trigrams_summary_pct.split()) < len(full_trigrams_summary.split())/10:\n",
    "        trigrams_summary_pct += \" \"+ w\n",
    "\n",
    "print('Number of words in the summary by percentage (10%) is: ', len(trigrams_summary_pct.split()))\n",
    "print('Number of total words from the Website text is: ', len(full_trigrams_summary.split()))\n",
    "print('\\n****THE FIRST 10% OF ALL THE WORDS FROM THE TRI-GRAMS RANKED SENTENCES:')\n",
    "trigrams_summary_pct"
   ]
  },
  {
   "cell_type": "code",
   "execution_count": null,
   "id": "2d8146cb",
   "metadata": {},
   "outputs": [],
   "source": []
  },
  {
   "cell_type": "markdown",
   "id": "3deecaf9",
   "metadata": {},
   "source": [
    "### 1 (0.5 points)  Compare these two methods for text summarization. What are different and why? Please clearly explain (around 100 words).\n",
    "\"The methods of summarization for the tri-gram method and the regular word and sentence tokenizing method are mildly different.  In a way, the word tokenizing summary method is similar with the 1-gram method because 1-gram takes in 1 word which is similar with being tokenized.  The results of the summary are also different due to the way the sentences being scored and ranked.  In the word tokenized method, the sentences are ranked by the total sum of each token score in a sentence.  In the tri-gram, each sentence is ranked by the tri-grams (3 words) scores.\"  "
   ]
  },
  {
   "cell_type": "code",
   "execution_count": 76,
   "id": "95aefc7c",
   "metadata": {},
   "outputs": [
    {
     "data": {
      "text/plain": [
       "106"
      ]
     },
     "execution_count": 76,
     "metadata": {},
     "output_type": "execute_result"
    }
   ],
   "source": [
    "txt = \"The methods of summarization for the tri-gram method and the regular word and sentence tokenizing method are mildly different.  In a way, the word tokenizing summary method is similar with the 1-gram method because 1-gram takes in 1 word which is similar with being tokenized.  The results of the summary are also different due to the way the sentences being scored and ranked.  In the word tokenized method, the sentences are ranked by the total sum of each token score in a sentence.  In the tri-gram, each sentence is ranked by the tri-grams (3 words) scores.\"\n",
    "len(word_tokenize(txt))\n"
   ]
  },
  {
   "cell_type": "markdown",
   "id": "193b823a",
   "metadata": {},
   "source": [
    "### 2 (0.5 points) List references to appreciate other’s work in a professional manner.\n",
    "\n",
    "REFERENCES:\n",
    "\n",
    "Malik, U. (2018). Text Summarization with NLTK in Python. Stack Abuse. Retrieved from https://stackabuse.com/text-summarization-with-nltk-in-python/\n",
    "\n",
    "Panchal, A. (2019). NLP - Text Summarization using NLTK: TF-IDF Algorithm. Retrieved from https://towardsdatascience.com/text-summarization-using-tf-idf-e64a0644ace3\n",
    "\n",
    "Robinson, A. (2020). Term Frequency Text Summarization. Retrieved from https://medium.com/analytics-vidhya/term-frequency-text-summarization-cc4e6381254c\n",
    "\n"
   ]
  },
  {
   "cell_type": "code",
   "execution_count": null,
   "id": "51c93e49",
   "metadata": {},
   "outputs": [],
   "source": [
    "# 3 You are strongly suggested to follow Python coding convention to write the code. The\n",
    "# program should be robust and will be tested with several different text files for grading."
   ]
  }
 ],
 "metadata": {
  "kernelspec": {
   "display_name": "Python 3 (ipykernel)",
   "language": "python",
   "name": "python3"
  },
  "language_info": {
   "codemirror_mode": {
    "name": "ipython",
    "version": 3
   },
   "file_extension": ".py",
   "mimetype": "text/x-python",
   "name": "python",
   "nbconvert_exporter": "python",
   "pygments_lexer": "ipython3",
   "version": "3.9.7"
  }
 },
 "nbformat": 4,
 "nbformat_minor": 5
}
