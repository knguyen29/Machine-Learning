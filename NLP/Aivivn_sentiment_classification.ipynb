{
 "cells": [
  {
   "cell_type": "code",
   "execution_count": 1,
   "metadata": {
    "colab": {
     "base_uri": "https://localhost:8080/"
    },
    "id": "6PeAIND8GKb4",
    "outputId": "03626a04-bc24-4575-897b-995e618ae4db"
   },
   "outputs": [
    {
     "name": "stdout",
     "output_type": "stream",
     "text": [
      "Collecting unidecode\n",
      "  Downloading Unidecode-1.3.8-py3-none-any.whl (235 kB)\n",
      "\u001b[2K     \u001b[90m━━━━━━━━━━━━━━━━━━━━━━━━━━━━━━━━━━━━━━━━\u001b[0m \u001b[32m235.5/235.5 kB\u001b[0m \u001b[31m4.5 MB/s\u001b[0m eta \u001b[36m0:00:00\u001b[0m\n",
      "\u001b[?25hCollecting emoji\n",
      "  Downloading emoji-2.11.0-py2.py3-none-any.whl (433 kB)\n",
      "\u001b[2K     \u001b[90m━━━━━━━━━━━━━━━━━━━━━━━━━━━━━━━━━━━━━━━━\u001b[0m \u001b[32m433.8/433.8 kB\u001b[0m \u001b[31m9.6 MB/s\u001b[0m eta \u001b[36m0:00:00\u001b[0m\n",
      "\u001b[?25hInstalling collected packages: unidecode, emoji\n",
      "Successfully installed emoji-2.11.0 unidecode-1.3.8\n"
     ]
    }
   ],
   "source": [
    "!pip install unidecode emoji"
   ]
  },
  {
   "cell_type": "code",
   "execution_count": null,
   "metadata": {
    "id": "qvX8tcsBL5sK"
   },
   "outputs": [],
   "source": []
  },
  {
   "cell_type": "code",
   "execution_count": 2,
   "metadata": {
    "id": "_JJNJUB00EAy"
   },
   "outputs": [],
   "source": [
    "import re\n",
    "import string\n",
    "import unidecode\n",
    "import numpy as np\n",
    "import scipy.sparse as sp\n",
    "import emoji\n",
    "from sklearn import utils as skutils\n",
    "from sklearn.svm import SVC\n",
    "from sklearn.preprocessing import StandardScaler\n",
    "from sklearn.base import BaseEstimator, TransformerMixin\n",
    "from sklearn.feature_extraction.text import TfidfVectorizer\n",
    "from sklearn.pipeline import Pipeline, FeatureUnion\n",
    "\n",
    "\n",
    "class RemoveConsecutiveSpaces(BaseEstimator, TransformerMixin):\n",
    "    def remove_consecutive_spaces(self, s):\n",
    "        return ' '.join(s.split())\n",
    "\n",
    "    def transform(self, x):\n",
    "        return [self.remove_consecutive_spaces(s) for s in x]\n",
    "\n",
    "    def fit(self, x, y=None):\n",
    "        return self\n",
    "\n",
    "class RemovePunct(BaseEstimator, TransformerMixin):\n",
    "    non_special_chars = re.compile('[^A-Za-z0-9 ]+')\n",
    "\n",
    "    def remove_punct(self, s):\n",
    "        return re.sub(self.non_special_chars, '', s)\n",
    "\n",
    "    def transform(self, x):\n",
    "        return [self.remove_punct(s) for s in x]\n",
    "\n",
    "    def fit(self, x, y=None):\n",
    "        return self\n",
    "\n",
    "\n",
    "class Lowercase(BaseEstimator, TransformerMixin):\n",
    "    def transform(self, x):\n",
    "        return [s.lower() for s in x]\n",
    "\n",
    "    def fit(self, x, y=None):\n",
    "        return self\n",
    "\n",
    "\n",
    "class RemoveTone(BaseEstimator, TransformerMixin):\n",
    "    def remove_tone(self, s):\n",
    "        return unidecode.unidecode(s)\n",
    "\n",
    "    def transform(self, x):\n",
    "        return [self.remove_tone(s) for s in x]\n",
    "\n",
    "    def fit(self, x, y=None):\n",
    "        return self\n",
    "\n",
    "\n",
    "class NumWordsCharsFeature(BaseEstimator, TransformerMixin):\n",
    "    def count_char(self, s):\n",
    "        return len(s)\n",
    "\n",
    "    def count_word(self, s):\n",
    "        return len(s.split())\n",
    "\n",
    "    def transform(self, x):\n",
    "        count_chars = sp.csr_matrix([self.count_char(s) for s in x], dtype=np.float64).transpose()\n",
    "        count_words = sp.csr_matrix([self.count_word(s) for s in x], dtype=np.float64).transpose()\n",
    "\n",
    "        return sp.hstack([count_chars, count_words])\n",
    "\n",
    "    def fit(self, x, y=None):\n",
    "        return self\n",
    "\n",
    "\n",
    "class ExclamationMarkFeature(BaseEstimator, TransformerMixin):\n",
    "    def count_exclamation(self, s):\n",
    "        count = s.count('!') + s.count('?')\n",
    "        return count / (1 + len(s.split()))\n",
    "\n",
    "    def transform(self, x):\n",
    "        counts = [self.count_exclamation(s) for s in x]\n",
    "        return sp.csr_matrix(counts, dtype=np.float64).transpose()\n",
    "\n",
    "    def fit(self, x, y=None):\n",
    "        return self\n",
    "\n",
    "\n",
    "class NumCapitalLettersFeature(BaseEstimator, TransformerMixin):\n",
    "    def count_upper(self, s):\n",
    "        n_uppers = sum(1 for c in s if c.isupper())\n",
    "        return n_uppers / (1 + len(s))\n",
    "\n",
    "    def transform(self, x):\n",
    "        counts = [self.count_upper(s) for s in x]\n",
    "        return sp.csr_matrix(counts, dtype=np.float64).transpose()\n",
    "\n",
    "    def fit(self, x, y=None):\n",
    "        return self\n",
    "\n",
    "\n",
    "class NumLowercaseLettersFeature(BaseEstimator, TransformerMixin):\n",
    "    def count_lower(self, s):\n",
    "        n_lowers = sum(1 for c in s if c.islower())\n",
    "        return n_lowers / (1 + len(s))\n",
    "\n",
    "    def transform(self, x):\n",
    "        counts = [self.count_lower(s) for s in x]\n",
    "        return sp.csr_matrix(counts, dtype=np.float64).transpose()\n",
    "\n",
    "    def fit(self, x, y=None):\n",
    "        return self\n",
    "\n",
    "\n",
    "class NumPunctsFeature(BaseEstimator, TransformerMixin):\n",
    "    def count(self, l1, l2):\n",
    "        return sum([1 for x in l1 if x in l2])\n",
    "\n",
    "    def count_punct(self, s):\n",
    "        n_puncts = self.count(s, set(string.punctuation))\n",
    "        return n_puncts / (1 + len(s))\n",
    "\n",
    "    def transform(self, x):\n",
    "        counts = [self.count_punct(s) for s in x]\n",
    "        return sp.csr_matrix(counts, dtype=np.float64).transpose()\n",
    "\n",
    "    def fit(self, x, y=None):\n",
    "        return self\n",
    "\n",
    "\n",
    "class NumEmojiFeature(BaseEstimator, TransformerMixin):\n",
    "    def count_emoji(self, s):\n",
    "        emoji_list = []\n",
    "        for c in s:\n",
    "           # if c in emoji.UNICODE_EMOJI:\n",
    "\n",
    "        #if c in\n",
    "            emojis = emoji.distinct_emoji_list(c)\n",
    "            emoji_list.append(emojis)\n",
    "        return len(emoji_list) / (1 + len(s.split()))\n",
    "\n",
    "    def transform(self, x):\n",
    "        counts = [self.count_emoji(s) for s in x]\n",
    "        return sp.csr_matrix(counts, dtype=np.float64).transpose()\n",
    "\n",
    "    def fit(self, x, y=None):\n",
    "        return self\n",
    "\n",
    "\n",
    "def load_train_data(filename):\n",
    "    data = []\n",
    "    target = []\n",
    "    target_names = ['pos', 'neg']\n",
    "\n",
    "    with open(filename) as file:\n",
    "        lines = file.read()\n",
    "\n",
    "    samples = lines.strip().split(\"\\n\\ntrain_\")\n",
    "\n",
    "    for sample in samples:\n",
    "        sample = sample.strip()\n",
    "        d = sample[8:-3].strip()\n",
    "        t = sample[-1:]\n",
    "        data.append(d)\n",
    "        target.append(t)\n",
    "\n",
    "    return skutils.Bunch(data=data, target=target, target_names=target_names)\n",
    "\n",
    "\n",
    "def load_test_data(filename):\n",
    "    data = []\n",
    "\n",
    "    with open(filename) as file:\n",
    "        lines = file.read()\n",
    "\n",
    "    samples = lines.strip().split(\"\\n\\ntest_\")\n",
    "\n",
    "    for sample in samples:\n",
    "        sample = sample.strip()\n",
    "        d = sample[8:-1].strip()\n",
    "        data.append(d)\n",
    "\n",
    "    return skutils.Bunch(data=data)\n"
   ]
  },
  {
   "cell_type": "code",
   "execution_count": null,
   "metadata": {
    "id": "oKVE8ihYL5oe"
   },
   "outputs": [],
   "source": []
  },
  {
   "cell_type": "code",
   "execution_count": 3,
   "metadata": {
    "id": "azRl8yNh0QoB"
   },
   "outputs": [],
   "source": [
    "# train_data = load_train_data('/content/drive/MyDrive/ColabNotebooks/NLP/train.crash')\n",
    "train_data= load_train_data('train.crash')\n",
    "\n",
    "clf = Pipeline([\n",
    "        ('remove_spaces', RemoveConsecutiveSpaces()),\n",
    "        ('features', FeatureUnion([\n",
    "            ('custom_features_pipeline', Pipeline([\n",
    "                ('custom_features', FeatureUnion([\n",
    "                    ('f01', NumWordsCharsFeature()),\n",
    "                    ('f02', NumCapitalLettersFeature()),\n",
    "                    ('f03', ExclamationMarkFeature()),\n",
    "                    ('f04', NumPunctsFeature()),\n",
    "                    ('f05', NumLowercaseLettersFeature()),\n",
    "                    ('f06', NumEmojiFeature())\n",
    "                ], n_jobs=-1)),\n",
    "                ('scaler', StandardScaler(with_mean=False))\n",
    "            ])),\n",
    "            ('word_char_features_pipeline', Pipeline([\n",
    "                ('lowercase', Lowercase()),\n",
    "                ('word_char_features', FeatureUnion([\n",
    "                    ('with_tone', Pipeline([\n",
    "                        ('remove_punct', RemovePunct()),\n",
    "                        ('tf_idf_word', TfidfVectorizer(ngram_range=(1, 4), norm='l2', min_df=2))\n",
    "                    ])),\n",
    "                    ('with_tone_char', TfidfVectorizer(ngram_range=(1, 6), norm='l2', min_df=2, analyzer='char')),\n",
    "                    ('with_tone_char_wb', TfidfVectorizer(ngram_range=(1, 6), norm='l2', min_df=2, analyzer='char_wb')),\n",
    "                    ('without_tone', Pipeline([\n",
    "                        ('remove_tone', RemoveTone()),\n",
    "                        ('without_tone_features', FeatureUnion([\n",
    "                            ('tf_idf', Pipeline([\n",
    "                                ('remove_punct', RemovePunct()),\n",
    "                                ('word', TfidfVectorizer(ngram_range=(1, 4), norm='l2', min_df=2))\n",
    "                            ])),\n",
    "                            ('tf_idf_char', TfidfVectorizer(ngram_range=(1, 6), norm='l2', min_df=2, analyzer='char')),\n",
    "                            ('tf_idf_char_wb',\n",
    "                             TfidfVectorizer(ngram_range=(1, 6), norm='l2', min_df=2, analyzer='char_wb'))\n",
    "                        ], n_jobs=-1))\n",
    "                    ]))\n",
    "                ], n_jobs=-1))\n",
    "            ]))\n",
    "        ], n_jobs=-1)),\n",
    "        ('alg', SVC(kernel='linear', C=0.2175, class_weight=None, verbose=True))\n",
    "    ])"
   ]
  },
  {
   "cell_type": "code",
   "execution_count": 4,
   "metadata": {
    "colab": {
     "base_uri": "https://localhost:8080/",
     "height": 519
    },
    "id": "73c4maCuL5j7",
    "outputId": "8809a20a-c37c-47da-bc09-9092a53eccba"
   },
   "outputs": [
    {
     "name": "stdout",
     "output_type": "stream",
     "text": [
      "[LibSVM]CPU times: user 22min 48s, sys: 3.45 s, total: 22min 52s\n",
      "Wall time: 23min 33s\n"
     ]
    },
    {
     "data": {
      "text/html": [
       "<style>#sk-container-id-1 {color: black;background-color: white;}#sk-container-id-1 pre{padding: 0;}#sk-container-id-1 div.sk-toggleable {background-color: white;}#sk-container-id-1 label.sk-toggleable__label {cursor: pointer;display: block;width: 100%;margin-bottom: 0;padding: 0.3em;box-sizing: border-box;text-align: center;}#sk-container-id-1 label.sk-toggleable__label-arrow:before {content: \"▸\";float: left;margin-right: 0.25em;color: #696969;}#sk-container-id-1 label.sk-toggleable__label-arrow:hover:before {color: black;}#sk-container-id-1 div.sk-estimator:hover label.sk-toggleable__label-arrow:before {color: black;}#sk-container-id-1 div.sk-toggleable__content {max-height: 0;max-width: 0;overflow: hidden;text-align: left;background-color: #f0f8ff;}#sk-container-id-1 div.sk-toggleable__content pre {margin: 0.2em;color: black;border-radius: 0.25em;background-color: #f0f8ff;}#sk-container-id-1 input.sk-toggleable__control:checked~div.sk-toggleable__content {max-height: 200px;max-width: 100%;overflow: auto;}#sk-container-id-1 input.sk-toggleable__control:checked~label.sk-toggleable__label-arrow:before {content: \"▾\";}#sk-container-id-1 div.sk-estimator input.sk-toggleable__control:checked~label.sk-toggleable__label {background-color: #d4ebff;}#sk-container-id-1 div.sk-label input.sk-toggleable__control:checked~label.sk-toggleable__label {background-color: #d4ebff;}#sk-container-id-1 input.sk-hidden--visually {border: 0;clip: rect(1px 1px 1px 1px);clip: rect(1px, 1px, 1px, 1px);height: 1px;margin: -1px;overflow: hidden;padding: 0;position: absolute;width: 1px;}#sk-container-id-1 div.sk-estimator {font-family: monospace;background-color: #f0f8ff;border: 1px dotted black;border-radius: 0.25em;box-sizing: border-box;margin-bottom: 0.5em;}#sk-container-id-1 div.sk-estimator:hover {background-color: #d4ebff;}#sk-container-id-1 div.sk-parallel-item::after {content: \"\";width: 100%;border-bottom: 1px solid gray;flex-grow: 1;}#sk-container-id-1 div.sk-label:hover label.sk-toggleable__label {background-color: #d4ebff;}#sk-container-id-1 div.sk-serial::before {content: \"\";position: absolute;border-left: 1px solid gray;box-sizing: border-box;top: 0;bottom: 0;left: 50%;z-index: 0;}#sk-container-id-1 div.sk-serial {display: flex;flex-direction: column;align-items: center;background-color: white;padding-right: 0.2em;padding-left: 0.2em;position: relative;}#sk-container-id-1 div.sk-item {position: relative;z-index: 1;}#sk-container-id-1 div.sk-parallel {display: flex;align-items: stretch;justify-content: center;background-color: white;position: relative;}#sk-container-id-1 div.sk-item::before, #sk-container-id-1 div.sk-parallel-item::before {content: \"\";position: absolute;border-left: 1px solid gray;box-sizing: border-box;top: 0;bottom: 0;left: 50%;z-index: -1;}#sk-container-id-1 div.sk-parallel-item {display: flex;flex-direction: column;z-index: 1;position: relative;background-color: white;}#sk-container-id-1 div.sk-parallel-item:first-child::after {align-self: flex-end;width: 50%;}#sk-container-id-1 div.sk-parallel-item:last-child::after {align-self: flex-start;width: 50%;}#sk-container-id-1 div.sk-parallel-item:only-child::after {width: 0;}#sk-container-id-1 div.sk-dashed-wrapped {border: 1px dashed gray;margin: 0 0.4em 0.5em 0.4em;box-sizing: border-box;padding-bottom: 0.4em;background-color: white;}#sk-container-id-1 div.sk-label label {font-family: monospace;font-weight: bold;display: inline-block;line-height: 1.2em;}#sk-container-id-1 div.sk-label-container {text-align: center;}#sk-container-id-1 div.sk-container {/* jupyter's `normalize.less` sets `[hidden] { display: none; }` but bootstrap.min.css set `[hidden] { display: none !important; }` so we also need the `!important` here to be able to override the default hidden behavior on the sphinx rendered scikit-learn.org. See: https://github.com/scikit-learn/scikit-learn/issues/21755 */display: inline-block !important;position: relative;}#sk-container-id-1 div.sk-text-repr-fallback {display: none;}</style><div id=\"sk-container-id-1\" class=\"sk-top-container\"><div class=\"sk-text-repr-fallback\"><pre>Pipeline(steps=[(&#x27;remove_spaces&#x27;, RemoveConsecutiveSpaces()),\n",
       "                (&#x27;features&#x27;,\n",
       "                 FeatureUnion(n_jobs=-1,\n",
       "                              transformer_list=[(&#x27;custom_features_pipeline&#x27;,\n",
       "                                                 Pipeline(steps=[(&#x27;custom_features&#x27;,\n",
       "                                                                  FeatureUnion(n_jobs=-1,\n",
       "                                                                               transformer_list=[(&#x27;f01&#x27;,\n",
       "                                                                                                  NumWordsCharsFeature()),\n",
       "                                                                                                 (&#x27;f02&#x27;,\n",
       "                                                                                                  NumCapitalLettersFeature()),\n",
       "                                                                                                 (&#x27;f03&#x27;,\n",
       "                                                                                                  ExclamationMarkFeature()),\n",
       "                                                                                                 (&#x27;f04&#x27;,\n",
       "                                                                                                  NumPunctsFeature()),\n",
       "                                                                                                 (&#x27;f05&#x27;,...\n",
       "                                                                                                                                transformer_list=[(&#x27;tf_idf&#x27;,\n",
       "                                                                                                                                                   Pipeline(steps=[(&#x27;remove_punct&#x27;,\n",
       "                                                                                                                                                                    RemovePunct()),\n",
       "                                                                                                                                                                   (&#x27;word&#x27;,\n",
       "                                                                                                                                                                    TfidfVectorizer(min_df=2,\n",
       "                                                                                                                                                                                    ngram_range=(1,\n",
       "                                                                                                                                                                                                 4)))])),\n",
       "                                                                                                                                                  (&#x27;tf_idf_char&#x27;,\n",
       "                                                                                                                                                   TfidfVectorizer(analyzer=&#x27;char&#x27;,\n",
       "                                                                                                                                                                   min_df=2,\n",
       "                                                                                                                                                                   ngram_range=(1,\n",
       "                                                                                                                                                                                6))),\n",
       "                                                                                                                                                  (&#x27;tf_idf_char_wb&#x27;,\n",
       "                                                                                                                                                   TfidfVectorizer(analyzer=&#x27;char_wb&#x27;,\n",
       "                                                                                                                                                                   min_df=2,\n",
       "                                                                                                                                                                   ngram_range=(1,\n",
       "                                                                                                                                                                                6)))]))]))]))]))])),\n",
       "                (&#x27;alg&#x27;, SVC(C=0.2175, kernel=&#x27;linear&#x27;, verbose=True))])</pre><b>In a Jupyter environment, please rerun this cell to show the HTML representation or trust the notebook. <br />On GitHub, the HTML representation is unable to render, please try loading this page with nbviewer.org.</b></div><div class=\"sk-container\" hidden><div class=\"sk-item sk-dashed-wrapped\"><div class=\"sk-label-container\"><div class=\"sk-label sk-toggleable\"><input class=\"sk-toggleable__control sk-hidden--visually\" id=\"sk-estimator-id-1\" type=\"checkbox\" ><label for=\"sk-estimator-id-1\" class=\"sk-toggleable__label sk-toggleable__label-arrow\">Pipeline</label><div class=\"sk-toggleable__content\"><pre>Pipeline(steps=[(&#x27;remove_spaces&#x27;, RemoveConsecutiveSpaces()),\n",
       "                (&#x27;features&#x27;,\n",
       "                 FeatureUnion(n_jobs=-1,\n",
       "                              transformer_list=[(&#x27;custom_features_pipeline&#x27;,\n",
       "                                                 Pipeline(steps=[(&#x27;custom_features&#x27;,\n",
       "                                                                  FeatureUnion(n_jobs=-1,\n",
       "                                                                               transformer_list=[(&#x27;f01&#x27;,\n",
       "                                                                                                  NumWordsCharsFeature()),\n",
       "                                                                                                 (&#x27;f02&#x27;,\n",
       "                                                                                                  NumCapitalLettersFeature()),\n",
       "                                                                                                 (&#x27;f03&#x27;,\n",
       "                                                                                                  ExclamationMarkFeature()),\n",
       "                                                                                                 (&#x27;f04&#x27;,\n",
       "                                                                                                  NumPunctsFeature()),\n",
       "                                                                                                 (&#x27;f05&#x27;,...\n",
       "                                                                                                                                transformer_list=[(&#x27;tf_idf&#x27;,\n",
       "                                                                                                                                                   Pipeline(steps=[(&#x27;remove_punct&#x27;,\n",
       "                                                                                                                                                                    RemovePunct()),\n",
       "                                                                                                                                                                   (&#x27;word&#x27;,\n",
       "                                                                                                                                                                    TfidfVectorizer(min_df=2,\n",
       "                                                                                                                                                                                    ngram_range=(1,\n",
       "                                                                                                                                                                                                 4)))])),\n",
       "                                                                                                                                                  (&#x27;tf_idf_char&#x27;,\n",
       "                                                                                                                                                   TfidfVectorizer(analyzer=&#x27;char&#x27;,\n",
       "                                                                                                                                                                   min_df=2,\n",
       "                                                                                                                                                                   ngram_range=(1,\n",
       "                                                                                                                                                                                6))),\n",
       "                                                                                                                                                  (&#x27;tf_idf_char_wb&#x27;,\n",
       "                                                                                                                                                   TfidfVectorizer(analyzer=&#x27;char_wb&#x27;,\n",
       "                                                                                                                                                                   min_df=2,\n",
       "                                                                                                                                                                   ngram_range=(1,\n",
       "                                                                                                                                                                                6)))]))]))]))]))])),\n",
       "                (&#x27;alg&#x27;, SVC(C=0.2175, kernel=&#x27;linear&#x27;, verbose=True))])</pre></div></div></div><div class=\"sk-serial\"><div class=\"sk-item\"><div class=\"sk-estimator sk-toggleable\"><input class=\"sk-toggleable__control sk-hidden--visually\" id=\"sk-estimator-id-2\" type=\"checkbox\" ><label for=\"sk-estimator-id-2\" class=\"sk-toggleable__label sk-toggleable__label-arrow\">RemoveConsecutiveSpaces</label><div class=\"sk-toggleable__content\"><pre>RemoveConsecutiveSpaces()</pre></div></div></div><div class=\"sk-item sk-dashed-wrapped\"><div class=\"sk-label-container\"><div class=\"sk-label sk-toggleable\"><input class=\"sk-toggleable__control sk-hidden--visually\" id=\"sk-estimator-id-3\" type=\"checkbox\" ><label for=\"sk-estimator-id-3\" class=\"sk-toggleable__label sk-toggleable__label-arrow\">features: FeatureUnion</label><div class=\"sk-toggleable__content\"><pre>FeatureUnion(n_jobs=-1,\n",
       "             transformer_list=[(&#x27;custom_features_pipeline&#x27;,\n",
       "                                Pipeline(steps=[(&#x27;custom_features&#x27;,\n",
       "                                                 FeatureUnion(n_jobs=-1,\n",
       "                                                              transformer_list=[(&#x27;f01&#x27;,\n",
       "                                                                                 NumWordsCharsFeature()),\n",
       "                                                                                (&#x27;f02&#x27;,\n",
       "                                                                                 NumCapitalLettersFeature()),\n",
       "                                                                                (&#x27;f03&#x27;,\n",
       "                                                                                 ExclamationMarkFeature()),\n",
       "                                                                                (&#x27;f04&#x27;,\n",
       "                                                                                 NumPunctsFeature()),\n",
       "                                                                                (&#x27;f05&#x27;,\n",
       "                                                                                 NumLowercaseLettersFeature()),\n",
       "                                                                                (&#x27;f06&#x27;,\n",
       "                                                                                 NumEmojiFeature())])),\n",
       "                                                (&#x27;scaler&#x27;,\n",
       "                                                 Sta...\n",
       "                                                                                                 (&#x27;without_tone_features&#x27;,\n",
       "                                                                                                  FeatureUnion(n_jobs=-1,\n",
       "                                                                                                               transformer_list=[(&#x27;tf_idf&#x27;,\n",
       "                                                                                                                                  Pipeline(steps=[(&#x27;remove_punct&#x27;,\n",
       "                                                                                                                                                   RemovePunct()),\n",
       "                                                                                                                                                  (&#x27;word&#x27;,\n",
       "                                                                                                                                                   TfidfVectorizer(min_df=2,\n",
       "                                                                                                                                                                   ngram_range=(1,\n",
       "                                                                                                                                                                                4)))])),\n",
       "                                                                                                                                 (&#x27;tf_idf_char&#x27;,\n",
       "                                                                                                                                  TfidfVectorizer(analyzer=&#x27;char&#x27;,\n",
       "                                                                                                                                                  min_df=2,\n",
       "                                                                                                                                                  ngram_range=(1,\n",
       "                                                                                                                                                               6))),\n",
       "                                                                                                                                 (&#x27;tf_idf_char_wb&#x27;,\n",
       "                                                                                                                                  TfidfVectorizer(analyzer=&#x27;char_wb&#x27;,\n",
       "                                                                                                                                                  min_df=2,\n",
       "                                                                                                                                                  ngram_range=(1,\n",
       "                                                                                                                                                               6)))]))]))]))]))])</pre></div></div></div><div class=\"sk-parallel\"><div class=\"sk-parallel-item\"><div class=\"sk-item\"><div class=\"sk-label-container\"><div class=\"sk-label sk-toggleable\"><label>custom_features_pipeline</label></div></div><div class=\"sk-serial\"><div class=\"sk-item\"><div class=\"sk-serial\"><div class=\"sk-item sk-dashed-wrapped\"><div class=\"sk-label-container\"><div class=\"sk-label sk-toggleable\"><input class=\"sk-toggleable__control sk-hidden--visually\" id=\"sk-estimator-id-4\" type=\"checkbox\" ><label for=\"sk-estimator-id-4\" class=\"sk-toggleable__label sk-toggleable__label-arrow\">custom_features: FeatureUnion</label><div class=\"sk-toggleable__content\"><pre>FeatureUnion(n_jobs=-1,\n",
       "             transformer_list=[(&#x27;f01&#x27;, NumWordsCharsFeature()),\n",
       "                               (&#x27;f02&#x27;, NumCapitalLettersFeature()),\n",
       "                               (&#x27;f03&#x27;, ExclamationMarkFeature()),\n",
       "                               (&#x27;f04&#x27;, NumPunctsFeature()),\n",
       "                               (&#x27;f05&#x27;, NumLowercaseLettersFeature()),\n",
       "                               (&#x27;f06&#x27;, NumEmojiFeature())])</pre></div></div></div><div class=\"sk-parallel\"><div class=\"sk-parallel-item\"><div class=\"sk-item\"><div class=\"sk-label-container\"><div class=\"sk-label sk-toggleable\"><label>f01</label></div></div><div class=\"sk-serial\"><div class=\"sk-item\"><div class=\"sk-estimator sk-toggleable\"><input class=\"sk-toggleable__control sk-hidden--visually\" id=\"sk-estimator-id-5\" type=\"checkbox\" ><label for=\"sk-estimator-id-5\" class=\"sk-toggleable__label sk-toggleable__label-arrow\">NumWordsCharsFeature</label><div class=\"sk-toggleable__content\"><pre>NumWordsCharsFeature()</pre></div></div></div></div></div></div><div class=\"sk-parallel-item\"><div class=\"sk-item\"><div class=\"sk-label-container\"><div class=\"sk-label sk-toggleable\"><label>f02</label></div></div><div class=\"sk-serial\"><div class=\"sk-item\"><div class=\"sk-estimator sk-toggleable\"><input class=\"sk-toggleable__control sk-hidden--visually\" id=\"sk-estimator-id-6\" type=\"checkbox\" ><label for=\"sk-estimator-id-6\" class=\"sk-toggleable__label sk-toggleable__label-arrow\">NumCapitalLettersFeature</label><div class=\"sk-toggleable__content\"><pre>NumCapitalLettersFeature()</pre></div></div></div></div></div></div><div class=\"sk-parallel-item\"><div class=\"sk-item\"><div class=\"sk-label-container\"><div class=\"sk-label sk-toggleable\"><label>f03</label></div></div><div class=\"sk-serial\"><div class=\"sk-item\"><div class=\"sk-estimator sk-toggleable\"><input class=\"sk-toggleable__control sk-hidden--visually\" id=\"sk-estimator-id-7\" type=\"checkbox\" ><label for=\"sk-estimator-id-7\" class=\"sk-toggleable__label sk-toggleable__label-arrow\">ExclamationMarkFeature</label><div class=\"sk-toggleable__content\"><pre>ExclamationMarkFeature()</pre></div></div></div></div></div></div><div class=\"sk-parallel-item\"><div class=\"sk-item\"><div class=\"sk-label-container\"><div class=\"sk-label sk-toggleable\"><label>f04</label></div></div><div class=\"sk-serial\"><div class=\"sk-item\"><div class=\"sk-estimator sk-toggleable\"><input class=\"sk-toggleable__control sk-hidden--visually\" id=\"sk-estimator-id-8\" type=\"checkbox\" ><label for=\"sk-estimator-id-8\" class=\"sk-toggleable__label sk-toggleable__label-arrow\">NumPunctsFeature</label><div class=\"sk-toggleable__content\"><pre>NumPunctsFeature()</pre></div></div></div></div></div></div><div class=\"sk-parallel-item\"><div class=\"sk-item\"><div class=\"sk-label-container\"><div class=\"sk-label sk-toggleable\"><label>f05</label></div></div><div class=\"sk-serial\"><div class=\"sk-item\"><div class=\"sk-estimator sk-toggleable\"><input class=\"sk-toggleable__control sk-hidden--visually\" id=\"sk-estimator-id-9\" type=\"checkbox\" ><label for=\"sk-estimator-id-9\" class=\"sk-toggleable__label sk-toggleable__label-arrow\">NumLowercaseLettersFeature</label><div class=\"sk-toggleable__content\"><pre>NumLowercaseLettersFeature()</pre></div></div></div></div></div></div><div class=\"sk-parallel-item\"><div class=\"sk-item\"><div class=\"sk-label-container\"><div class=\"sk-label sk-toggleable\"><label>f06</label></div></div><div class=\"sk-serial\"><div class=\"sk-item\"><div class=\"sk-estimator sk-toggleable\"><input class=\"sk-toggleable__control sk-hidden--visually\" id=\"sk-estimator-id-10\" type=\"checkbox\" ><label for=\"sk-estimator-id-10\" class=\"sk-toggleable__label sk-toggleable__label-arrow\">NumEmojiFeature</label><div class=\"sk-toggleable__content\"><pre>NumEmojiFeature()</pre></div></div></div></div></div></div></div></div><div class=\"sk-item\"><div class=\"sk-estimator sk-toggleable\"><input class=\"sk-toggleable__control sk-hidden--visually\" id=\"sk-estimator-id-11\" type=\"checkbox\" ><label for=\"sk-estimator-id-11\" class=\"sk-toggleable__label sk-toggleable__label-arrow\">StandardScaler</label><div class=\"sk-toggleable__content\"><pre>StandardScaler(with_mean=False)</pre></div></div></div></div></div></div></div></div><div class=\"sk-parallel-item\"><div class=\"sk-item\"><div class=\"sk-label-container\"><div class=\"sk-label sk-toggleable\"><label>word_char_features_pipeline</label></div></div><div class=\"sk-serial\"><div class=\"sk-item\"><div class=\"sk-serial\"><div class=\"sk-item\"><div class=\"sk-estimator sk-toggleable\"><input class=\"sk-toggleable__control sk-hidden--visually\" id=\"sk-estimator-id-12\" type=\"checkbox\" ><label for=\"sk-estimator-id-12\" class=\"sk-toggleable__label sk-toggleable__label-arrow\">Lowercase</label><div class=\"sk-toggleable__content\"><pre>Lowercase()</pre></div></div></div><div class=\"sk-item sk-dashed-wrapped\"><div class=\"sk-label-container\"><div class=\"sk-label sk-toggleable\"><input class=\"sk-toggleable__control sk-hidden--visually\" id=\"sk-estimator-id-13\" type=\"checkbox\" ><label for=\"sk-estimator-id-13\" class=\"sk-toggleable__label sk-toggleable__label-arrow\">word_char_features: FeatureUnion</label><div class=\"sk-toggleable__content\"><pre>FeatureUnion(n_jobs=-1,\n",
       "             transformer_list=[(&#x27;with_tone&#x27;,\n",
       "                                Pipeline(steps=[(&#x27;remove_punct&#x27;, RemovePunct()),\n",
       "                                                (&#x27;tf_idf_word&#x27;,\n",
       "                                                 TfidfVectorizer(min_df=2,\n",
       "                                                                 ngram_range=(1,\n",
       "                                                                              4)))])),\n",
       "                               (&#x27;with_tone_char&#x27;,\n",
       "                                TfidfVectorizer(analyzer=&#x27;char&#x27;, min_df=2,\n",
       "                                                ngram_range=(1, 6))),\n",
       "                               (&#x27;with_tone_char_wb&#x27;,\n",
       "                                TfidfVectorizer(analyzer=&#x27;char_wb&#x27;, min_df=2,\n",
       "                                                ngram_range=(1, 6))),\n",
       "                               (&#x27;without_tone&#x27;,\n",
       "                                Pipeli...ne()),\n",
       "                                                (&#x27;without_tone_features&#x27;,\n",
       "                                                 FeatureUnion(n_jobs=-1,\n",
       "                                                              transformer_list=[(&#x27;tf_idf&#x27;,\n",
       "                                                                                 Pipeline(steps=[(&#x27;remove_punct&#x27;,\n",
       "                                                                                                  RemovePunct()),\n",
       "                                                                                                 (&#x27;word&#x27;,\n",
       "                                                                                                  TfidfVectorizer(min_df=2,\n",
       "                                                                                                                  ngram_range=(1,\n",
       "                                                                                                                               4)))])),\n",
       "                                                                                (&#x27;tf_idf_char&#x27;,\n",
       "                                                                                 TfidfVectorizer(analyzer=&#x27;char&#x27;,\n",
       "                                                                                                 min_df=2,\n",
       "                                                                                                 ngram_range=(1,\n",
       "                                                                                                              6))),\n",
       "                                                                                (&#x27;tf_idf_char_wb&#x27;,\n",
       "                                                                                 TfidfVectorizer(analyzer=&#x27;char_wb&#x27;,\n",
       "                                                                                                 min_df=2,\n",
       "                                                                                                 ngram_range=(1,\n",
       "                                                                                                              6)))]))]))])</pre></div></div></div><div class=\"sk-parallel\"><div class=\"sk-parallel-item\"><div class=\"sk-item\"><div class=\"sk-label-container\"><div class=\"sk-label sk-toggleable\"><label>with_tone</label></div></div><div class=\"sk-serial\"><div class=\"sk-item\"><div class=\"sk-serial\"><div class=\"sk-item\"><div class=\"sk-estimator sk-toggleable\"><input class=\"sk-toggleable__control sk-hidden--visually\" id=\"sk-estimator-id-14\" type=\"checkbox\" ><label for=\"sk-estimator-id-14\" class=\"sk-toggleable__label sk-toggleable__label-arrow\">RemovePunct</label><div class=\"sk-toggleable__content\"><pre>RemovePunct()</pre></div></div></div><div class=\"sk-item\"><div class=\"sk-estimator sk-toggleable\"><input class=\"sk-toggleable__control sk-hidden--visually\" id=\"sk-estimator-id-15\" type=\"checkbox\" ><label for=\"sk-estimator-id-15\" class=\"sk-toggleable__label sk-toggleable__label-arrow\">TfidfVectorizer</label><div class=\"sk-toggleable__content\"><pre>TfidfVectorizer(min_df=2, ngram_range=(1, 4))</pre></div></div></div></div></div></div></div></div><div class=\"sk-parallel-item\"><div class=\"sk-item\"><div class=\"sk-label-container\"><div class=\"sk-label sk-toggleable\"><label>with_tone_char</label></div></div><div class=\"sk-serial\"><div class=\"sk-item\"><div class=\"sk-estimator sk-toggleable\"><input class=\"sk-toggleable__control sk-hidden--visually\" id=\"sk-estimator-id-16\" type=\"checkbox\" ><label for=\"sk-estimator-id-16\" class=\"sk-toggleable__label sk-toggleable__label-arrow\">TfidfVectorizer</label><div class=\"sk-toggleable__content\"><pre>TfidfVectorizer(analyzer=&#x27;char&#x27;, min_df=2, ngram_range=(1, 6))</pre></div></div></div></div></div></div><div class=\"sk-parallel-item\"><div class=\"sk-item\"><div class=\"sk-label-container\"><div class=\"sk-label sk-toggleable\"><label>with_tone_char_wb</label></div></div><div class=\"sk-serial\"><div class=\"sk-item\"><div class=\"sk-estimator sk-toggleable\"><input class=\"sk-toggleable__control sk-hidden--visually\" id=\"sk-estimator-id-17\" type=\"checkbox\" ><label for=\"sk-estimator-id-17\" class=\"sk-toggleable__label sk-toggleable__label-arrow\">TfidfVectorizer</label><div class=\"sk-toggleable__content\"><pre>TfidfVectorizer(analyzer=&#x27;char_wb&#x27;, min_df=2, ngram_range=(1, 6))</pre></div></div></div></div></div></div><div class=\"sk-parallel-item\"><div class=\"sk-item\"><div class=\"sk-label-container\"><div class=\"sk-label sk-toggleable\"><label>without_tone</label></div></div><div class=\"sk-serial\"><div class=\"sk-item\"><div class=\"sk-serial\"><div class=\"sk-item\"><div class=\"sk-estimator sk-toggleable\"><input class=\"sk-toggleable__control sk-hidden--visually\" id=\"sk-estimator-id-18\" type=\"checkbox\" ><label for=\"sk-estimator-id-18\" class=\"sk-toggleable__label sk-toggleable__label-arrow\">RemoveTone</label><div class=\"sk-toggleable__content\"><pre>RemoveTone()</pre></div></div></div><div class=\"sk-item sk-dashed-wrapped\"><div class=\"sk-label-container\"><div class=\"sk-label sk-toggleable\"><input class=\"sk-toggleable__control sk-hidden--visually\" id=\"sk-estimator-id-19\" type=\"checkbox\" ><label for=\"sk-estimator-id-19\" class=\"sk-toggleable__label sk-toggleable__label-arrow\">without_tone_features: FeatureUnion</label><div class=\"sk-toggleable__content\"><pre>FeatureUnion(n_jobs=-1,\n",
       "             transformer_list=[(&#x27;tf_idf&#x27;,\n",
       "                                Pipeline(steps=[(&#x27;remove_punct&#x27;, RemovePunct()),\n",
       "                                                (&#x27;word&#x27;,\n",
       "                                                 TfidfVectorizer(min_df=2,\n",
       "                                                                 ngram_range=(1,\n",
       "                                                                              4)))])),\n",
       "                               (&#x27;tf_idf_char&#x27;,\n",
       "                                TfidfVectorizer(analyzer=&#x27;char&#x27;, min_df=2,\n",
       "                                                ngram_range=(1, 6))),\n",
       "                               (&#x27;tf_idf_char_wb&#x27;,\n",
       "                                TfidfVectorizer(analyzer=&#x27;char_wb&#x27;, min_df=2,\n",
       "                                                ngram_range=(1, 6)))])</pre></div></div></div><div class=\"sk-parallel\"><div class=\"sk-parallel-item\"><div class=\"sk-item\"><div class=\"sk-label-container\"><div class=\"sk-label sk-toggleable\"><label>tf_idf</label></div></div><div class=\"sk-serial\"><div class=\"sk-item\"><div class=\"sk-serial\"><div class=\"sk-item\"><div class=\"sk-estimator sk-toggleable\"><input class=\"sk-toggleable__control sk-hidden--visually\" id=\"sk-estimator-id-20\" type=\"checkbox\" ><label for=\"sk-estimator-id-20\" class=\"sk-toggleable__label sk-toggleable__label-arrow\">RemovePunct</label><div class=\"sk-toggleable__content\"><pre>RemovePunct()</pre></div></div></div><div class=\"sk-item\"><div class=\"sk-estimator sk-toggleable\"><input class=\"sk-toggleable__control sk-hidden--visually\" id=\"sk-estimator-id-21\" type=\"checkbox\" ><label for=\"sk-estimator-id-21\" class=\"sk-toggleable__label sk-toggleable__label-arrow\">TfidfVectorizer</label><div class=\"sk-toggleable__content\"><pre>TfidfVectorizer(min_df=2, ngram_range=(1, 4))</pre></div></div></div></div></div></div></div></div><div class=\"sk-parallel-item\"><div class=\"sk-item\"><div class=\"sk-label-container\"><div class=\"sk-label sk-toggleable\"><label>tf_idf_char</label></div></div><div class=\"sk-serial\"><div class=\"sk-item\"><div class=\"sk-estimator sk-toggleable\"><input class=\"sk-toggleable__control sk-hidden--visually\" id=\"sk-estimator-id-22\" type=\"checkbox\" ><label for=\"sk-estimator-id-22\" class=\"sk-toggleable__label sk-toggleable__label-arrow\">TfidfVectorizer</label><div class=\"sk-toggleable__content\"><pre>TfidfVectorizer(analyzer=&#x27;char&#x27;, min_df=2, ngram_range=(1, 6))</pre></div></div></div></div></div></div><div class=\"sk-parallel-item\"><div class=\"sk-item\"><div class=\"sk-label-container\"><div class=\"sk-label sk-toggleable\"><label>tf_idf_char_wb</label></div></div><div class=\"sk-serial\"><div class=\"sk-item\"><div class=\"sk-estimator sk-toggleable\"><input class=\"sk-toggleable__control sk-hidden--visually\" id=\"sk-estimator-id-23\" type=\"checkbox\" ><label for=\"sk-estimator-id-23\" class=\"sk-toggleable__label sk-toggleable__label-arrow\">TfidfVectorizer</label><div class=\"sk-toggleable__content\"><pre>TfidfVectorizer(analyzer=&#x27;char_wb&#x27;, min_df=2, ngram_range=(1, 6))</pre></div></div></div></div></div></div></div></div></div></div></div></div></div></div></div></div></div></div></div></div></div></div><div class=\"sk-item\"><div class=\"sk-estimator sk-toggleable\"><input class=\"sk-toggleable__control sk-hidden--visually\" id=\"sk-estimator-id-24\" type=\"checkbox\" ><label for=\"sk-estimator-id-24\" class=\"sk-toggleable__label sk-toggleable__label-arrow\">SVC</label><div class=\"sk-toggleable__content\"><pre>SVC(C=0.2175, kernel=&#x27;linear&#x27;, verbose=True)</pre></div></div></div></div></div></div></div>"
      ],
      "text/plain": [
       "Pipeline(steps=[('remove_spaces', RemoveConsecutiveSpaces()),\n",
       "                ('features',\n",
       "                 FeatureUnion(n_jobs=-1,\n",
       "                              transformer_list=[('custom_features_pipeline',\n",
       "                                                 Pipeline(steps=[('custom_features',\n",
       "                                                                  FeatureUnion(n_jobs=-1,\n",
       "                                                                               transformer_list=[('f01',\n",
       "                                                                                                  NumWordsCharsFeature()),\n",
       "                                                                                                 ('f02',\n",
       "                                                                                                  NumCapitalLettersFeature()),\n",
       "                                                                                                 ('f03',\n",
       "                                                                                                  ExclamationMarkFeature()),\n",
       "                                                                                                 ('f04',\n",
       "                                                                                                  NumPunctsFeature()),\n",
       "                                                                                                 ('f05',...\n",
       "                                                                                                                                transformer_list=[('tf_idf',\n",
       "                                                                                                                                                   Pipeline(steps=[('remove_punct',\n",
       "                                                                                                                                                                    RemovePunct()),\n",
       "                                                                                                                                                                   ('word',\n",
       "                                                                                                                                                                    TfidfVectorizer(min_df=2,\n",
       "                                                                                                                                                                                    ngram_range=(1,\n",
       "                                                                                                                                                                                                 4)))])),\n",
       "                                                                                                                                                  ('tf_idf_char',\n",
       "                                                                                                                                                   TfidfVectorizer(analyzer='char',\n",
       "                                                                                                                                                                   min_df=2,\n",
       "                                                                                                                                                                   ngram_range=(1,\n",
       "                                                                                                                                                                                6))),\n",
       "                                                                                                                                                  ('tf_idf_char_wb',\n",
       "                                                                                                                                                   TfidfVectorizer(analyzer='char_wb',\n",
       "                                                                                                                                                                   min_df=2,\n",
       "                                                                                                                                                                   ngram_range=(1,\n",
       "                                                                                                                                                                                6)))]))]))]))]))])),\n",
       "                ('alg', SVC(C=0.2175, kernel='linear', verbose=True))])"
      ]
     },
     "execution_count": 4,
     "metadata": {},
     "output_type": "execute_result"
    }
   ],
   "source": [
    "%%time\n",
    "#train model\n",
    "clf.fit(train_data.data, train_data.target)"
   ]
  },
  {
   "cell_type": "code",
   "execution_count": 10,
   "metadata": {
    "colab": {
     "base_uri": "https://localhost:8080/"
    },
    "id": "DSI8ng-oL5PO",
    "outputId": "2ac29baa-a70e-43b0-9c5a-7e81e0fd45fb"
   },
   "outputs": [
    {
     "name": "stdout",
     "output_type": "stream",
     "text": [
      "0.0\n",
      "CPU times: user 7min 53s, sys: 1.23 s, total: 7min 54s\n",
      "Wall time: 8min 11s\n"
     ]
    }
   ],
   "source": [
    "%%time\n",
    "from sklearn.metrics import accuracy_score\n",
    "\n",
    "# test_data = load_test_data('/content/drive/MyDrive/ColabNotebooks/NLP/test.crash')\n",
    "test_data = load_test_data('test.crash')\n",
    "predicted = clf.predict(test_data.data)\n",
    "print( accuracy_score(test_data.data, predicted))\n",
    "with open('submission.csv', 'w') as f:\n",
    "        f.write('id,label\\n')\n",
    "        i = 0\n",
    "        for p in predicted:\n",
    "            f.write('test_{id},{p}\\n'.format(id=str(i).zfill(6), p=p))\n",
    "            i = i + 1"
   ]
  },
  {
   "cell_type": "code",
   "execution_count": 6,
   "metadata": {
    "id": "oP1Eya4PL5L0"
   },
   "outputs": [],
   "source": [
    "import joblib"
   ]
  },
  {
   "cell_type": "code",
   "execution_count": 7,
   "metadata": {
    "colab": {
     "base_uri": "https://localhost:8080/"
    },
    "id": "-XpefFc2L5Iz",
    "outputId": "ff861be7-b082-4f98-a48f-8ace6870ae1b"
   },
   "outputs": [
    {
     "data": {
      "text/plain": [
       "['my_model.joblib']"
      ]
     },
     "execution_count": 7,
     "metadata": {},
     "output_type": "execute_result"
    }
   ],
   "source": [
    "joblib.dump(clf, 'my_model.joblib')"
   ]
  },
  {
   "cell_type": "code",
   "execution_count": 8,
   "metadata": {
    "id": "WbnaFEY1L5Fr"
   },
   "outputs": [],
   "source": [
    "import pickle\n",
    "\n",
    "# Lưu mô hình vào file\n",
    "with open('my_model.pkl', 'wb') as file:\n",
    "    pickle.dump(clf, file)"
   ]
  },
  {
   "cell_type": "code",
   "execution_count": 9,
   "metadata": {
    "colab": {
     "base_uri": "https://localhost:8080/"
    },
    "id": "WKuk35VAL5Cz",
    "outputId": "2668eb4a-bcae-43d2-bf01-82b21bd13e4c"
   },
   "outputs": [
    {
     "data": {
      "text/plain": [
       "array(['0', '0', '0', '0', '0', '0', '0', '0', '0', '0', '0', '0', '0',\n",
       "       '0', '0', '0', '0', '0', '0', '0', '1', '0', '0', '0', '0', '0',\n",
       "       '0', '0', '0', '0', '0', '0'], dtype='<U1')"
      ]
     },
     "execution_count": 9,
     "metadata": {},
     "output_type": "execute_result"
    }
   ],
   "source": [
    "clf.predict(\"vui lắm bạn ơi, xin chào bạn nhé\")"
   ]
  },
  {
   "cell_type": "code",
   "execution_count": null,
   "metadata": {
    "id": "ewxdM24iL4_a"
   },
   "outputs": [],
   "source": []
  },
  {
   "cell_type": "code",
   "execution_count": null,
   "metadata": {
    "id": "z-6MpkRiL477"
   },
   "outputs": [],
   "source": []
  },
  {
   "cell_type": "code",
   "execution_count": null,
   "metadata": {
    "id": "y2NxVCXkL43k"
   },
   "outputs": [],
   "source": []
  }
 ],
 "metadata": {
  "accelerator": "GPU",
  "colab": {
   "gpuType": "T4",
   "provenance": []
  },
  "kernelspec": {
   "display_name": "Python 3 (ipykernel)",
   "language": "python",
   "name": "python3"
  },
  "language_info": {
   "codemirror_mode": {
    "name": "ipython",
    "version": 3
   },
   "file_extension": ".py",
   "mimetype": "text/x-python",
   "name": "python",
   "nbconvert_exporter": "python",
   "pygments_lexer": "ipython3",
   "version": "3.9.20"
  }
 },
 "nbformat": 4,
 "nbformat_minor": 4
}
