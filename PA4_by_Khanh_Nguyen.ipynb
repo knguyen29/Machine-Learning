{
 "cells": [
  {
   "cell_type": "code",
   "execution_count": null,
   "metadata": {
    "id": "Z9gQYCAhYRZX"
   },
   "outputs": [],
   "source": []
  },
  {
   "cell_type": "markdown",
   "metadata": {
    "id": "mRSJLpz6YTMU"
   },
   "source": [
    "## PROGRAMMING ASSIGNMENT 4\n",
    "Professor: Dr. Liao\n",
    "\n",
    "by Khanh Nguyen\n",
    "\n",
    "Semantic Role Labeler (SRL)\n",
    "In this assignment, you will build a semantic role labeler. Many, in fact all, aspects of the system you will develop are left up to you. You can solve this task with neural or traditional ML approaches. To set up your system, first download datafile data.wsj.zip from blackboard under assignment 4, and then go to the following website https://www.cs.upc.edu/~srlconll/soft.html where you will find the goal and description of this homework, the documentation of each data file in the data.wsj.zip file and scripts you will need to use such as srl-eval.pl(https://www.cs.upc.edu/~srlconll/srl-eval.pl) as attached on\n",
    "Blackboard. Here, we summarize the highlights from the documentation. However, we recommended that you go to the website and read through the details as well.\n",
    "Please use the data.wsj.zip from the blackboard and NOT the version on the website. With the exception of this detail, the information on the website and in this document are consistent.\n",
    "Dataset for this assignment consists of sentences taken from the Wall Street Journal. In the data.wsj.zip file, you can find folders corresponding to words, targets, synt.cha, synt.upc, synt.col2h, synt.col2, props, and ne. Each folder has one test file and one training file. Files ending with .train will be used to train your model, .test files will be used to test your model.\n",
    "\n",
    "In each of the files, all the words are stored in vertical format: words are separated by one newline and sentences are separated by two newlines. Folder ‘word’ has one column with English words. ‘targets’ folder has one column with the base form of verbs. Any words that are not targets are marked with ‘-‘.\n",
    "Training and test files in ‘ne’ have one column with named entities (Location, person, Organization, miscellaneous). Start of a named entity is indicated with round bracket ‘(‘, middles are only filled with * that is just a space filler, and the end of the label is indicated with the round bracket ‘)’.\n",
    " All four folders with ‘synt’ have part of speech tags(PoS) tags of each word listed in the ‘words’ files and full parses created with different methods. You can choose the one synt folder among those four folders to train\n",
    "and test your model, and justify why you chose the folder at the start of the code. ‘props’ folder has target verbs in the first column (same as data in ‘targets’ folder) and semantic roles for each word in the rest of the columns: The rest of the columns are the ones you are ‘Predicting’ with your classifier.\n",
    " See section on “Generating Output” for more details on the format of this file. All training files have exactly the same number of lines, and all test files have exactly the same number lines. Thus, if you want to search the named entity tag of a word written in first line of file ‘test.wsj.words.train’, you can find it in ‘test.wsj.ne.train’ in the first line in ne folder.\n",
    "You can also find a perl script(srl-eval.pl) on the blackboard that you can use to evaluate with test.wsj.props.test file that is in the ‘props’ folder. This script will compute accuracy based on test.wsj.props.test file and your model output that should. have the exact same format with test.wsj.props.test file.\n",
    "Your task is to tackle semantic role labeling tasks on your own, with design and implementation decisions that you justify based on what you learned in class.\n",
    "Generating Input: You can create your own input files with the following command, you can create your own script instead of using the following command inside the unzipped provided data folder:\n",
    "Command to create training input file:\n",
    "paste -d ' ' [list of files you want to use] > train-file.txt\n",
    "For example, if you want to paste words, synt.cha, ne, targets and props file with a space and create\n",
    "‘train-file.txt’ in the same folder, the command will look like below\n",
    "\n",
    "paste -d ' ' words/test.wsj.words.train synt.cha/test.wsj.synt.cha.train\n",
    "ne/test.wsj.ne.train targets/test.wsj.targets.train props/test.wsj.props.train > train-file.txt\n",
    "\n",
    "If you replace .train to .test, you can create the test file. Following command is to create testing input file is as below:\n",
    "\n",
    "paste -d ' ' [list of files you want to use]> test-file.txt\n",
    "\n",
    "Example usage is like below.\n",
    "\n",
    "paste -d ' ' words/test.wsj.words.test synt.cha/test.wsj.synt.cha.test ne/test.wsj.ne. test targets/test.wsj.targets.test props/test.wsj.props.test > test-file.txt\n",
    "\n",
    "You can change synt.cha with different syntax such as synt.upc, synt.col2, synt.col2h. Synt.cha has PoS and parser using a method created by Eugene Charniak. Synt.col2 has PoS tags and full parses of Collins', with WSJ-style Non-Terminals. Synt.col2h has PoS tags and full parses of Collins', with Collins-style Non\u0002Terminals (include lexical heads and enriched tags). synt.upc has PoS tags, and partial parses by the UPC processors. Detailed descriptions and related papers are also provided at the website which may help\n",
    "you choose what syntax you want for your system.\n",
    "\n",
    "Generating Output: With given features and target verb, you will generate the semantic role in a format same as \"props/test.wsj.props.test \" file (first column: target verbs, non-verbs should be replaced with “-” that is a space filler; remaining columns: arguments of each target verb). Number of remaining\n",
    "columns are same as target verbs in the sentence. If one sentence contains 4 target verbs, your output should have 5 columns: one column with target verbs and ‘-’, and the following columns with semantic roles for each verb. Start of semantic role label is indicated with a round bracket ‘(‘, middle is filled with * that is just a filler, and end of the label is indicated with the round bracket ‘)’. In the props file, the (core) arguments are labeled by numbers (I.e. A0:acceptor, A1:thing accepted, A2:accepted-from,\n",
    "A3:attribute), Adjunct-like arguments are labeled as AM-LOC(locative), TMP(temporal), EXT(extent), CAU(cause), DIR(directional), ADV(adjectival), MNR(manner), NEG(negation), MOD(modal), DIS(discourse) and etc.\n",
    "\n",
    "If you want to know more details of each label, please check the following website:\n",
    "https://verbs.colorado.edu/~mpalmer/projects/ace/PBguidelines.pdf\n",
    "Machine Behavior Example: The expected output for given input for training and testing are shown\n",
    "below.\n",
    "\n",
    "[Training] Example training input is as follows. This input contains two targets. The last column shows the semantic roles of the verb “harp”, second to the last column is for the verb “think”. Your goal is to predict the last two columns using columns 1-5 as input. For this specific example, you will be predicting those 2 last columns since we have 2 target verbs within the sentence.\n",
    "One possible method to deal with this situation would be to create 2 input sentences for each target verb. To extract features, you can append features you selected and train the vectors with the built-in functions of the deep learning library you are using, same for labels. If you used other methods, please state that at the beginning of your code. You can consider this as a multi-label classification task like HW3, so the number of output nodes of your neural nets for each word will be same as number of labels you predicted (as in A0, V, A1, AM-MOD and etc). You can choose to use any type of neural net you\n",
    "want such as bi-lstm, lstm, rnn, or other traditional ML techniques. Please make sure to state what you are using and why you are using it. During the training process, you are required to generate a graph with loss values calculated with the training set and test set. With the graph you have, please tune your parameters based on the graph. Please state in your code how you validated your model.\n",
    "\n",
    "[Testing] Once you finish training, you will be using all columns except the last column as an input of the testing process. Use the same method to extract features you used to train. Last columns (semantic role columns) are labels you are predicting.\n",
    "\n",
    "[Post Processing] To evaluate your system, you will be using the srl-eval.pl file as mentioned in “Evaluation” section. To use the script, you need to convert the predicted columns to the original props file format, which has the one target verb column (provided in targets file) and props (semantic roles\n",
    "you predicted) as shown in the below image. If there are 2 different verbs in the sentence, and you created different input sequences for each verb, you will need to merge the separate outputs back into a single input sequence.\n",
    "\n",
    "Documentation: Use the same documentation format from previous assignments. However, this time provides more extensive documentation on your machine learning algorithm of choice, features, and any other design decisions along with their justifications. Then, describe your code. As always, write a\n",
    "short description of each function on top of it.\n",
    "\n",
    "Evaluation: Evaluate your system output on test data using srl-eval.pl. The evaluation script (srl\u0002eval.pl) expects two parameters: The first is the name of the file containing gold standard propositions (\"props/test.wsj.props.test\"); the second is the name of the file containing predicted propositions (your model output). This is the only place you should use test data. You must not touch it or look at it before your system is final. Any parameter tuning or architecture adjustment must be carried out on training data. Save your system output in a log file.\n",
    "\n",
    "Deliverables: Submit a zip file named with student1[firstname initial][lastname]_student2[firstname\n",
    "initial][lastname]_[hw#].zip (i.e. student 1 jamie lee, student 2 kahyun lee: jlee_klee_hw1.zip). Zip file\n",
    "should include: Your code(s), models, model output, evaluation output with test data and loss values of\n",
    "training set and validation set generated during training process in graph (.png or bmp or any format).\n",
    "Give descriptive names to your models (if any). E.g., rnn_258_softmax… Indicate in the model name\n",
    "your best model that produces the best output in the log file."
   ]
  },
  {
   "cell_type": "code",
   "execution_count": 1,
   "metadata": {
    "id": "1-XGO_o_YgPf"
   },
   "outputs": [],
   "source": [
    "import numpy as np\n",
    "from sklearn.feature_extraction.text import CountVectorizer\n",
    "from sklearn.preprocessing import LabelEncoder\n",
    "from sklearn.svm import SVC\n",
    "from sklearn.naive_bayes import MultinomialNB\n",
    "from sklearn.metrics import classification_report\n",
    "from keras.preprocessing.sequence import pad_sequences\n",
    "from keras.models import Sequential\n",
    "from keras.layers import Embedding, Conv1D, GlobalMaxPooling1D, SimpleRNN, LSTM, Dense"
   ]
  },
  {
   "cell_type": "code",
   "execution_count": null,
   "metadata": {
    "id": "Sonpnwj-9YGp"
   },
   "outputs": [],
   "source": [
    "import numpy as np\n",
    "import matplotlib.pyplot as plt\n",
    "from keras.models import Model\n",
    "from keras.layers import Input, LSTM, Embedding, Dense, Bidirectional\n",
    "from keras.preprocessing.sequence import pad_sequences"
   ]
  },
  {
   "cell_type": "markdown",
   "metadata": {
    "id": "__9HyUtx9bUW"
   },
   "source": [
    "## DRAFT TEST CODE ON SHORT INPUT"
   ]
  },
  {
   "cell_type": "code",
   "execution_count": 3,
   "metadata": {
    "colab": {
     "base_uri": "https://localhost:8080/",
     "height": 875
    },
    "id": "rsJV2wI6yXu_",
    "outputId": "374aa442-02d2-4bf6-8715-903e0ff39a8b"
   },
   "outputs": [
    {
     "name": "stdout",
     "output_type": "stream",
     "text": [
      "Epoch 1/10\n"
     ]
    },
    {
     "name": "stderr",
     "output_type": "stream",
     "text": [
      "/usr/local/lib/python3.10/dist-packages/tensorflow/python/util/dispatch.py:1260: SyntaxWarning: In loss categorical_crossentropy, expected y_pred.shape to be (batch_size, num_classes) with num_classes > 1. Received: y_pred.shape=(None, 8, 1). Consider using 'binary_crossentropy' if you only have 2 classes.\n",
      "  return dispatch_target(*args, **kwargs)\n"
     ]
    },
    {
     "name": "stdout",
     "output_type": "stream",
     "text": [
      "1/1 [==============================] - 11s 11s/step - loss: 0.0000e+00 - accuracy: 1.0000 - val_loss: 0.0000e+00 - val_accuracy: 1.0000\n",
      "Epoch 2/10\n",
      "1/1 [==============================] - 0s 71ms/step - loss: 0.0000e+00 - accuracy: 1.0000 - val_loss: 0.0000e+00 - val_accuracy: 1.0000\n",
      "Epoch 3/10\n",
      "1/1 [==============================] - 0s 72ms/step - loss: 0.0000e+00 - accuracy: 1.0000 - val_loss: 0.0000e+00 - val_accuracy: 1.0000\n",
      "Epoch 4/10\n",
      "1/1 [==============================] - 0s 56ms/step - loss: 0.0000e+00 - accuracy: 1.0000 - val_loss: 0.0000e+00 - val_accuracy: 1.0000\n",
      "Epoch 5/10\n",
      "1/1 [==============================] - 0s 39ms/step - loss: 0.0000e+00 - accuracy: 1.0000 - val_loss: 0.0000e+00 - val_accuracy: 1.0000\n",
      "Epoch 6/10\n",
      "1/1 [==============================] - 0s 38ms/step - loss: 0.0000e+00 - accuracy: 1.0000 - val_loss: 0.0000e+00 - val_accuracy: 1.0000\n",
      "Epoch 7/10\n",
      "1/1 [==============================] - 0s 36ms/step - loss: 0.0000e+00 - accuracy: 1.0000 - val_loss: 0.0000e+00 - val_accuracy: 1.0000\n",
      "Epoch 8/10\n",
      "1/1 [==============================] - 0s 38ms/step - loss: 0.0000e+00 - accuracy: 1.0000 - val_loss: 0.0000e+00 - val_accuracy: 1.0000\n",
      "Epoch 9/10\n",
      "1/1 [==============================] - 0s 39ms/step - loss: 0.0000e+00 - accuracy: 1.0000 - val_loss: 0.0000e+00 - val_accuracy: 1.0000\n",
      "Epoch 10/10\n",
      "1/1 [==============================] - 0s 40ms/step - loss: 0.0000e+00 - accuracy: 1.0000 - val_loss: 0.0000e+00 - val_accuracy: 1.0000\n"
     ]
    },
    {
     "data": {
      "image/png": "[encoded data removed]",
      "text/plain": [
       "<Figure size 640x480 with 1 Axes>"
      ]
     },
     "metadata": {},
     "output_type": "display_data"
    }
   ],
   "source": [
    "%%time\n",
    "\n",
    "# Example training input\n",
    "training_input = \"\"\"\n",
    "And                            CC            (S1(S*           *    -      -                       *               *\n",
    "I                              PRP             (NP*)          *    -      -                    (A0*)              *\n",
    "think                          VBP             (VP*           *    think  think                 (V*)              *\n",
    "a                              DT    (SBAR(S(NP(NP*           *    -      -                    (A1*            (A0*\n",
    "lot                            NN                 *)          *    -      -                       *               *\n",
    "of                             IN              (PP*           *    -      -                       *               *\n",
    "people                         NNS             (NP*)))        *    -      -                       *               *)\n",
    "will                           MD              (VP*           *    -      -                       *        (AM-MOD*)\n",
    "harp                           VB              (VP*           *    harp   harp                    *             (V*)\n",
    "on                             IN              (PP*           *    -      -                       *            (A1*\n",
    "program                        NN              (NP*           *    -      -                       *               *\n",
    "trading                        NN                 *)))))))    *    -      -                       *)              *)\n",
    ".                              .                  *))         *    -      -                       *               *\n",
    "\"\"\"\n",
    "\n",
    "# Preprocess the training input\n",
    "sentences = [line.split() for line in training_input.split('\\n') if line.strip()]\n",
    "max_len = max(len(sentence) for sentence in sentences)\n",
    "word_to_index = {}\n",
    "index_to_word = {}\n",
    "labels = []\n",
    "\n",
    "for sentence in sentences:\n",
    "    for i, word_label in enumerate(sentence):\n",
    "        if '/' in word_label:\n",
    "            word, label = word_label.split('/')\n",
    "        else:\n",
    "            word = word_label\n",
    "            label = 'O'  # Default label if no label is specified\n",
    "        if word not in word_to_index:\n",
    "            word_to_index[word] = len(word_to_index)\n",
    "            index_to_word[len(index_to_word)] = word\n",
    "        sentence[i] = word_to_index[word]\n",
    "        labels.append(label)\n",
    "\n",
    "num_labels = len(set(labels))\n",
    "label_to_index = {label: i for i, label in enumerate(set(labels))}\n",
    "index_to_label = {i: label for label, i in label_to_index.items()}\n",
    "\n",
    "X = pad_sequences(sentences, maxlen=max_len)\n",
    "y = np.zeros((len(sentences), max_len, num_labels))\n",
    "for i, sentence in enumerate(sentences):\n",
    "    for j, word_index in enumerate(sentence):\n",
    "        label = labels[i * max_len + j]\n",
    "        y[i, j, label_to_index[label]] = 1\n",
    "\n",
    "# Define the model\n",
    "input_layer = Input(shape=(max_len,))\n",
    "embedding_layer = Embedding(input_dim=len(word_to_index), output_dim=100)(input_layer)\n",
    "lstm_layer = Bidirectional(LSTM(100, return_sequences=True))(embedding_layer)\n",
    "output_layer = Dense(num_labels, activation='softmax')(lstm_layer)\n",
    "model = Model(inputs=input_layer, outputs=output_layer)\n",
    "\n",
    "# Compile the model\n",
    "model.compile(optimizer='adam', loss='categorical_crossentropy', metrics=['accuracy'])\n",
    "\n",
    "# Train the model\n",
    "history = model.fit(X, y, validation_split=0.2, epochs=10, batch_size=32)\n",
    "\n",
    "# Plot training and validation loss\n",
    "plt.plot(history.history['loss'], label='Training Loss')\n",
    "plt.plot(history.history['val_loss'], label='Validation Loss')\n",
    "plt.xlabel('Epochs')\n",
    "plt.ylabel('Loss')\n",
    "plt.legend()\n",
    "plt.show()\n"
   ]
  },
  {
   "cell_type": "code",
   "execution_count": 4,
   "metadata": {
    "id": "sH1Yzs8HyXpY"
   },
   "outputs": [],
   "source": [
    "import numpy as np\n",
    "import matplotlib.pyplot as plt\n",
    "from keras.models import Model\n",
    "from keras.layers import Input, LSTM, Embedding, Dense, Bidirectional\n",
    "from keras.preprocessing.sequence import pad_sequences"
   ]
  },
  {
   "cell_type": "markdown",
   "metadata": {
    "id": "QSG7tUfi9paf"
   },
   "source": []
  },
  {
   "cell_type": "code",
   "execution_count": 7,
   "metadata": {
    "colab": {
     "base_uri": "https://localhost:8080/",
     "height": 878
    },
    "id": "282paCVxyXic",
    "outputId": "3108c6e0-a3f9-4836-ef67-0f4febd17fc9"
   },
   "outputs": [
    {
     "name": "stdout",
     "output_type": "stream",
     "text": [
      "Epoch 1/10\n",
      "887/887 [==============================] - 18s 16ms/step - loss: 0.0981 - accuracy: 0.6027 - val_loss: 0.0924 - val_accuracy: 0.6090\n",
      "Epoch 2/10\n",
      "887/887 [==============================] - 9s 10ms/step - loss: 0.0977 - accuracy: 0.5968 - val_loss: 0.1055 - val_accuracy: 0.6089\n",
      "Epoch 3/10\n",
      "887/887 [==============================] - 8s 9ms/step - loss: 0.1001 - accuracy: 0.5968 - val_loss: 0.1003 - val_accuracy: 0.6089\n",
      "Epoch 4/10\n",
      "887/887 [==============================] - 8s 9ms/step - loss: 0.0990 - accuracy: 0.5967 - val_loss: 0.0955 - val_accuracy: 0.6089\n",
      "Epoch 5/10\n",
      "887/887 [==============================] - 9s 10ms/step - loss: 0.0983 - accuracy: 0.5967 - val_loss: 0.1012 - val_accuracy: 0.6089\n",
      "Epoch 6/10\n",
      "887/887 [==============================] - 8s 9ms/step - loss: 0.0974 - accuracy: 0.5967 - val_loss: 0.0954 - val_accuracy: 0.6089\n",
      "Epoch 7/10\n",
      "887/887 [==============================] - 7s 8ms/step - loss: 0.0966 - accuracy: 0.5967 - val_loss: 0.1029 - val_accuracy: 0.6089\n",
      "Epoch 8/10\n",
      "887/887 [==============================] - 9s 10ms/step - loss: 0.0959 - accuracy: 0.5967 - val_loss: 0.0993 - val_accuracy: 0.6089\n",
      "Epoch 9/10\n",
      "887/887 [==============================] - 8s 9ms/step - loss: 0.0951 - accuracy: 0.5967 - val_loss: 0.0995 - val_accuracy: 0.6089\n",
      "Epoch 10/10\n",
      "887/887 [==============================] - 8s 9ms/step - loss: 0.0945 - accuracy: 0.5967 - val_loss: 0.0922 - val_accuracy: 0.6089\n"
     ]
    },
    {
     "data": {
      "image/png": "[encoded data removed]",
      "text/plain": [
       "<Figure size 640x480 with 1 Axes>"
      ]
     },
     "metadata": {},
     "output_type": "display_data"
    },
    {
     "name": "stdout",
     "output_type": "stream",
     "text": [
      "CPU times: user 1min 46s, sys: 9.01 s, total: 1min 55s\n",
      "Wall time: 1min 33s\n"
     ]
    }
   ],
   "source": [
    "%%time\n",
    "\n",
    "# Read input from file\n",
    "with open(\"train-file.txt\", \"r\") as file:\n",
    "    lines = file.readlines()\n",
    "\n",
    "# Preprocess the training input\n",
    "sentences = []\n",
    "labels = []\n",
    "for line in lines:\n",
    "    words_labels = line.strip().split()\n",
    "    sentence = []\n",
    "    sentence_labels = []\n",
    "    for word_label in words_labels:\n",
    "        if '/' in word_label:\n",
    "            word, label = word_label.split('/')\n",
    "        else:\n",
    "            word = word_label\n",
    "            label = 'O'  # Default label if no label is specified\n",
    "        sentence.append(word)\n",
    "        sentence_labels.append(label)\n",
    "    sentences.append(sentence)\n",
    "    labels.append(sentence_labels)\n",
    "\n",
    "# Get max sentence length\n",
    "max_len = max(len(sentence) for sentence in sentences)\n",
    "\n",
    "# Build word_to_index and index_to_word dictionaries\n",
    "word_to_index = {}\n",
    "index_to_word = {}\n",
    "for sentence in sentences:\n",
    "    for word in sentence:\n",
    "        if word not in word_to_index:\n",
    "            word_to_index[word] = len(word_to_index)\n",
    "            index_to_word[len(index_to_word)] = word\n",
    "\n",
    "# Build label_to_index and index_to_label dictionaries\n",
    "all_labels = [label for sentence_labels in labels for label in sentence_labels]\n",
    "num_labels = len(set(all_labels))\n",
    "label_to_index = {label: i for i, label in enumerate(set(all_labels))}\n",
    "index_to_label = {i: label for label, i in label_to_index.items()}\n",
    "\n",
    "# Convert sentences and labels to indices\n",
    "X = [[word_to_index[word] for word in sentence] for sentence in sentences]\n",
    "y = np.zeros((len(sentences), max_len, num_labels))\n",
    "for i, sentence_labels in enumerate(labels):\n",
    "    for j, label in enumerate(sentence_labels):\n",
    "        y[i, j, label_to_index[label]] = 1\n",
    "\n",
    "# Pad sequences\n",
    "X = pad_sequences(X, maxlen=max_len)\n",
    "\n",
    "# Define the model\n",
    "input_layer = Input(shape=(max_len,))\n",
    "embedding_layer = Embedding(input_dim=len(word_to_index), output_dim=100)(input_layer)\n",
    "lstm_layer = Bidirectional(LSTM(100, return_sequences=True))(embedding_layer)\n",
    "output_layer = Dense(num_labels, activation='softmax')(lstm_layer)\n",
    "model = Model(inputs=input_layer, outputs=output_layer)\n",
    "\n",
    "# Compile the model\n",
    "model.compile(optimizer='adam', loss='categorical_crossentropy', metrics=['accuracy'])\n",
    "\n",
    "# Train the model\n",
    "history = model.fit(X, y, validation_split=0.2, epochs=10, batch_size=32)\n",
    "\n",
    "# Plot training and validation loss\n",
    "plt.plot(history.history['loss'], label='Training Loss')\n",
    "plt.plot(history.history['val_loss'], label='Validation Loss')\n",
    "plt.xlabel('Epochs')\n",
    "plt.ylabel('Loss')\n",
    "plt.legend()\n",
    "plt.show()\n"
   ]
  },
  {
   "cell_type": "code",
   "execution_count": null,
   "metadata": {
    "id": "zWTUf5WDyXev"
   },
   "outputs": [],
   "source": []
  },
  {
   "cell_type": "code",
   "execution_count": 10,
   "metadata": {
    "colab": {
     "base_uri": "https://localhost:8080/",
     "height": 875
    },
    "id": "2euVW1m-Hvh6",
    "outputId": "16a99a66-e435-4d1e-9465-dfffdeefcba9"
   },
   "outputs": [
    {
     "name": "stdout",
     "output_type": "stream",
     "text": [
      "Epoch 1/10\n",
      "887/887 [==============================] - 17s 15ms/step - loss: 0.0856 - accuracy: 0.5962 - val_loss: 0.0938 - val_accuracy: 0.6089\n",
      "Epoch 2/10\n",
      "887/887 [==============================] - 8s 10ms/step - loss: 0.0863 - accuracy: 0.5967 - val_loss: 0.0861 - val_accuracy: 0.6089\n",
      "Epoch 3/10\n",
      "887/887 [==============================] - 7s 8ms/step - loss: 0.1175 - accuracy: 0.5967 - val_loss: 0.1247 - val_accuracy: 0.6089\n",
      "Epoch 4/10\n",
      "887/887 [==============================] - 9s 10ms/step - loss: 0.1215 - accuracy: 0.5967 - val_loss: 0.1240 - val_accuracy: 0.6089\n",
      "Epoch 5/10\n",
      "887/887 [==============================] - 8s 9ms/step - loss: 0.1199 - accuracy: 0.5967 - val_loss: 0.1188 - val_accuracy: 0.6089\n",
      "Epoch 6/10\n",
      "887/887 [==============================] - 8s 9ms/step - loss: 0.1188 - accuracy: 0.5967 - val_loss: 0.1227 - val_accuracy: 0.6089\n",
      "Epoch 7/10\n",
      "887/887 [==============================] - 9s 10ms/step - loss: 0.1179 - accuracy: 0.5967 - val_loss: 0.1190 - val_accuracy: 0.6089\n",
      "Epoch 8/10\n",
      "887/887 [==============================] - 9s 10ms/step - loss: 0.1171 - accuracy: 0.5967 - val_loss: 0.1139 - val_accuracy: 0.6089\n",
      "Epoch 9/10\n",
      "887/887 [==============================] - 8s 9ms/step - loss: 0.1162 - accuracy: 0.5967 - val_loss: 0.1200 - val_accuracy: 0.6089\n",
      "Epoch 10/10\n",
      "887/887 [==============================] - 8s 10ms/step - loss: 0.1155 - accuracy: 0.5967 - val_loss: 0.1114 - val_accuracy: 0.6089\n"
     ]
    },
    {
     "data": {
      "image/png": "[encoded data removed]",
      "text/plain": [
       "<Figure size 640x480 with 1 Axes>"
      ]
     },
     "metadata": {},
     "output_type": "display_data"
    },
    {
     "name": "stderr",
     "output_type": "stream",
     "text": [
      "/usr/local/lib/python3.10/dist-packages/keras/src/engine/training.py:3103: UserWarning: You are saving your model as an HDF5 file via `model.save()`. This file format is considered legacy. We recommend using instead the native Keras format, e.g. `model.save('my_model.keras')`.\n",
      "  saving_api.save_model(\n"
     ]
    }
   ],
   "source": [
    "%%time\n",
    "# Read input from file\n",
    "with open(\"train-file.txt\", \"r\") as file:\n",
    "    lines = file.readlines()\n",
    "\n",
    "# Preprocess the training input\n",
    "sentences = []\n",
    "labels = []\n",
    "for line in lines:\n",
    "    words_labels = line.strip().split()\n",
    "    sentence = []\n",
    "    sentence_labels = []\n",
    "    for word_label in words_labels:\n",
    "        if '/' in word_label:\n",
    "            word, label = word_label.split('/')\n",
    "        else:\n",
    "            word = word_label\n",
    "            label = 'O'  # Default label if no label is specified\n",
    "        sentence.append(word)\n",
    "        sentence_labels.append(label)\n",
    "    sentences.append(sentence)\n",
    "    labels.append(sentence_labels)\n",
    "\n",
    "# Get max sentence length\n",
    "max_len = max(len(sentence) for sentence in sentences)\n",
    "\n",
    "# Build word_to_index and index_to_word dictionaries\n",
    "word_to_index = {}\n",
    "index_to_word = {}\n",
    "for sentence in sentences:\n",
    "    for word in sentence:\n",
    "        if word not in word_to_index:\n",
    "            word_to_index[word] = len(word_to_index)\n",
    "            index_to_word[len(index_to_word)] = word\n",
    "\n",
    "# Build label_to_index and index_to_label dictionaries\n",
    "all_labels = [label for sentence_labels in labels for label in sentence_labels]\n",
    "num_labels = len(set(all_labels))\n",
    "label_to_index = {label: i for i, label in enumerate(set(all_labels))}\n",
    "index_to_label = {i: label for label, i in label_to_index.items()}\n",
    "\n",
    "# Convert sentences and labels to indices\n",
    "X = [[word_to_index[word] for word in sentence] for sentence in sentences]\n",
    "y = np.zeros((len(sentences), max_len, num_labels))\n",
    "for i, sentence_labels in enumerate(labels):\n",
    "    for j, label in enumerate(sentence_labels):\n",
    "        y[i, j, label_to_index[label]] = 1\n",
    "\n",
    "# Pad sequences\n",
    "X = pad_sequences(X, maxlen=max_len)\n",
    "\n",
    "# Define the model\n",
    "input_layer = Input(shape=(max_len,))\n",
    "embedding_layer = Embedding(input_dim=len(word_to_index), output_dim=100)(input_layer)\n",
    "lstm_layer = Bidirectional(LSTM(100, return_sequences=True))(embedding_layer)\n",
    "output_layer = Dense(num_labels, activation='softmax')(lstm_layer)\n",
    "model = Model(inputs=input_layer, outputs=output_layer)\n",
    "\n",
    "# Compile the model\n",
    "model.compile(optimizer='adam', loss='categorical_crossentropy', metrics=['accuracy'])\n",
    "\n",
    "# Train the model\n",
    "history = model.fit(X, y, validation_split=0.2, epochs=10, batch_size=32)\n",
    "\n",
    "# Plot training and validation loss\n",
    "plt.plot(history.history['loss'], label='Training Loss')\n",
    "plt.plot(history.history['val_loss'], label='Validation Loss')\n",
    "plt.xlabel('Epochs')\n",
    "plt.ylabel('Loss')\n",
    "plt.legend()\n",
    "plt.show()\n",
    "\n",
    "# Save the trained model\n",
    "model.save(\"trained_model.h5\")\n"
   ]
  },
  {
   "cell_type": "code",
   "execution_count": null,
   "metadata": {
    "id": "10UYaa0tHvXi"
   },
   "outputs": [],
   "source": []
  },
  {
   "cell_type": "markdown",
   "metadata": {
    "id": "qSrnaC_mCBBg"
   },
   "source": [
    "## GENERATING OUTPUT FILE FROM THE \"test-file.txt\""
   ]
  },
  {
   "cell_type": "code",
   "execution_count": null,
   "metadata": {
    "id": "2cTTteMGUlGM"
   },
   "outputs": [],
   "source": []
  },
  {
   "cell_type": "code",
   "execution_count": 41,
   "metadata": {
    "id": "Za1TWwMpcWTH"
   },
   "outputs": [],
   "source": [
    "# Open the input file for reading\n",
    "with open('test.wsj.props.test.txt', 'r') as file:\n",
    "    lines = file.readlines()\n",
    "\n",
    "# Process each line to replace multiple consecutive space characters with a single space character\n",
    "modified_lines = []\n",
    "for line in lines:\n",
    "    modified_lines.append(' '.join(line.split()) + '\\n')  # Append newline character to preserve line breaks\n",
    "\n",
    "# Open the output file for writing and overwrite its content with the modified lines\n",
    "with open('test_wsj_props_test.txt', 'w') as file:\n",
    "    file.writelines(modified_lines)\n"
   ]
  },
  {
   "cell_type": "code",
   "execution_count": null,
   "metadata": {
    "id": "VjbjMmQ5f3bB"
   },
   "outputs": [],
   "source": []
  },
  {
   "cell_type": "code",
   "execution_count": 48,
   "metadata": {
    "colab": {
     "base_uri": "https://localhost:8080/"
    },
    "id": "vv9XIKBkcWPR",
    "outputId": "6b5cd581-4980-4701-b2d8-f9f5aaccc645"
   },
   "outputs": [
    {
     "name": "stdout",
     "output_type": "stream",
     "text": [
      "706/706 [==============================] - 3s 3ms/step\n"
     ]
    }
   ],
   "source": [
    "import numpy as np\n",
    "from keras.models import Model\n",
    "from keras.layers import Input, LSTM, Embedding, Dense, Bidirectional\n",
    "from keras.preprocessing.sequence import pad_sequences\n",
    "\n",
    "# Load test file\n",
    "with open(\"test_wsj_props_test.txt\", \"r\") as file:\n",
    "    test_input = file.read()\n",
    "\n",
    "# Preprocess the test input\n",
    "test_sentences = [line.split() for line in test_input.split('\\n') if line.strip()]\n",
    "test_max_len = max(len(sentence) for sentence in test_sentences)\n",
    "\n",
    "# Convert test sentences to indices\n",
    "test_X = []\n",
    "for sentence in test_sentences:\n",
    "    indices = []\n",
    "    for word in sentence:\n",
    "        if word in word_to_index:\n",
    "            indices.append(word_to_index[word])\n",
    "        else:\n",
    "            indices.append(0)  # Use index 0 for out-of-vocabulary words\n",
    "    test_X.append(indices)\n",
    "\n",
    "# Pad sequences\n",
    "test_X = pad_sequences(test_X, maxlen=test_max_len)\n",
    "\n",
    "# Define the model\n",
    "input_layer = Input(shape=(test_max_len,))\n",
    "embedding_layer = Embedding(input_dim=len(word_to_index), output_dim=100)(input_layer)\n",
    "lstm_layer = Bidirectional(LSTM(100, return_sequences=True))(embedding_layer)\n",
    "output_layer = Dense(num_labels, activation='softmax')(lstm_layer)\n",
    "model = Model(inputs=input_layer, outputs=output_layer)\n",
    "\n",
    "# Load trained weights\n",
    "model.load_weights(\"trained_model.h5\")\n",
    "\n",
    "# Predict semantic roles\n",
    "predicted_labels = model.predict(test_X)\n",
    "\n",
    "# Convert predictions to semantic roles\n",
    "predicted_roles = []\n",
    "for i, sentence in enumerate(test_sentences):\n",
    "    roles = []\n",
    "    for j, word in enumerate(sentence):\n",
    "        predicted_label_index = np.argmax(predicted_labels[i, j])\n",
    "        predicted_label = index_to_label[predicted_label_index]\n",
    "        roles.append(predicted_label)\n",
    "    predicted_roles.append(roles)\n",
    "\n",
    "# Write predictions to output file\n",
    "with open(\"output-file.txt\", \"w\") as output_file:\n",
    "    for i, sentence in enumerate(test_sentences):\n",
    "        # Write everything in the first column of the test file\n",
    "        for word in sentence:\n",
    "            output_file.write(f\"{word} \")\n",
    "        output_file.write('\\n')\n",
    "        # Write predictions for the rest of the columns\n",
    "        verb_encountered = False\n",
    "        for j, word in enumerate(sentence):\n",
    "            if \"V\" in predicted_roles[i][j]:\n",
    "                verb_encountered = True\n",
    "                output_file.write(f\"{word} {'*'} \")\n",
    "            elif verb_encountered:\n",
    "                output_file.write(f\"{'*'} \")\n",
    "            else:\n",
    "                output_file.write(f\"- {'*'} \")\n",
    "        output_file.write(\"\\n\")\n"
   ]
  },
  {
   "cell_type": "code",
   "execution_count": null,
   "metadata": {
    "id": "TRkBK6trdyrl"
   },
   "outputs": [],
   "source": []
  },
  {
   "cell_type": "code",
   "execution_count": null,
   "metadata": {
    "id": "zwWJyQXaZxs8"
   },
   "outputs": [],
   "source": []
  },
  {
   "cell_type": "markdown",
   "metadata": {
    "id": "JRg66xrKO2b7"
   },
   "source": [
    "## TEST THE MODEL ON \"test_wsj_props_test.txt\" FILE"
   ]
  },
  {
   "cell_type": "code",
   "execution_count": null,
   "metadata": {
    "id": "mMvfzhVpOfEC"
   },
   "outputs": [],
   "source": []
  },
  {
   "cell_type": "code",
   "execution_count": 51,
   "metadata": {
    "colab": {
     "base_uri": "https://localhost:8080/"
    },
    "id": "TXzQBD5shNFs",
    "outputId": "80413aff-ff2f-4b64-fa05-e5489e4da765"
   },
   "outputs": [
    {
     "name": "stdout",
     "output_type": "stream",
     "text": [
      "Accuracy: 0.5156801922145918\n",
      "Precision: 0.7298195752023752\n",
      "Recall: 0.6373548444286854\n",
      "F1-score: 0.6804604228034685\n"
     ]
    }
   ],
   "source": [
    "from sklearn.metrics import precision_score, recall_score, f1_score\n",
    "\n",
    "# Load the test file\n",
    "with open(\"test_wsj_props_test.txt\", \"r\") as file:\n",
    "    test_input = file.read()\n",
    "\n",
    "# Load the output file\n",
    "with open(\"output-file.txt\", \"r\") as file:\n",
    "    output_input = file.read()\n",
    "\n",
    "# Extract the semantic roles from the test file\n",
    "test_sentences = [line.split()[1:] for line in test_input.split('\\n') if line.strip()]\n",
    "test_semantic_roles = [role for sentence in test_sentences for role in sentence]\n",
    "\n",
    "# Extract the predicted semantic roles from the output file\n",
    "output_sentences = [line.split()[1:] for line in output_input.split('\\n') if line.strip()]\n",
    "output_semantic_roles = [role for sentence in output_sentences for role in sentence]\n",
    "\n",
    "# Calculate accuracy\n",
    "correct_predictions = sum(1 for true_role, pred_role in zip(test_semantic_roles, output_semantic_roles) if true_role == pred_role)\n",
    "total_predictions = len(test_semantic_roles)\n",
    "accuracy = correct_predictions / total_predictions\n",
    "\n",
    "print(f\"Accuracy: {accuracy}\")\n",
    "\n",
    "# Compute true positives, false positives, and false negatives\n",
    "def compute_metrics(true_roles, pred_roles):\n",
    "    true_positives = sum(1 for true_role, pred_role in zip(true_roles, pred_roles) if true_role == pred_role and true_role != '-')\n",
    "    false_positives = sum(1 for true_role, pred_role in zip(true_roles, pred_roles) if true_role != pred_role and pred_role != '-' and true_role != '-')\n",
    "    false_negatives = sum(1 for true_role, pred_role in zip(true_roles, pred_roles) if true_role != pred_role and pred_role == '-' and true_role != '-')\n",
    "    return true_positives, false_positives, false_negatives\n",
    "\n",
    "# Calculate precision, recall, and F1-score\n",
    "def calculate_scores(true_roles, pred_roles):\n",
    "    true_positives, false_positives, false_negatives = compute_metrics(true_roles, pred_roles)\n",
    "    precision = true_positives / (true_positives + false_positives) if (true_positives + false_positives) > 0 else 0\n",
    "    recall = true_positives / (true_positives + false_negatives) if (true_positives + false_negatives) > 0 else 0\n",
    "    f1 = 2 * (precision * recall) / (precision + recall) if (precision + recall) > 0 else 0\n",
    "    return precision, recall, f1\n",
    "\n",
    "# Calculate evaluation metrics\n",
    "precision, recall, f1 = calculate_scores(test_semantic_roles, output_semantic_roles)\n",
    "\n",
    "print(f\"Precision: {precision}\")\n",
    "print(f\"Recall: {recall}\")\n",
    "print(f\"F1-score: {f1}\")\n"
   ]
  },
  {
   "cell_type": "code",
   "execution_count": null,
   "metadata": {
    "id": "w-F5mBAMOd81"
   },
   "outputs": [],
   "source": []
  },
  {
   "cell_type": "code",
   "execution_count": null,
   "metadata": {
    "id": "WjRTeUZEOd5S"
   },
   "outputs": [],
   "source": []
  },
  {
   "cell_type": "code",
   "execution_count": null,
   "metadata": {
    "id": "uFTdAZm8Od16"
   },
   "outputs": [],
   "source": []
  },
  {
   "cell_type": "code",
   "execution_count": null,
   "metadata": {
    "id": "JQQet3qrI-gZ"
   },
   "outputs": [],
   "source": []
  },
  {
   "cell_type": "code",
   "execution_count": null,
   "metadata": {
    "id": "TU3T_SUKI-Rr"
   },
   "outputs": [],
   "source": []
  },
  {
   "cell_type": "code",
   "execution_count": null,
   "metadata": {
    "id": "BsdqPf8JyXRp"
   },
   "outputs": [],
   "source": []
  },
  {
   "cell_type": "code",
   "execution_count": null,
   "metadata": {
    "id": "j0OMjD3nyRru"
   },
   "outputs": [],
   "source": []
  },
  {
   "cell_type": "code",
   "execution_count": null,
   "metadata": {
    "id": "lwnHw1v3h10d"
   },
   "outputs": [],
   "source": []
  },
  {
   "cell_type": "code",
   "execution_count": null,
   "metadata": {
    "id": "BAHBOHFtYg03"
   },
   "outputs": [],
   "source": []
  },
  {
   "cell_type": "code",
   "execution_count": null,
   "metadata": {
    "id": "3cVUEDORYgw8"
   },
   "outputs": [],
   "source": []
  },
  {
   "cell_type": "markdown",
   "metadata": {
    "id": "0VoYDHSxhz2K"
   },
   "source": [
    "# DRAFT"
   ]
  },
  {
   "cell_type": "code",
   "execution_count": null,
   "metadata": {
    "colab": {
     "base_uri": "https://localhost:8080/"
    },
    "id": "ARE1lAwROfH6",
    "outputId": "7d09b9be-d5fc-474e-a33d-3feef73f11bd"
   },
   "outputs": [
    {
     "name": "stdout",
     "output_type": "stream",
     "text": [
      "706/706 [==============================] - 3s 3ms/step\n"
     ]
    },
    {
     "name": "stderr",
     "output_type": "stream",
     "text": [
      "/usr/local/lib/python3.10/dist-packages/sklearn/metrics/_classification.py:1344: UndefinedMetricWarning: Precision and F-score are ill-defined and being set to 0.0 in labels with no predicted samples. Use `zero_division` parameter to control this behavior.\n",
      "  _warn_prf(average, modifier, msg_start, len(result))\n",
      "/usr/local/lib/python3.10/dist-packages/sklearn/metrics/_classification.py:1344: UndefinedMetricWarning: Recall and F-score are ill-defined and being set to 0.0 in labels with no true samples. Use `zero_division` parameter to control this behavior.\n",
      "  _warn_prf(average, modifier, msg_start, len(result))\n"
     ]
    },
    {
     "name": "stdout",
     "output_type": "stream",
     "text": [
      "              precision    recall  f1-score   support\n",
      "\n",
      "           O       0.00      0.00      0.00       0.0\n",
      "     unknown       0.00      0.00      0.00   78359.0\n",
      "\n",
      "    accuracy                           0.00   78359.0\n",
      "   macro avg       0.00      0.00      0.00   78359.0\n",
      "weighted avg       0.00      0.00      0.00   78359.0\n",
      "\n"
     ]
    },
    {
     "name": "stderr",
     "output_type": "stream",
     "text": [
      "/usr/local/lib/python3.10/dist-packages/sklearn/metrics/_classification.py:1344: UndefinedMetricWarning: Precision and F-score are ill-defined and being set to 0.0 in labels with no predicted samples. Use `zero_division` parameter to control this behavior.\n",
      "  _warn_prf(average, modifier, msg_start, len(result))\n",
      "/usr/local/lib/python3.10/dist-packages/sklearn/metrics/_classification.py:1344: UndefinedMetricWarning: Recall and F-score are ill-defined and being set to 0.0 in labels with no true samples. Use `zero_division` parameter to control this behavior.\n",
      "  _warn_prf(average, modifier, msg_start, len(result))\n",
      "/usr/local/lib/python3.10/dist-packages/sklearn/metrics/_classification.py:1344: UndefinedMetricWarning: Precision and F-score are ill-defined and being set to 0.0 in labels with no predicted samples. Use `zero_division` parameter to control this behavior.\n",
      "  _warn_prf(average, modifier, msg_start, len(result))\n",
      "/usr/local/lib/python3.10/dist-packages/sklearn/metrics/_classification.py:1344: UndefinedMetricWarning: Recall and F-score are ill-defined and being set to 0.0 in labels with no true samples. Use `zero_division` parameter to control this behavior.\n",
      "  _warn_prf(average, modifier, msg_start, len(result))\n"
     ]
    }
   ],
   "source": [
    "import numpy as np\n",
    "from sklearn.metrics import classification_report\n",
    "from keras.models import load_model\n",
    "from keras.preprocessing.sequence import pad_sequences\n",
    "\n",
    "# Load test file\n",
    "with open(\"test.wsj.props.test\", \"r\") as file:\n",
    "    test_input = file.read()\n",
    "\n",
    "# Preprocess the test input\n",
    "test_sentences = [line.split() for line in test_input.split('\\n') if line.strip()]\n",
    "test_max_len = max(len(sentence) for sentence in test_sentences)\n",
    "\n",
    "# Convert test sentences to indices\n",
    "test_X = []\n",
    "for sentence in test_sentences:\n",
    "    indices = []\n",
    "    for word in sentence:\n",
    "        if word in word_to_index:\n",
    "            indices.append(word_to_index[word])\n",
    "        else:\n",
    "            indices.append(0)  # Use index 0 for out-of-vocabulary words\n",
    "    test_X.append(indices)\n",
    "\n",
    "# Pad sequences to match the expected input shape of the model\n",
    "test_X = pad_sequences(test_X, maxlen=14)  # Assuming the model expects input sequences of length 14\n",
    "\n",
    "# Load trained model\n",
    "model = load_model(\"trained_model.h5\")\n",
    "\n",
    "# Predict semantic roles\n",
    "predicted_labels = model.predict(test_X)\n",
    "\n",
    "# Convert predictions to semantic roles\n",
    "predicted_roles = []\n",
    "for i in range(len(test_sentences)):\n",
    "    roles = []\n",
    "    for j in range(len(test_sentences[i])):\n",
    "        predicted_label_index = np.argmax(predicted_labels[i, j])\n",
    "        predicted_label = index_to_label[predicted_label_index]\n",
    "        roles.append(predicted_label)\n",
    "    predicted_roles.append(roles)\n",
    "\n",
    "# Flatten the predicted roles list\n",
    "predicted_roles_flat = [role for sentence_roles in predicted_roles for role in sentence_roles]\n",
    "\n",
    "# Create a list of placeholder labels for evaluation\n",
    "# Replace 'unknown' with the appropriate label if available\n",
    "ground_truth_labels = ['unknown'] * len(predicted_roles_flat)\n",
    "\n",
    "# Evaluate performance using classification report\n",
    "report = classification_report(ground_truth_labels, predicted_roles_flat)\n",
    "\n",
    "print(report)\n"
   ]
  }
 ],
 "metadata": {
  "accelerator": "GPU",
  "colab": {
   "gpuType": "T4",
   "provenance": []
  },
  "kernelspec": {
   "display_name": "Python 3 (ipykernel)",
   "language": "python",
   "name": "python3"
  },
  "language_info": {
   "codemirror_mode": {
    "name": "ipython",
    "version": 3
   },
   "file_extension": ".py",
   "mimetype": "text/x-python",
   "name": "python",
   "nbconvert_exporter": "python",
   "pygments_lexer": "ipython3",
   "version": "3.9.20"
  }
 },
 "nbformat": 4,
 "nbformat_minor": 4
}
