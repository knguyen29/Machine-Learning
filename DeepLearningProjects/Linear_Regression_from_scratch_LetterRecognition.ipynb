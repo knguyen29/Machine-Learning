{
 "cells": [
  {
   "cell_type": "code",
   "execution_count": 1,
   "id": "549e6bdb",
   "metadata": {},
   "outputs": [
    {
     "name": "stdout",
     "output_type": "stream",
     "text": [
      "C:\\Users\\khanh\\Desktop\\GMUeducation\\AIT736\\Assignments\\Assignment2\\AIT736-Assignment2-Team4-Perceptron-and-Linear-Regression\n"
     ]
    }
   ],
   "source": [
    "'''Assignment 2 - Task 2: Linear Regression with Pseudo-Inverse and Gradient Descent for the wdbc dataset\n",
    "AIT-736, Instructor: Dr. Liao, Date: 10/3/2022\n",
    "Khanh Nguyen, Anisha Mou, Rohan Jonnakuti, Vishveshwar Kondala\n",
    "\n",
    "The code below using basic Python functions to build Linear Regression with Pseudo-Inverse and Gradient Descent from scratch \n",
    "to implement the basic classification for breast tumor: Malignant (1) and Benign (0).  \n",
    "The first 75% examples are used for training and the remaining 25% for testing.\n",
    "The training took 1000 iterations with Learning Rate is lr = 0.001\n",
    "Set threshold to 0.5 to calculate the predicted y from the formula with pseudoinverse matrix weight:\n",
    "y_pred = 0.0 if i <= 0.5 else 1.0 \n",
    "The accuracy for train set obtained by pseudo-inverse:  0.9624413145539906\n",
    "The accuracy for test set obtained by pseudo-inverse:  0.9788732394366197\n",
    "The weight result is at the bottom\n",
    "'''\n",
    "import math\n",
    "import os\n",
    "import numpy as np\n",
    "import pandas as pd\n",
    "import seaborn as sns\n",
    "import matplotlib.pyplot as plt\n",
    "from random import seed\n",
    "from random import randrange\n",
    "from csv import reader\n",
    "from math import sqrt\n",
    "from collections import Counter\n",
    "\n",
    "\n",
    "#Changing path to working directory\n",
    "working_directory = os.getcwd()\n",
    "os.chdir(working_directory)\n",
    "print(working_directory)"
   ]
  },
  {
   "cell_type": "code",
   "execution_count": 2,
   "id": "43fd5728",
   "metadata": {
    "scrolled": true
   },
   "outputs": [
    {
     "name": "stdout",
     "output_type": "stream",
     "text": [
      "Shape of Vectorized dataset: (568, 32)\n"
     ]
    }
   ],
   "source": [
    "df = pd.read_csv('wdbc1.csv')\n",
    "vect_df = np.array(df )\n",
    "print(\"Shape of Vectorized dataset:\",vect_df.shape)\n",
    "# print(vect_df[:4])"
   ]
  },
  {
   "cell_type": "code",
   "execution_count": 3,
   "id": "4e69f643",
   "metadata": {
    "scrolled": true
   },
   "outputs": [
    {
     "name": "stdout",
     "output_type": "stream",
     "text": [
      "Shape of X (568, 30)\n",
      "[[20.57 17.77 132.9 1326.0 0.08474 0.07864 0.0869 0.07017 0.1812 0.05667\n",
      "  0.5435 0.7339 3.398 74.08 0.005225 0.01308 0.0186 0.0134 0.01389\n",
      "  0.003532 24.99 23.41 158.8 1956.0 0.1238 0.1866 0.2416 0.186 0.275\n",
      "  0.08902]\n",
      " [19.69 21.25 130.0 1203.0 0.1096 0.1599 0.1974 0.1279 0.2069 0.05999\n",
      "  0.7456 0.7869 4.585 94.03 0.00615 0.04006 0.03832 0.02058 0.0225\n",
      "  0.004571 23.57 25.53 152.5 1709.0 0.1444 0.4245 0.4504 0.243 0.3613\n",
      "  0.08758]\n",
      " [11.42 20.38 77.58 386.1 0.1425 0.2839 0.2414 0.1052 0.2597 0.09744\n",
      "  0.4956 1.156 3.445 27.23 0.00911 0.07458 0.05661 0.01867 0.05963\n",
      "  0.009208 14.91 26.5 98.87 567.7 0.2098 0.8663 0.6869 0.2575 0.6638\n",
      "  0.173]\n",
      " [20.29 14.34 135.1 1297.0 0.1003 0.1328 0.198 0.1043 0.1809 0.05883\n",
      "  0.7572 0.7813 5.438 94.44 0.01149 0.02461 0.05688 0.01885 0.01756\n",
      "  0.005115 22.54 16.67 152.2 1575.0 0.1374 0.205 0.4 0.1625 0.2364\n",
      "  0.07678]]\n",
      "\n",
      "Shape of y: (568,)\n",
      "['M' 'M' 'M' 'M' 'M' 'M' 'M' 'M' 'M' 'M' 'M' 'M' 'M' 'M' 'M' 'M' 'M' 'M'\n",
      " 'B' 'B' 'B' 'M' 'M' 'M' 'M' 'M' 'M' 'M' 'M' 'M' 'M' 'M' 'M' 'M' 'M' 'M'\n",
      " 'B' 'M' 'M' 'M' 'M' 'M' 'M' 'M' 'M' 'B' 'M' 'B' 'B' 'B' 'B' 'B' 'M' 'M'\n",
      " 'B' 'M' 'M' 'B' 'B' 'B' 'B' 'M' 'B' 'M' 'M' 'B' 'B' 'B' 'B' 'M' 'B' 'M'\n",
      " 'M' 'B' 'M' 'B' 'M' 'M' 'B' 'B' 'B' 'M' 'M' 'B' 'M' 'M' 'M' 'B' 'B' 'B'\n",
      " 'M' 'B' 'B' 'M' 'M' 'B' 'B' 'B' 'M' 'M']\n"
     ]
    }
   ],
   "source": [
    "X = np.array(vect_df[:,1:-1]) #all data except last column\n",
    "print(\"Shape of X\", X.shape) \n",
    "print(X[:4])\n",
    "y = np.array(vect_df[:,-1]) #only last column\n",
    "print(\"\\nShape of y:\",y.shape)\n",
    "print(y[:100])"
   ]
  },
  {
   "cell_type": "code",
   "execution_count": 4,
   "id": "664c7206",
   "metadata": {},
   "outputs": [
    {
     "data": {
      "text/plain": [
       "array([1, 1, 1, 1, 1, 1, 1, 1, 1, 1, 1, 1, 1, 1, 1, 1, 1, 1, 0, 0, 0, 1,\n",
       "       1, 1, 1, 1, 1, 1, 1, 1, 1, 1, 1, 1, 1, 1, 0, 1, 1, 1, 1, 1, 1, 1,\n",
       "       1, 0, 1, 0, 0, 0, 0, 0, 1, 1, 0, 1, 1, 0, 0, 0, 0, 1, 0, 1, 1, 0,\n",
       "       0, 0, 0, 1, 0, 1, 1, 0, 1, 0, 1, 1, 0, 0, 0, 1, 1, 0, 1, 1, 1, 0,\n",
       "       0, 0, 1, 0, 0, 1, 1, 0, 0, 0, 1, 1])"
      ]
     },
     "execution_count": 4,
     "metadata": {},
     "output_type": "execute_result"
    }
   ],
   "source": [
    "# using NumPy function 'where' to convert M,B to 1,0\n",
    "y = np.where(y=='M', 1, 0)\n",
    "# y = np.array(y, dtype = float )\n",
    "y[:100]"
   ]
  },
  {
   "cell_type": "code",
   "execution_count": 5,
   "id": "a29d2c1e",
   "metadata": {},
   "outputs": [
    {
     "name": "stdout",
     "output_type": "stream",
     "text": [
      "Total Number of rows in train: 426\n",
      "Total Number of rows in test: 142\n"
     ]
    }
   ],
   "source": [
    "#Split the dataset base on percentage\n",
    "s_f = 0.75\n",
    "n_train = math.floor(s_f * X.shape[0])\n",
    "n_test = math.ceil((1-s_f) * X.shape[0])\n",
    "X_train = X[:n_train]\n",
    "y_train = y[:n_train]\n",
    "X_test = X[n_train:]\n",
    "y_test = y[n_train:]\n",
    "print(\"Total Number of rows in train:\",X_train.shape[0])\n",
    "print(\"Total Number of rows in test:\",X_test.shape[0])"
   ]
  },
  {
   "cell_type": "markdown",
   "id": "70c77751",
   "metadata": {},
   "source": [
    "## Linear regression Summary\n",
    "First, get the data and separate it as X(features) and y(labels). weights and bias are vectors. \n",
    "\n",
    "initialize the parameters randomly as matrix or all zeros:\n",
    "\n",
    "weights = np.zeros((n,1)) # n: number of features \n",
    "\n",
    "bias = 0\n",
    "\n",
    "Calculate y_hat according to the formula of Linear regression: y = wX + b # with w: weights, b: bias\n",
    "\n",
    "y_hat = np.dot(X, weights) + bias\n",
    "\n",
    "The objective is to find weights and bias such that it minimizes the loss function.\n",
    "Calculate gradients with respect to parameters (weights and bias )\n",
    "\n",
    "dw = (1/m)np.dot(X.T, (y_hat - y)) # m: number of records, X: input matrix, y: labels/targets\n",
    "\n",
    "db = (1/m)np.sum((y_hat - y))\n",
    "\n",
    "Update the parameters weights and bias . #lr: learning rate\n",
    "\n",
    "weights -= lr * dw \n",
    "\n",
    "bias -= lr * db\n",
    "\n",
    "Repeat the above points. The number of times you repeat is also called epochs (or the number of iterations).\n",
    "\n",
    "Set threshold to 0.5 to calculate the predicted y from the formula with pseudoinverse matrix weight:\n",
    "y_pred = 0.0 if i <= 0.5 else 1.0 "
   ]
  },
  {
   "cell_type": "code",
   "execution_count": 6,
   "id": "57883fc1",
   "metadata": {},
   "outputs": [],
   "source": [
    "# Linear Regression class\n",
    "class LinReg:\n",
    "    \n",
    "    # Initializing lr: learning rate, epochs: no. of iterations, \n",
    "    # weights & bias: parameters as None\n",
    "    # default lr: 0.01, epochs: 800\n",
    "    def __init__(self, lr=0.01, epochs=800):\n",
    "        self.lr = lr\n",
    "        self.epochs = epochs\n",
    "        self.weights = None\n",
    "        self.bias = None\n",
    "        \n",
    "    # Training function: fit\n",
    "    def fit(self, X, y):\n",
    "        # shape of X: (number of training examples (rows): m, number of features (cols): n)\n",
    "        m, n = X.shape    \n",
    "    \n",
    "        # Initializing weights as a matrix of zeros of size: (number\n",
    "        # of features: n, 1) and bias as 0\n",
    "        self.weights = np.zeros((n,1))\n",
    "        self.bias = 0\n",
    "        \n",
    "        # reshaping y as (m,1) in case your dataset initialized as (m,) which can cause problems\n",
    "        y = y.reshape(m,1)\n",
    "\n",
    "        # Gradient Descent loop/ Training loop\n",
    "        for epoch in range(self.epochs):\n",
    "            self.weights = np.dot(np.linalg.pinv(X),y)\n",
    "            # Calculating prediction: y_hat \n",
    "            y_hat = np.dot(X, self.weights) #+ self.bias\n",
    "\n",
    "    \n",
    "            # Calculating derivatives of parameters(weights and  bias) or w = np.dot(np.linalg.pinv(X),y)\n",
    "            dw = (1/m)*np.dot(X.T, (y_hat - y))\n",
    "            db = (1/m)*np.sum((y_hat - y))\n",
    "            \n",
    "           # Updating the parameters: parameter := parameter - lr*derivative\n",
    "            # of loss/cost w.r.t parameter)\n",
    "            self.weights = self.weights - self.lr*dw\n",
    "            self.bias = self.bias - self.lr*db\n",
    "            \n",
    "            \n",
    "        #Set threshold to 0.5\n",
    "        y_pred = [0.0 if i <= 0.5 else 1.0 for i in y_hat]\n",
    "        print('Size of y_hat:', len(y_hat))\n",
    "        # returning the parameter so we can look at them later\n",
    "        return self.weights, self.bias, y_pred  #losses\n",
    "    \n",
    "    # Predicting(calculating y_hat with our updated weights) for the testing/validation     \n",
    "    def predict(self, X):\n",
    "        y_hat = np.dot(X, self.weights) + self.bias\n",
    "        y_pred = [0.0 if i <= 0.5 else 1.0 for i in y_hat]\n",
    "        return y_pred"
   ]
  },
  {
   "cell_type": "code",
   "execution_count": 7,
   "id": "fcd8c2a7",
   "metadata": {},
   "outputs": [
    {
     "name": "stdout",
     "output_type": "stream",
     "text": [
      "Size of y_hat: 426\n",
      "Wall time: 1.57 s\n"
     ]
    }
   ],
   "source": [
    "%%time\n",
    "X_train = np.matrix(X_train, dtype=float)\n",
    "y_train = np.matrix(np.array(y_train, dtype=float))\n",
    "\n",
    "model = LinReg(lr=0.001, epochs=1000)\n",
    "weight, bias, y_pred = model.fit(X_train,y_train)\n"
   ]
  },
  {
   "cell_type": "code",
   "execution_count": 8,
   "id": "2d492e22",
   "metadata": {
    "scrolled": true
   },
   "outputs": [
    {
     "name": "stdout",
     "output_type": "stream",
     "text": [
      "[[-0.35454946059941445], [0.01677873940077064], [0.022073164751161778], [0.0014367117548522578], [1.3300950465187191], [-1.6012325353813206], [0.8083001159397312], [2.583729977494176], [-1.0446877324529544], [-17.943044138628654], [0.32114666692433885], [0.02575961115717494], [-0.008389190801248081], [-0.0011210943280573055], [13.324543398785138], [-2.737472805300025], [-3.3949390262453543], [10.991298569881526], [-0.3581045756695449], [12.416366838685763], [0.2331022876404908], [-0.0008902713836066362], [-0.003246580770642476], [-0.001254394326358414], [-0.31462536356150506], [0.10856865538615412], [0.4441604852373587], [0.8186376989086155], [0.8153939975076143], [4.026779694653127]]\n"
     ]
    }
   ],
   "source": [
    "print(weight.tolist())"
   ]
  },
  {
   "cell_type": "code",
   "execution_count": 9,
   "id": "9cb18c71",
   "metadata": {},
   "outputs": [
    {
     "name": "stdout",
     "output_type": "stream",
     "text": [
      "[[1. 1. 1. 1. 1. 1. 1. 1. 1. 1. 1. 1. 1. 1. 1. 1. 1. 1. 0. 0. 0. 1. 1. 1.\n",
      "  1. 1. 1. 1. 0. 1. 1. 1. 1. 1. 1. 1. 0. 0. 1. 0. 0. 1. 1. 1. 1. 0. 1. 0.\n",
      "  0. 0. 0. 0. 1. 1. 0. 1. 1. 0. 0. 0. 0. 1. 0. 1. 1. 0. 0. 0. 0. 1. 0. 1.\n",
      "  0. 0. 1. 0. 1. 1. 0. 0. 1. 1. 1. 0. 1. 1. 1. 0. 0. 0. 0. 0. 0. 1. 1. 0.\n",
      "  0. 0. 1. 1. 0. 0. 0. 0. 1. 0. 0. 1. 0. 0. 0. 0. 0. 0. 0. 0. 1. 1. 1. 0.\n",
      "  1. 1. 0. 0. 0. 1. 1. 0. 1. 0. 1. 1. 0. 1. 0. 0. 0. 1. 0. 0. 1. 0. 0. 0.\n",
      "  0. 1. 0. 0. 0. 0. 0. 0. 0. 0. 0. 1. 0. 0. 0. 0. 1. 1. 0. 1. 0. 0. 1. 1.\n",
      "  0. 0. 1. 1. 0. 0. 0. 0. 1. 0. 0. 1. 1. 1. 0. 0. 0. 1. 0. 0. 0. 0. 0. 0.\n",
      "  1. 1. 0. 1. 0. 1. 1. 0. 1. 1. 1. 0. 1. 0. 1. 0. 0. 1. 0. 1. 1. 1. 0. 0.\n",
      "  0. 1. 1. 0. 0. 0. 1. 0. 0. 0. 0. 0. 1. 1. 0. 0. 1. 0. 0. 1. 1. 0. 1. 0.\n",
      "  0. 0. 0. 1. 0. 0. 0. 0. 0. 1. 0. 1. 1. 1. 0. 1. 1. 1. 1. 1. 0. 1. 0. 1.\n",
      "  1. 0. 0. 0. 0. 0. 0. 1. 0. 1. 0. 0. 1. 0. 0. 1. 0. 1. 1. 0. 0. 0. 0. 0.\n",
      "  0. 0. 0. 0. 0. 0. 0. 0. 0. 0. 0. 1. 0. 1. 0. 0. 0. 0. 0. 0. 0. 0. 0. 0.\n",
      "  0. 0. 0. 0. 1. 0. 0. 0. 1. 0. 1. 0. 0. 0. 0. 1. 1. 1. 0. 0. 0. 0. 1. 0.\n",
      "  1. 0. 1. 0. 0. 0. 1. 0. 0. 0. 0. 0. 0. 0. 1. 1. 1. 0. 0. 0. 0. 0. 0. 0.\n",
      "  0. 0. 0. 0. 1. 1. 0. 1. 1. 1. 0. 1. 1. 0. 0. 0. 0. 0. 1. 0. 0. 0. 0. 0.\n",
      "  1. 0. 0. 0. 1. 0. 0. 1. 1. 0. 0. 0. 0. 0. 0. 1. 0. 0. 0. 0. 0. 0. 0. 1.\n",
      "  0. 0. 0. 0. 0. 1. 0. 0. 1. 0. 0. 0. 0. 0. 0. 0. 0. 0.]]\n"
     ]
    }
   ],
   "source": [
    "print(np.matrix(y_pred, dtype=float))"
   ]
  },
  {
   "cell_type": "code",
   "execution_count": 10,
   "id": "1cf05067",
   "metadata": {},
   "outputs": [
    {
     "name": "stdout",
     "output_type": "stream",
     "text": [
      "[[1. 1. 1. 1. 1. 1. 1. 1. 1. 1. 1. 1. 1. 1. 1. 1. 1. 1. 0. 0. 0. 1. 1. 1.\n",
      "  1. 1. 1. 1. 1. 1. 1. 1. 1. 1. 1. 1. 0. 1. 1. 1. 1. 1. 1. 1. 1. 0. 1. 0.\n",
      "  0. 0. 0. 0. 1. 1. 0. 1. 1. 0. 0. 0. 0. 1. 0. 1. 1. 0. 0. 0. 0. 1. 0. 1.\n",
      "  1. 0. 1. 0. 1. 1. 0. 0. 0. 1. 1. 0. 1. 1. 1. 0. 0. 0. 1. 0. 0. 1. 1. 0.\n",
      "  0. 0. 1. 1. 0. 0. 0. 0. 1. 0. 0. 1. 0. 0. 0. 0. 0. 0. 0. 0. 1. 1. 1. 0.\n",
      "  1. 1. 0. 0. 0. 1. 1. 0. 1. 0. 1. 1. 0. 1. 1. 0. 0. 1. 0. 0. 1. 0. 0. 0.\n",
      "  0. 1. 0. 0. 0. 0. 0. 0. 0. 0. 0. 1. 0. 0. 0. 0. 1. 1. 0. 1. 0. 0. 1. 1.\n",
      "  0. 0. 1. 1. 0. 0. 0. 0. 1. 0. 0. 1. 1. 1. 0. 1. 0. 1. 0. 0. 0. 1. 0. 0.\n",
      "  1. 1. 0. 1. 1. 1. 1. 0. 1. 1. 1. 0. 1. 0. 1. 0. 0. 1. 0. 1. 1. 1. 1. 0.\n",
      "  0. 1. 1. 0. 0. 0. 1. 0. 0. 0. 0. 0. 1. 1. 0. 0. 1. 0. 0. 1. 1. 0. 1. 0.\n",
      "  0. 0. 0. 1. 0. 0. 0. 0. 0. 1. 0. 1. 1. 1. 1. 1. 1. 1. 1. 1. 1. 1. 1. 1.\n",
      "  1. 0. 0. 0. 0. 0. 0. 1. 0. 1. 0. 0. 1. 0. 0. 1. 0. 1. 1. 0. 0. 0. 0. 0.\n",
      "  0. 0. 0. 0. 0. 0. 0. 0. 1. 0. 0. 1. 0. 1. 0. 0. 0. 0. 0. 0. 0. 0. 0. 0.\n",
      "  0. 0. 0. 0. 1. 0. 0. 0. 1. 0. 1. 0. 0. 0. 0. 1. 1. 1. 0. 0. 0. 0. 1. 0.\n",
      "  1. 0. 1. 0. 0. 0. 1. 0. 0. 0. 0. 0. 0. 0. 1. 1. 1. 0. 0. 0. 0. 0. 0. 0.\n",
      "  0. 0. 0. 0. 1. 1. 0. 1. 1. 1. 0. 1. 1. 0. 0. 0. 0. 0. 1. 0. 0. 0. 0. 0.\n",
      "  1. 0. 0. 0. 1. 0. 0. 1. 1. 0. 0. 0. 0. 0. 0. 1. 0. 0. 0. 0. 0. 0. 0. 1.\n",
      "  0. 0. 0. 0. 0. 1. 0. 0. 1. 0. 0. 0. 0. 0. 0. 0. 0. 0.]]\n"
     ]
    }
   ],
   "source": [
    "print(y_train)"
   ]
  },
  {
   "cell_type": "code",
   "execution_count": 11,
   "id": "277d5218",
   "metadata": {},
   "outputs": [],
   "source": [
    "# function to calculate the accuracy of the algorithm\n",
    "def accuracy(y_true, y_pred):\n",
    "    accuracy = np.sum(y_true == y_pred) / len(y_true)\n",
    "    return accuracy"
   ]
  },
  {
   "cell_type": "code",
   "execution_count": 12,
   "id": "30e65925",
   "metadata": {},
   "outputs": [
    {
     "data": {
      "text/plain": [
       "(426,)"
      ]
     },
     "execution_count": 12,
     "metadata": {},
     "output_type": "execute_result"
    }
   ],
   "source": [
    "y_true = np.squeeze(np.asarray(y_train))\n",
    "# y_true = y_train.tolist()\n",
    "y_true.shape"
   ]
  },
  {
   "cell_type": "code",
   "execution_count": 13,
   "id": "0f695c58",
   "metadata": {},
   "outputs": [
    {
     "data": {
      "text/plain": [
       "0.9624413145539906"
      ]
     },
     "execution_count": 13,
     "metadata": {},
     "output_type": "execute_result"
    }
   ],
   "source": [
    "accuracy(y_true, y_pred)"
   ]
  },
  {
   "cell_type": "code",
   "execution_count": 14,
   "id": "b8283e84",
   "metadata": {},
   "outputs": [
    {
     "name": "stdout",
     "output_type": "stream",
     "text": [
      "[0.0, 0.0, 0.0, 1.0, 0.0, 1.0, 1.0, 0.0, 1.0, 0.0, 0.0, 0.0, 0.0, 0.0, 1.0, 0.0, 0.0, 1.0, 0.0, 1.0, 0.0, 0.0, 1.0, 0.0, 1.0, 0.0, 0.0, 0.0, 0.0, 0.0, 0.0, 0.0, 0.0, 1.0, 1.0, 0.0, 0.0, 0.0, 0.0, 0.0, 0.0, 1.0, 0.0, 0.0, 0.0, 0.0, 0.0, 0.0, 0.0, 0.0, 0.0, 0.0, 1.0, 0.0, 0.0, 0.0, 0.0, 0.0, 0.0, 0.0, 1.0, 0.0, 1.0, 0.0, 0.0, 1.0, 0.0, 0.0, 0.0, 0.0, 0.0, 1.0, 1.0, 0.0, 1.0, 0.0, 1.0, 0.0, 0.0, 0.0, 0.0, 0.0, 1.0, 0.0, 0.0, 1.0, 0.0, 0.0, 0.0, 1.0, 1.0, 0.0, 0.0, 0.0, 1.0, 0.0, 0.0, 0.0, 0.0, 0.0, 0.0, 0.0, 0.0, 0.0, 0.0, 0.0, 1.0, 0.0, 1.0, 0.0, 0.0, 0.0, 0.0, 0.0, 1.0, 0.0, 0.0, 0.0, 0.0, 0.0, 0.0, 0.0, 0.0, 0.0, 0.0, 0.0, 0.0, 0.0, 0.0, 0.0, 0.0, 0.0, 0.0, 0.0, 0.0, 1.0, 1.0, 1.0, 1.0, 1.0, 1.0, 0.0]\n"
     ]
    }
   ],
   "source": [
    "y_test_pred = model.predict(X_test)\n",
    "print(y_test_pred)"
   ]
  },
  {
   "cell_type": "code",
   "execution_count": 15,
   "id": "6abc1c15",
   "metadata": {},
   "outputs": [
    {
     "data": {
      "text/plain": [
       "array([0, 0, 0, 1, 0, 1, 1, 0, 1, 0, 0, 0, 0, 0, 1, 0, 0, 1, 0, 1, 0, 0,\n",
       "       1, 0, 1, 0, 0, 0, 0, 0, 0, 0, 0, 1, 1, 0, 0, 0, 0, 0, 0, 1, 0, 0,\n",
       "       0, 0, 0, 0, 0, 0, 0, 0, 1, 0, 0, 0, 0, 0, 0, 0, 1, 0, 1, 0, 0, 1,\n",
       "       0, 0, 0, 0, 0, 1, 1, 0, 1, 0, 1, 0, 0, 0, 0, 0, 1, 0, 0, 1, 0, 1,\n",
       "       0, 1, 1, 0, 0, 0, 1, 0, 0, 0, 0, 0, 0, 0, 0, 0, 0, 0, 1, 0, 1, 1,\n",
       "       0, 0, 0, 0, 0, 0, 0, 0, 0, 0, 0, 0, 0, 0, 0, 0, 0, 0, 0, 0, 0, 0,\n",
       "       0, 0, 0, 1, 1, 1, 1, 1, 1, 0])"
      ]
     },
     "execution_count": 15,
     "metadata": {},
     "output_type": "execute_result"
    }
   ],
   "source": [
    "y_test"
   ]
  },
  {
   "cell_type": "code",
   "execution_count": 16,
   "id": "152c6c57",
   "metadata": {},
   "outputs": [
    {
     "data": {
      "text/plain": [
       "0.9788732394366197"
      ]
     },
     "execution_count": 16,
     "metadata": {},
     "output_type": "execute_result"
    }
   ],
   "source": [
    "accuracy(y_test, y_test_pred)"
   ]
  },
  {
   "cell_type": "code",
   "execution_count": 17,
   "id": "5cc226d3",
   "metadata": {},
   "outputs": [
    {
     "name": "stdout",
     "output_type": "stream",
     "text": [
      "Confusion matrix for test set\n",
      "[106, 2]\n",
      "[1, 33]\n"
     ]
    }
   ],
   "source": [
    "# Calculate Confusion Matrix without scikit-learn\n",
    "def confusionmatrix(actual, predicted, normalize = False):\n",
    "\n",
    "    unique = sorted(set(actual))\n",
    "    matrix = [[0 for _ in unique] for _ in unique]\n",
    "    imap   = {key: i for i, key in enumerate(unique)}\n",
    "    # Generate Confusion Matrix\n",
    "    for p, a in zip(predicted, actual):\n",
    "        matrix[imap[p]][imap[a]] += 1\n",
    "    # Matrix Normalization\n",
    "    if normalize:\n",
    "        sigma = sum([sum(matrix[imap[i]]) for i in unique])\n",
    "        matrix = [row for row in map(lambda i: list(map(lambda j: j / sigma, i)), matrix)]\n",
    "    return matrix\n",
    "\n",
    "cm = confusionmatrix(y_test, y_test_pred)\n",
    "print(\"Confusion matrix for test set\")\n",
    "for line in cm:\n",
    "    print(line)"
   ]
  },
  {
   "cell_type": "code",
   "execution_count": 18,
   "id": "bdc40c69",
   "metadata": {},
   "outputs": [
    {
     "data": {
      "image/png": "[encoded data removed]",
      "text/plain": [
       "<Figure size 576x432 with 2 Axes>"
      ]
     },
     "metadata": {
      "needs_background": "light"
     },
     "output_type": "display_data"
    }
   ],
   "source": [
    "#Plotting the confusion matrix\n",
    "plt.figure(figsize=(8,6))\n",
    "sns.heatmap(cm, annot=True)\n",
    "plt.title('Confusion Matrix', size = 25)\n",
    "plt.ylabel('Actual Values', size = 25)\n",
    "plt.xlabel('Predicted Values', size = 25)\n",
    "plt.show()"
   ]
  },
  {
   "cell_type": "code",
   "execution_count": 19,
   "id": "043e69ef",
   "metadata": {},
   "outputs": [
    {
     "name": "stdout",
     "output_type": "stream",
     "text": [
      "**** Linear Regression by computing pseudo-inverse\n",
      "The accuracy for train set obtained by pseudo-inverse:  0.9624413145539906\n",
      "The accuracy for test set obtained by pseudo-inverse:  0.9788732394366197\n",
      "The weights (w =X`y) derived from the pseudo-inverse (X`): np.dot(np.linalg.pinv(X),y) \n",
      " [-0.35454946059941445, 0.01677873940077064, 0.022073164751161778, 0.0014367117548522578, 1.3300950465187191, -1.6012325353813206, 0.8083001159397312, 2.583729977494176, -1.0446877324529544, -17.943044138628654, 0.32114666692433885, 0.02575961115717494, -0.008389190801248081, -0.0011210943280573055, 13.324543398785138, -2.737472805300025, -3.3949390262453543, 10.991298569881526, -0.3581045756695449, 12.416366838685763, 0.2331022876404908, -0.0008902713836066362, -0.003246580770642476, -0.001254394326358414, -0.31462536356150506, 0.10856865538615412, 0.4441604852373587, 0.8186376989086155, 0.8153939975076143, 4.026779694653127]\n"
     ]
    }
   ],
   "source": [
    "print('**** Linear Regression by computing pseudo-inverse')\n",
    "print('The accuracy for train set obtained by pseudo-inverse: ', accuracy(y_true, y_pred))\n",
    "print('The accuracy for test set obtained by pseudo-inverse: ', accuracy(y_test, y_test_pred))\n",
    "\n",
    "weights = []\n",
    "for w in weight.tolist():\n",
    "    for i in w: \n",
    "        weights.append(i)\n",
    "\n",
    "print('The weights (w =X`y) derived from the pseudo-inverse (X`): np.dot(np.linalg.pinv(X),y) \\n', weights)"
   ]
  },
  {
   "cell_type": "code",
   "execution_count": null,
   "id": "01ef2442",
   "metadata": {},
   "outputs": [],
   "source": []
  },
  {
   "cell_type": "markdown",
   "id": "1d938ccf",
   "metadata": {},
   "source": [
    "## REFERENCE\n",
    "Verma, S. (2021). Linear Regression from scratch in Python. Medium. Retrieved on 10/3/2022 from https://medium.com/analytics-vidhya/linear-regression-from-scratch-in-python-b6501f91c82d"
   ]
  }
 ],
 "metadata": {
  "kernelspec": {
   "display_name": "Python 3 (ipykernel)",
   "language": "python",
   "name": "python3"
  },
  "language_info": {
   "codemirror_mode": {
    "name": "ipython",
    "version": 3
   },
   "file_extension": ".py",
   "mimetype": "text/x-python",
   "name": "python",
   "nbconvert_exporter": "python",
   "pygments_lexer": "ipython3",
   "version": "3.9.7"
  }
 },
 "nbformat": 4,
 "nbformat_minor": 5
}
