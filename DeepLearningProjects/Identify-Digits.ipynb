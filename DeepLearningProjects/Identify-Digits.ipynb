{
 "cells": [
  {
   "cell_type": "markdown",
   "id": "58fd0375",
   "metadata": {},
   "source": [
    "## AIT-736, Homework 4, Question 4.3: Naive Bayes on Load Digits dataset\n",
    "\n",
    "Instructor: Dr. Liao, Date: 10/19/2022\n",
    "Khanh Nguyen, Anisha Mou"
   ]
  },
  {
   "cell_type": "code",
   "execution_count": 1,
   "id": "81e87b00",
   "metadata": {},
   "outputs": [],
   "source": [
    "import matplotlib.pyplot as plt\n",
    "import numpy as np\n",
    "import seaborn as sns\n",
    "# from sklearn.linear_model import LogisticRegression\n",
    "from sklearn.metrics import classification_report, confusion_matrix\n",
    "# Import LabelEncoder\n",
    "from sklearn import preprocessing\n",
    "#Import Gaussian Naive Bayes model\n",
    "from sklearn.naive_bayes import GaussianNB\n",
    "#Import scikit-learn dataset library\n",
    "from sklearn.datasets import load_digits\n",
    "from sklearn.model_selection import train_test_split\n",
    "from sklearn.preprocessing import StandardScaler\n"
   ]
  },
  {
   "cell_type": "code",
   "execution_count": 2,
   "id": "a9a53f6c",
   "metadata": {},
   "outputs": [
    {
     "name": "stdout",
     "output_type": "stream",
     "text": [
      "(1797, 64)\n"
     ]
    }
   ],
   "source": [
    "digits = load_digits()\n",
    "print(digits.data.shape)\n"
   ]
  },
  {
   "cell_type": "code",
   "execution_count": 3,
   "id": "94e62b36",
   "metadata": {},
   "outputs": [
    {
     "data": {
      "text/plain": [
       "<Figure size 432x288 with 0 Axes>"
      ]
     },
     "metadata": {},
     "output_type": "display_data"
    },
    {
     "data": {
      "image/png": "[encoded data removed]",
      "text/plain": [
       "<Figure size 288x288 with 1 Axes>"
      ]
     },
     "metadata": {
      "needs_background": "light"
     },
     "output_type": "display_data"
    }
   ],
   "source": [
    "plt.gray()\n",
    "plt.matshow(digits.images[0])\n",
    "plt.show()"
   ]
  },
  {
   "cell_type": "code",
   "execution_count": 4,
   "id": "3e3dced1",
   "metadata": {},
   "outputs": [],
   "source": [
    "x, y = load_digits(return_X_y=True)"
   ]
  },
  {
   "cell_type": "code",
   "execution_count": 5,
   "id": "6d55cca2",
   "metadata": {},
   "outputs": [],
   "source": [
    "#Split Data:\n",
    "x_train, x_test, y_train, y_test = train_test_split(x, y, test_size=0.2, random_state=736)"
   ]
  },
  {
   "cell_type": "code",
   "execution_count": 6,
   "id": "a1e54c89",
   "metadata": {},
   "outputs": [],
   "source": [
    "#Import Gaussian Naive Bayes model\n",
    "from sklearn.naive_bayes import GaussianNB\n",
    "\n",
    "#Create a Gaussian Classifier\n",
    "gnb = GaussianNB()\n",
    "\n",
    "#Train the model using the training sets\n",
    "gnb.fit(x_train, y_train)\n",
    "\n",
    "#Predict the response for test dataset\n",
    "y_pred = gnb.predict(x_test)"
   ]
  },
  {
   "cell_type": "code",
   "execution_count": 7,
   "id": "5a898686",
   "metadata": {},
   "outputs": [
    {
     "name": "stdout",
     "output_type": "stream",
     "text": [
      "Accuracy: 0.7861111111111111\n"
     ]
    }
   ],
   "source": [
    "#Import scikit-learn metrics module for accuracy calculation\n",
    "from sklearn import metrics\n",
    "\n",
    "# Model Accuracy, how often is the classifier correct?\n",
    "print(\"Accuracy:\",metrics.accuracy_score(y_test, y_pred))"
   ]
  },
  {
   "cell_type": "code",
   "execution_count": 8,
   "id": "a6ce5777",
   "metadata": {},
   "outputs": [
    {
     "data": {
      "text/plain": [
       "0.8107167710508003"
      ]
     },
     "execution_count": 8,
     "metadata": {},
     "output_type": "execute_result"
    }
   ],
   "source": [
    "#Accuracy score on the train set\n",
    "gnb.score(x_train, y_train)"
   ]
  },
  {
   "cell_type": "code",
   "execution_count": 9,
   "id": "bc20d044",
   "metadata": {},
   "outputs": [
    {
     "data": {
      "text/plain": [
       "0.7861111111111111"
      ]
     },
     "execution_count": 9,
     "metadata": {},
     "output_type": "execute_result"
    }
   ],
   "source": [
    "#Accuracy score on the test set\n",
    "gnb.score(x_test, y_test)"
   ]
  },
  {
   "cell_type": "code",
   "execution_count": 10,
   "id": "c9ce8d9a",
   "metadata": {},
   "outputs": [
    {
     "name": "stdout",
     "output_type": "stream",
     "text": [
      "              precision    recall  f1-score   support\n",
      "\n",
      "           0       0.94      0.97      0.96        34\n",
      "           1       0.75      0.53      0.62        34\n",
      "           2       0.76      0.52      0.62        31\n",
      "           3       0.93      0.64      0.76        42\n",
      "           4       0.97      0.86      0.91        37\n",
      "           5       0.90      0.92      0.91        38\n",
      "           6       1.00      0.98      0.99        43\n",
      "           7       0.70      0.91      0.79        35\n",
      "           8       0.36      0.79      0.49        28\n",
      "           9       0.87      0.68      0.76        38\n",
      "\n",
      "    accuracy                           0.79       360\n",
      "   macro avg       0.82      0.78      0.78       360\n",
      "weighted avg       0.84      0.79      0.79       360\n",
      "\n"
     ]
    }
   ],
   "source": [
    "print(classification_report(y_test, y_pred))"
   ]
  },
  {
   "cell_type": "code",
   "execution_count": 11,
   "id": "86a5f86e",
   "metadata": {},
   "outputs": [
    {
     "name": "stdout",
     "output_type": "stream",
     "text": [
      "Wall time: 2 ms\n"
     ]
    },
    {
     "data": {
      "text/plain": [
       "array([[33,  0,  0,  0,  0,  0,  0,  1,  0,  0],\n",
       "       [ 0, 18,  1,  0,  0,  0,  0,  3, 10,  2],\n",
       "       [ 0,  1, 16,  0,  0,  0,  0,  0, 14,  0],\n",
       "       [ 0,  2,  1, 27,  0,  2,  0,  1,  8,  1],\n",
       "       [ 1,  0,  0,  0, 32,  0,  0,  4,  0,  0],\n",
       "       [ 0,  0,  0,  1,  0, 35,  0,  1,  1,  0],\n",
       "       [ 0,  0,  1,  0,  0,  0, 42,  0,  0,  0],\n",
       "       [ 0,  0,  0,  0,  1,  1,  0, 32,  0,  1],\n",
       "       [ 0,  2,  2,  0,  0,  1,  0,  1, 22,  0],\n",
       "       [ 1,  1,  0,  1,  0,  0,  0,  3,  6, 26]], dtype=int64)"
      ]
     },
     "execution_count": 11,
     "metadata": {},
     "output_type": "execute_result"
    }
   ],
   "source": [
    "%%time\n",
    "cm= confusion_matrix(y_test, y_pred)\n",
    "cm"
   ]
  },
  {
   "cell_type": "code",
   "execution_count": 12,
   "id": "ca11f602",
   "metadata": {},
   "outputs": [
    {
     "data": {
      "text/plain": [
       "Text(69.0, 0.5, 'Actual')"
      ]
     },
     "execution_count": 12,
     "metadata": {},
     "output_type": "execute_result"
    },
    {
     "data": {
      "image/png": "[encoded data removed]",
      "text/plain": [
       "<Figure size 720x432 with 2 Axes>"
      ]
     },
     "metadata": {
      "needs_background": "light"
     },
     "output_type": "display_data"
    }
   ],
   "source": [
    "plt.figure (figsize =(10,6))\n",
    "sns.heatmap(cm,annot=True)\n",
    "plt.xlabel('Predicted')\n",
    "plt.ylabel('Actual')"
   ]
  },
  {
   "cell_type": "code",
   "execution_count": 13,
   "id": "b5495246",
   "metadata": {},
   "outputs": [
    {
     "name": "stdout",
     "output_type": "stream",
     "text": [
      "\t\tNAIVE BAYES MODEL PERFORMANCE METRICS:\n",
      "\n",
      "              precision    recall  f1-score   support\n",
      "\n",
      "           0       0.94      0.97      0.96        34\n",
      "           1       0.75      0.53      0.62        34\n",
      "           2       0.76      0.52      0.62        31\n",
      "           3       0.93      0.64      0.76        42\n",
      "           4       0.97      0.86      0.91        37\n",
      "           5       0.90      0.92      0.91        38\n",
      "           6       1.00      0.98      0.99        43\n",
      "           7       0.70      0.91      0.79        35\n",
      "           8       0.36      0.79      0.49        28\n",
      "           9       0.87      0.68      0.76        38\n",
      "\n",
      "    accuracy                           0.79       360\n",
      "   macro avg       0.82      0.78      0.78       360\n",
      "weighted avg       0.84      0.79      0.79       360\n",
      "\n"
     ]
    }
   ],
   "source": [
    "print(\"\\t\\tNAIVE BAYES MODEL PERFORMANCE METRICS:\\n\")\n",
    "print(classification_report(y_test, y_pred))"
   ]
  },
  {
   "cell_type": "markdown",
   "id": "d118d9c9",
   "metadata": {},
   "source": [
    "### Logistic Regression Performance Metrics\n",
    " \n",
    "              precision    recall  f1-score   support\n",
    "\n",
    "           0       0.96      1.00      0.98        27\n",
    "           1       0.89      0.91      0.90        35\n",
    "           2       0.94      0.92      0.93        36\n",
    "           3       0.88      0.97      0.92        29\n",
    "           4       1.00      0.97      0.98        30\n",
    "           5       0.97      0.97      0.97        40\n",
    "           6       0.98      0.98      0.98        44\n",
    "           7       0.91      1.00      0.95        39\n",
    "           8       0.94      0.85      0.89        39\n",
    "           9       0.95      0.88      0.91        41\n",
    "\n",
    "    accuracy                           0.94       360\n",
    "   macro avg       0.94      0.94      0.94       360\n",
    "weighted avg       0.94      0.94      0.94       360"
   ]
  },
  {
   "cell_type": "markdown",
   "id": "9556678e",
   "metadata": {},
   "source": [
    "## COMPARISON AND INTERPRETATION:\n",
    "- The Notebook used the Scikit-learn library with the built-in Gaussian Naive Bayes algorithm to predict the Hand written digits.  The dataset was split to 80/20 ratio for training and testing.  The results then compared with the Logistic Regression algorithm.\n",
    "- For Digits dataset, Logistic Regression model has a 94% accuracy compare to Naive Bayes model with the accuracy arround 79%.  Additionally, the average precision, recall and f1-score for Logistic regression are 94%, 94%, 94% while for Naive Bayes are only about 84%, 79%, 79%. Logistic Regression seems to perform significantly better than Naive Bayes. \n"
   ]
  },
  {
   "cell_type": "markdown",
   "id": "2886bd5b",
   "metadata": {},
   "source": [
    "REFERENCES: \n",
    "Navalani, A. (2018). Naive Bayes Classification Tutorial using Scikit-learn. Retrieved on 22 Oct 2022 from https://www.datacamp.com/tutorial/naive-bayes-scikit-learn"
   ]
  },
  {
   "cell_type": "code",
   "execution_count": null,
   "id": "9f4c5aa5",
   "metadata": {},
   "outputs": [],
   "source": []
  }
 ],
 "metadata": {
  "kernelspec": {
   "display_name": "Python 3 (ipykernel)",
   "language": "python",
   "name": "python3"
  },
  "language_info": {
   "codemirror_mode": {
    "name": "ipython",
    "version": 3
   },
   "file_extension": ".py",
   "mimetype": "text/x-python",
   "name": "python",
   "nbconvert_exporter": "python",
   "pygments_lexer": "ipython3",
   "version": "3.9.7"
  }
 },
 "nbformat": 4,
 "nbformat_minor": 5
}
