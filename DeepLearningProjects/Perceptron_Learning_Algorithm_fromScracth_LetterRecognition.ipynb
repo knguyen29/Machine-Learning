{
 "cells": [
  {
   "cell_type": "code",
   "execution_count": 1,
   "id": "15b746c3",
   "metadata": {},
   "outputs": [
    {
     "name": "stdout",
     "output_type": "stream",
     "text": [
      "C:\\Users\\khanh\\Desktop\\GMUeducation\\AIT736\\Assignments\\Assignment2\n"
     ]
    }
   ],
   "source": [
    "'''Assignment 2 - Task 1: Perceptron Linear Algorithm (PLA) for the wdbc dataset\n",
    "AIT-736, Instructor: Dr. Liao, Date: 10/3/2022\n",
    "Khanh Nguyen, Anisha Mou, Rohan Jonnakuti, Vishveshwar Kondala\n",
    "\n",
    "The code below using basic Python functions to build PLA algorithms from scratch to implement the basic PLA classification \n",
    "for breast tumor: Malignant (1) and Benign (0).  \n",
    "The first 75% examples are used for training and the remaining 25% for testing.\n",
    "The training took 3000 iterations. Perceptron classification accuracy over 3000 iterations: 0.9436619718309859\n",
    "The visualization for accuracy and the first 1000 number of iterations took over 2 hours to complete.\n",
    "\n",
    "'''\n",
    "import math\n",
    "import os\n",
    "import numpy as np\n",
    "import pandas as pd\n",
    "import seaborn as sns\n",
    "import matplotlib.pyplot as plt\n",
    "from random import seed\n",
    "from random import randrange\n",
    "from csv import reader\n",
    "from math import sqrt\n",
    "from collections import Counter\n",
    "\n",
    "\n",
    "#Changing path to working directory\n",
    "working_directory = os.getcwd()\n",
    "os.chdir(working_directory)\n",
    "print(working_directory)"
   ]
  },
  {
   "cell_type": "code",
   "execution_count": 2,
   "id": "b31bba34",
   "metadata": {},
   "outputs": [
    {
     "data": {
      "text/plain": [
       "(568, 32)"
      ]
     },
     "execution_count": 2,
     "metadata": {},
     "output_type": "execute_result"
    }
   ],
   "source": [
    "df = pd.read_csv('wdbc1.csv')\n",
    "\n",
    "df.shape"
   ]
  },
  {
   "cell_type": "code",
   "execution_count": 3,
   "id": "790081da",
   "metadata": {},
   "outputs": [
    {
     "name": "stdout",
     "output_type": "stream",
     "text": [
      "Shape of Vectorized dataset: (568, 32)\n",
      "[[842517 20.57 17.77 132.9 1326.0 0.08474 0.07864 0.0869 0.07017 0.1812\n",
      "  0.05667 0.5435 0.7339 3.398 74.08 0.005225 0.01308 0.0186 0.0134\n",
      "  0.01389 0.003532 24.99 23.41 158.8 1956.0 0.1238 0.1866 0.2416 0.186\n",
      "  0.275 0.08902 'M']\n",
      " [84300903 19.69 21.25 130.0 1203.0 0.1096 0.1599 0.1974 0.1279 0.2069\n",
      "  0.05999 0.7456 0.7869 4.585 94.03 0.00615 0.04006 0.03832 0.02058\n",
      "  0.0225 0.004571 23.57 25.53 152.5 1709.0 0.1444 0.4245 0.4504 0.243\n",
      "  0.3613 0.08758 'M']\n",
      " [84348301 11.42 20.38 77.58 386.1 0.1425 0.2839 0.2414 0.1052 0.2597\n",
      "  0.09744 0.4956 1.156 3.445 27.23 0.00911 0.07458 0.05661 0.01867\n",
      "  0.05963 0.009208 14.91 26.5 98.87 567.7 0.2098 0.8663 0.6869 0.2575\n",
      "  0.6638 0.173 'M']\n",
      " [84358402 20.29 14.34 135.1 1297.0 0.1003 0.1328 0.198 0.1043 0.1809\n",
      "  0.05883 0.7572 0.7813 5.438 94.44 0.01149 0.02461 0.05688 0.01885\n",
      "  0.01756 0.005115 22.54 16.67 152.2 1575.0 0.1374 0.205 0.4 0.1625\n",
      "  0.2364 0.07678 'M']]\n"
     ]
    }
   ],
   "source": [
    "vect_df = np.array(df )\n",
    "print(\"Shape of Vectorized dataset:\",vect_df.shape)\n",
    "print(vect_df[:4])"
   ]
  },
  {
   "cell_type": "code",
   "execution_count": 4,
   "id": "7a075691",
   "metadata": {},
   "outputs": [
    {
     "name": "stdout",
     "output_type": "stream",
     "text": [
      "Shape of X (568, 30)\n",
      "[[20.57 17.77 132.9 1326.0 0.08474 0.07864 0.0869 0.07017 0.1812 0.05667\n",
      "  0.5435 0.7339 3.398 74.08 0.005225 0.01308 0.0186 0.0134 0.01389\n",
      "  0.003532 24.99 23.41 158.8 1956.0 0.1238 0.1866 0.2416 0.186 0.275\n",
      "  0.08902]\n",
      " [19.69 21.25 130.0 1203.0 0.1096 0.1599 0.1974 0.1279 0.2069 0.05999\n",
      "  0.7456 0.7869 4.585 94.03 0.00615 0.04006 0.03832 0.02058 0.0225\n",
      "  0.004571 23.57 25.53 152.5 1709.0 0.1444 0.4245 0.4504 0.243 0.3613\n",
      "  0.08758]\n",
      " [11.42 20.38 77.58 386.1 0.1425 0.2839 0.2414 0.1052 0.2597 0.09744\n",
      "  0.4956 1.156 3.445 27.23 0.00911 0.07458 0.05661 0.01867 0.05963\n",
      "  0.009208 14.91 26.5 98.87 567.7 0.2098 0.8663 0.6869 0.2575 0.6638\n",
      "  0.173]\n",
      " [20.29 14.34 135.1 1297.0 0.1003 0.1328 0.198 0.1043 0.1809 0.05883\n",
      "  0.7572 0.7813 5.438 94.44 0.01149 0.02461 0.05688 0.01885 0.01756\n",
      "  0.005115 22.54 16.67 152.2 1575.0 0.1374 0.205 0.4 0.1625 0.2364\n",
      "  0.07678]]\n",
      "\n",
      "Shape of y: (568,)\n",
      "['M' 'M' 'M' 'M' 'M' 'M' 'M' 'M' 'M' 'M' 'M' 'M' 'M' 'M' 'M' 'M' 'M' 'M'\n",
      " 'B' 'B' 'B' 'M' 'M' 'M' 'M' 'M' 'M' 'M' 'M' 'M' 'M' 'M' 'M' 'M' 'M' 'M'\n",
      " 'B' 'M' 'M' 'M' 'M' 'M' 'M' 'M' 'M' 'B' 'M' 'B' 'B' 'B' 'B' 'B' 'M' 'M'\n",
      " 'B' 'M' 'M' 'B' 'B' 'B' 'B' 'M' 'B' 'M' 'M' 'B' 'B' 'B' 'B' 'M' 'B' 'M'\n",
      " 'M' 'B' 'M' 'B' 'M' 'M' 'B' 'B' 'B' 'M' 'M' 'B' 'M' 'M' 'M' 'B' 'B' 'B'\n",
      " 'M' 'B' 'B' 'M' 'M' 'B' 'B' 'B' 'M' 'M']\n"
     ]
    }
   ],
   "source": [
    "X = np.array(vect_df[:,1:-1]) #all data except last column\n",
    "print(\"Shape of X\", X.shape) \n",
    "print(X[:4])\n",
    "y = np.array(vect_df[:,-1]) #only last column\n",
    "print(\"\\nShape of y:\",y.shape)\n",
    "print(y[:100])"
   ]
  },
  {
   "cell_type": "code",
   "execution_count": 5,
   "id": "ad791200",
   "metadata": {},
   "outputs": [
    {
     "data": {
      "text/plain": [
       "array([1, 1, 1, 1, 1, 1, 1, 1, 1, 1, 1, 1, 1, 1, 1, 1, 1, 1, 0, 0, 0, 1,\n",
       "       1, 1, 1, 1, 1, 1, 1, 1, 1, 1, 1, 1, 1, 1, 0, 1, 1, 1, 1, 1, 1, 1,\n",
       "       1, 0, 1, 0, 0, 0, 0, 0, 1, 1, 0, 1, 1, 0, 0, 0, 0, 1, 0, 1, 1, 0,\n",
       "       0, 0, 0, 1, 0, 1, 1, 0, 1, 0, 1, 1, 0, 0, 0, 1, 1, 0, 1, 1, 1, 0,\n",
       "       0, 0, 1, 0, 0, 1, 1, 0, 0, 0, 1, 1])"
      ]
     },
     "execution_count": 5,
     "metadata": {},
     "output_type": "execute_result"
    }
   ],
   "source": [
    "# using NumPy function 'where' to convert M,B to 1,0: Malignant (1) and Benign (0)\n",
    "y = np.where(y=='M', 1, 0)\n",
    "# y = np.array(y, dtype = float )\n",
    "y[:100]"
   ]
  },
  {
   "cell_type": "code",
   "execution_count": 6,
   "id": "2fb2a2ed",
   "metadata": {},
   "outputs": [
    {
     "name": "stdout",
     "output_type": "stream",
     "text": [
      "Total Number of rows in train: 426\n",
      "Total Number of rows in test: 142\n"
     ]
    }
   ],
   "source": [
    "#Split the dataset base on percentage\n",
    "s_f = 0.75\n",
    "n_train = math.floor(s_f * X.shape[0])\n",
    "n_test = math.ceil((1-s_f) * X.shape[0])\n",
    "X_train = X[:n_train]\n",
    "y_train = y[:n_train]\n",
    "X_test = X[n_train:]\n",
    "y_test = y[n_train:]\n",
    "print(\"Total Number of rows in train:\",X_train.shape[0])\n",
    "print(\"Total Number of rows in test:\",X_test.shape[0])"
   ]
  },
  {
   "cell_type": "code",
   "execution_count": 7,
   "id": "01819cab",
   "metadata": {},
   "outputs": [],
   "source": [
    "#Task 1.2: Implement PLA optimization from scratch\n",
    "class Perceptron:\n",
    "    \"\"\"- Perceptron is using the Approximation math: y_pred = g(f(w,b)) = g(w^T*x + b)\n",
    "    - with Perceptron update rule:  \n",
    "        + For each training sample x_i: w (weight) = w + delta(w)\n",
    "        + and delta(w) = alpha*(y_i - y_hat)*x_i\n",
    "        + alpha: is learning rate in [0,1]\n",
    "    \"\"\"\n",
    "    def __init__(self, learning_rate=0.01, n_iters=1000):\n",
    "        self.lr = learning_rate\n",
    "        self.n_iters = n_iters\n",
    "        self.activation_func = self._unit_step_func\n",
    "        self.weights = None\n",
    "        self.bias = None\n",
    "        \n",
    "\n",
    "    def fit(self, X, y):\n",
    "        # number of rows and number of features in training set\n",
    "        n_samples, n_features = X.shape\n",
    "        print(X.shape)\n",
    "\n",
    "        # init parameters\n",
    "        self.weights = np.zeros(n_features)\n",
    "        self.bias = 0\n",
    "        \n",
    "        # to make sure y is only consisted of 0 and 1, then convert to an array\n",
    "        y_ = np.array([1 if i > 0 else 0 for i in y])\n",
    "        #print(y_)\n",
    "\n",
    "        for _ in range(self.n_iters):\n",
    "            # to iterate over the training samples set\n",
    "            for idx, x_i in enumerate(X):\n",
    "                # linear function is the dot() product of Transposed w(weight) = (w^T)*x + bias\n",
    "                linear_output = np.dot(x_i, self.weights) + self.bias\n",
    "                # then apply the Activation over Linear function: y_pred = g(f(w,b)) = g(w^T*x + b)\n",
    "                y_predicted = self.activation_func(linear_output)\n",
    "                \n",
    "                # Perceptron update rule\n",
    "                update = self.lr * (y_[idx] - y_predicted)\n",
    "\n",
    "                #self.weights += update * x_i\n",
    "                self.weights = self.weights + update * x_i\n",
    "                self.bias = self.bias + update\n",
    "        print(\"Task 1.3.2 The weights of the training data:\\n\", self.weights)\n",
    "\n",
    "    def predict(self, X):\n",
    "        linear_output = np.dot(X, self.weights) + self.bias\n",
    "        y_predicted = self.activation_func(linear_output)\n",
    "        return y_predicted\n",
    "\n",
    "    # apply Unit Step Function (either 0 or 1) to multiple rows\n",
    "    def _unit_step_func(self, x):\n",
    "        return np.where(x>=0, 1, 0)"
   ]
  },
  {
   "cell_type": "code",
   "execution_count": 8,
   "id": "4c7f9930",
   "metadata": {},
   "outputs": [],
   "source": [
    "# function to calculate the accuracy of the algorithm\n",
    "def accuracy(y_true, y_pred):\n",
    "    accuracy = np.sum(y_true == y_pred) / len(y_true)\n",
    "    return accuracy"
   ]
  },
  {
   "cell_type": "code",
   "execution_count": 9,
   "id": "7f761d8c",
   "metadata": {},
   "outputs": [
    {
     "name": "stdout",
     "output_type": "stream",
     "text": [
      "(426, 30)\n",
      "Task 1.3.2 The weights of the training data:\n",
      " [-354.40562000004803 193.8532999999109 -877.8622999998333\n",
      " 3.8939999999889086 8.015566499999466 39.675228000007344 56.13780890596832\n",
      " 22.935395480001315 7.606414000000447 2.8128460000000217\n",
      " -6.751816999998718 -17.2753850000008 51.54193999998356 132.94263999999453\n",
      " 1.263277770000347 9.19837826999781 12.84870469599825 2.8267132399998323\n",
      " 3.514262660001197 0.7580443820000888 -355.8640599999534\n",
      " 386.11739999996854 -16.097200000101086 81.44000000006385\n",
      " 14.154612300000178 124.78186510000916 150.8924511299933 42.08049167999308\n",
      " 32.855146999995576 11.594579400003198]\n",
      "Wall time: 42.5 s\n"
     ]
    }
   ],
   "source": [
    "%%time\n",
    "# print(y_train)\n",
    "# Fit the Perceptron algorithm into training and test set \n",
    "p = Perceptron(learning_rate=0.01, n_iters=3000) #set default Perceptron\n",
    "p.fit(X_train, y_train)  #fit Perceptron into the training set\n",
    "predictions = p.predict(X_test)"
   ]
  },
  {
   "cell_type": "code",
   "execution_count": 10,
   "id": "6854eba0",
   "metadata": {},
   "outputs": [
    {
     "name": "stdout",
     "output_type": "stream",
     "text": [
      "predicted results set shape: (142,)\n"
     ]
    },
    {
     "data": {
      "text/plain": [
       "array([0, 0, 0, 0, 0, 1, 1, 0, 0, 0, 0, 0, 0, 0, 1, 0, 0, 1, 0, 1, 0, 0,\n",
       "       1, 0, 1, 0, 0, 0, 0, 0, 0, 0, 0, 1, 1, 0, 0, 0, 0, 0, 0, 1, 0, 0,\n",
       "       0, 0, 0, 0, 0, 0, 0, 0, 0, 0, 0, 0, 0, 0, 0, 0, 1, 0, 1, 0, 1, 1,\n",
       "       0, 0, 0, 0, 0, 1, 1, 0, 0, 0, 1, 0, 0, 0, 0, 0, 0, 0, 0, 1, 0, 1,\n",
       "       0, 1, 1, 0, 0, 0, 1, 0, 0, 0, 0, 0, 0, 0, 0, 0, 0, 0, 1, 0, 1, 0,\n",
       "       0, 0, 0, 0, 0, 0, 0, 0, 0, 0, 0, 0, 0, 0, 0, 0, 0, 0, 0, 0, 0, 0,\n",
       "       0, 0, 0, 0, 1, 1, 1, 1, 1, 0])"
      ]
     },
     "execution_count": 10,
     "metadata": {},
     "output_type": "execute_result"
    }
   ],
   "source": [
    "print(\"predicted results set shape:\", predictions.shape)\n",
    "predictions"
   ]
  },
  {
   "cell_type": "code",
   "execution_count": 11,
   "id": "8b258939",
   "metadata": {},
   "outputs": [
    {
     "name": "stdout",
     "output_type": "stream",
     "text": [
      "test set shape: (142,)\n"
     ]
    },
    {
     "data": {
      "text/plain": [
       "array([0, 0, 0, 1, 0, 1, 1, 0, 1, 0, 0, 0, 0, 0, 1, 0, 0, 1, 0, 1, 0, 0,\n",
       "       1, 0, 1, 0, 0, 0, 0, 0, 0, 0, 0, 1, 1, 0, 0, 0, 0, 0, 0, 1, 0, 0,\n",
       "       0, 0, 0, 0, 0, 0, 0, 0, 1, 0, 0, 0, 0, 0, 0, 0, 1, 0, 1, 0, 0, 1,\n",
       "       0, 0, 0, 0, 0, 1, 1, 0, 1, 0, 1, 0, 0, 0, 0, 0, 1, 0, 0, 1, 0, 1,\n",
       "       0, 1, 1, 0, 0, 0, 1, 0, 0, 0, 0, 0, 0, 0, 0, 0, 0, 0, 1, 0, 1, 1,\n",
       "       0, 0, 0, 0, 0, 0, 0, 0, 0, 0, 0, 0, 0, 0, 0, 0, 0, 0, 0, 0, 0, 0,\n",
       "       0, 0, 0, 1, 1, 1, 1, 1, 1, 0])"
      ]
     },
     "execution_count": 11,
     "metadata": {},
     "output_type": "execute_result"
    }
   ],
   "source": [
    "print(\"test set shape:\", y_test.shape)\n",
    "y_test"
   ]
  },
  {
   "cell_type": "code",
   "execution_count": 12,
   "id": "84f0bcda",
   "metadata": {},
   "outputs": [
    {
     "name": "stdout",
     "output_type": "stream",
     "text": [
      "Perceptron classification accuracy over 3000 iterations: 0.9436619718309859\n"
     ]
    }
   ],
   "source": [
    "#calculate accuracy against the test set\n",
    "print(\"Perceptron classification accuracy over 3000 iterations:\", accuracy(y_test, predictions)) "
   ]
  },
  {
   "cell_type": "code",
   "execution_count": 13,
   "id": "40b267b9",
   "metadata": {},
   "outputs": [
    {
     "name": "stdout",
     "output_type": "stream",
     "text": [
      "Confusion matrix for test set\n",
      "[106, 7]\n",
      "[1, 28]\n"
     ]
    }
   ],
   "source": [
    "# Calculate Confusion Matrix without scikit-learn\n",
    "def confusionmatrix(actual, predicted, normalize = False):\n",
    "\n",
    "    unique = sorted(set(actual))\n",
    "    matrix = [[0 for _ in unique] for _ in unique]\n",
    "    imap   = {key: i for i, key in enumerate(unique)}\n",
    "    # Generate Confusion Matrix\n",
    "    for p, a in zip(predicted, actual):\n",
    "        matrix[imap[p]][imap[a]] += 1\n",
    "    # Matrix Normalization\n",
    "    if normalize:\n",
    "        sigma = sum([sum(matrix[imap[i]]) for i in unique])\n",
    "        matrix = [row for row in map(lambda i: list(map(lambda j: j / sigma, i)), matrix)]\n",
    "    return matrix\n",
    "\n",
    "cm = confusionmatrix(y_test, predictions)\n",
    "print(\"Confusion matrix for test set\")\n",
    "for line in cm:\n",
    "    print(line)"
   ]
  },
  {
   "cell_type": "code",
   "execution_count": 14,
   "id": "d565d854",
   "metadata": {},
   "outputs": [
    {
     "data": {
      "image/png": "[encoded data removed]",
      "text/plain": [
       "<Figure size 576x432 with 2 Axes>"
      ]
     },
     "metadata": {
      "needs_background": "light"
     },
     "output_type": "display_data"
    }
   ],
   "source": [
    "#Plotting the confusion matrix\n",
    "plt.figure(figsize=(8,6))\n",
    "sns.heatmap(cm, annot=True)\n",
    "plt.title('Confusion Matrix', size = 25)\n",
    "plt.ylabel('Actual Values', size = 25)\n",
    "plt.xlabel('Predicted Values', size = 25)\n",
    "plt.show()"
   ]
  },
  {
   "cell_type": "code",
   "execution_count": 15,
   "id": "40208fea",
   "metadata": {},
   "outputs": [
    {
     "data": {
      "image/png": "[encoded data removed]",
      "text/plain": [
       "<Figure size 720x504 with 1 Axes>"
      ]
     },
     "metadata": {
      "needs_background": "light"
     },
     "output_type": "display_data"
    }
   ],
   "source": [
    "#some visualizations\n",
    "fig = plt.figure(figsize=(10,7))\n",
    "ax = fig.add_subplot(1,1,1)\n",
    "plt.scatter(X_train[:,0], X_train[:,1], marker='o', c=y_train)\n",
    "\n",
    "x0_1 = -np.amin(X_train[:,0])\n",
    "x0_2 = -np.amax(X_train[:,0]) \n",
    "\n",
    "x1_1 = (p.weights[0] * x0_1 + p.bias) / p.weights[1] \n",
    "x1_2 = (p.weights[0] * x0_2 + p.bias) / p.weights[1] \n",
    "\n",
    "ax.plot([x0_1+25, x0_2+27], [x1_1, x1_2], 'k')\n",
    "\n",
    "ymin = np.amin(X_train[:,1])\n",
    "ymax = np.amax(X_train[:,1])\n",
    "ax.set_ylim([ymin-3,ymax+3])\n",
    "\n",
    "plt.title(\"Linear function decision boundary generated by the Perceptron Algorithm\", size=16)\n",
    "plt.show()"
   ]
  },
  {
   "cell_type": "markdown",
   "id": "057ea09f",
   "metadata": {},
   "source": [
    " "
   ]
  },
  {
   "cell_type": "code",
   "execution_count": 16,
   "id": "025b5f9c",
   "metadata": {},
   "outputs": [],
   "source": [
    "#Task 1.4: Collect accuracy scores from 1000 iterations of applying the PLA over the training set\n",
    "class Perceptron:\n",
    "    \"\"\"- is the Approximation math: y_pred = g(f(w,b)) = g(w^T*x + b)\n",
    "    - with Perceptron update rule:  \n",
    "        + For each training sample x_i: w (weight) = w + delta(w)\n",
    "        + and delta(w) = alpha*(y_i - y_hat)*x_i\n",
    "        + alpha: is learning rate in [0,1]\n",
    "    \"\"\"\n",
    "    def __init__(self, learning_rate=0.01, n_iters=1000):\n",
    "        self.lr = learning_rate\n",
    "        self.n_iters = n_iters\n",
    "        self.activation_func = self._unit_step_func\n",
    "        self.weights = None\n",
    "        self.bias = None\n",
    "        \n",
    "\n",
    "    def fit(self, X, y):\n",
    "        # number of rows and number of features in training set\n",
    "        n_samples, n_features = X.shape\n",
    "#         print(X.shape)\n",
    "\n",
    "        # init parameters\n",
    "        self.weights = np.zeros(n_features)\n",
    "        self.bias = 0\n",
    "        \n",
    "        # to make sure y is only consisted of 0 and 1, then convert to an array\n",
    "        y_ = np.array([1 if i > 0 else 0 for i in y])\n",
    "        #print(y_)\n",
    "\n",
    "        for _ in range(self.n_iters):\n",
    "            # to iterate over the training samples set\n",
    "            for idx, x_i in enumerate(X):\n",
    "                # linear function is the dot() product = (w^T)*x + bias\n",
    "                linear_output = np.dot(x_i, self.weights) + self.bias\n",
    "                # then apply the Activation over Linear function: y_pred = g(f(w,b)) = g(w^T*x + b)\n",
    "                y_predicted = self.activation_func(linear_output)\n",
    "                \n",
    "                # Perceptron update rule\n",
    "                update = self.lr * (y_[idx] - y_predicted)\n",
    "\n",
    "                #self.weights += update * x_i\n",
    "                self.weights = self.weights + update * x_i\n",
    "                self.bias = self.bias + update\n",
    "#         print(\"Task 1.3.2 The weights of the training data:\\n\", self.weights)\n",
    "\n",
    "    def predict(self, X):\n",
    "        linear_output = np.dot(X, self.weights) + self.bias\n",
    "        y_predicted = self.activation_func(linear_output)\n",
    "        return y_predicted\n",
    "\n",
    "    # apply Unit Step Function (either 0 or 1) to multiple rows\n",
    "    def _unit_step_func(self, x):\n",
    "        return np.where(x>=0, 1, 0)"
   ]
  },
  {
   "cell_type": "code",
   "execution_count": 17,
   "id": "02eb0169",
   "metadata": {},
   "outputs": [],
   "source": [
    "# function to calculate the accuracy of the algorithm\n",
    "def accuracy(y_true, y_pred):\n",
    "    accuracy = np.sum(y_true == y_pred) / len(y_true)\n",
    "    return accuracy"
   ]
  },
  {
   "cell_type": "code",
   "execution_count": 22,
   "id": "94a2cde0",
   "metadata": {},
   "outputs": [
    {
     "name": "stdout",
     "output_type": "stream",
     "text": [
      "Wall time: 2h 14min 12s\n"
     ]
    }
   ],
   "source": [
    "%%time \n",
    "#get the accuracy for each iteration, with total number of iterations =400\n",
    "accuracy_list = []\n",
    "for n_iter in range(1,1000):\n",
    "    p = Perceptron(learning_rate=0.01, n_iters=n_iter) #set default Perceptron\n",
    "    p.fit(X_train, y_train)  #fit Perceptron into the training set\n",
    "    predictions = p.predict(X_test)\n",
    "    \n",
    "    accuracy_iter = accuracy(y_test, predictions)\n",
    "    accuracy_list.append(accuracy_iter)"
   ]
  },
  {
   "cell_type": "code",
   "execution_count": 23,
   "id": "c7808dc2",
   "metadata": {},
   "outputs": [
    {
     "data": {
      "text/plain": [
       "[0.8873239436619719,\n",
       " 0.8873239436619719,\n",
       " 0.7746478873239436,\n",
       " 0.8028169014084507,\n",
       " 0.823943661971831,\n",
       " 0.8591549295774648,\n",
       " 0.9295774647887324,\n",
       " 0.9225352112676056,\n",
       " 0.9225352112676056,\n",
       " 0.9225352112676056]"
      ]
     },
     "execution_count": 23,
     "metadata": {},
     "output_type": "execute_result"
    }
   ],
   "source": [
    "accuracy_list[:10]"
   ]
  },
  {
   "cell_type": "code",
   "execution_count": 24,
   "id": "2cefdace",
   "metadata": {},
   "outputs": [
    {
     "name": "stdout",
     "output_type": "stream",
     "text": [
      "First 10 items in dictionary:\n",
      " {0: 0.8873239436619719, 1: 0.8873239436619719, 2: 0.7746478873239436, 3: 0.8028169014084507, 4: 0.823943661971831, 5: 0.8591549295774648, 6: 0.9295774647887324, 7: 0.9225352112676056, 8: 0.9225352112676056, 9: 0.9225352112676056}\n"
     ]
    }
   ],
   "source": [
    "#convert the list to a dictionary with index\n",
    "accuracy_dict = dict(enumerate(accuracy_list))\n",
    "\n",
    "print(\"First 10 items in dictionary:\\n\", {A:N for (A,N) in [x for x in accuracy_dict.items()][:10]})"
   ]
  },
  {
   "cell_type": "code",
   "execution_count": 25,
   "id": "7db0c988",
   "metadata": {
    "scrolled": true
   },
   "outputs": [
    {
     "data": {
      "image/png": "[encoded data removed]",
      "text/plain": [
       "<Figure size 432x288 with 1 Axes>"
      ]
     },
     "metadata": {
      "needs_background": "light"
     },
     "output_type": "display_data"
    }
   ],
   "source": [
    "plt.plot(*zip(*sorted(accuracy_dict.items())))\n",
    "plt.title(\"Accuracies for PLA Iterations\", size=16)\n",
    "plt.show()"
   ]
  },
  {
   "cell_type": "markdown",
   "id": "a75c5078",
   "metadata": {},
   "source": [
    "## INTERPRETATION\n",
    "- The accuracy is 94.36% for the PLA algorithm for number of iterations = 3000 to identify whether the breast cancer is Malignant (1) or Benign (0).  The Perceptron algorithm only works for linearly separable classes. It means classes can be separated by linear function as illustrated in the Scatter Plot above.  Otherwise, it will not work well. For further improvement, the number of iterations can be increased.  For example, with n_iterations = 5000, the accuracy score is at 95.77%, but it requires a lot of more time to compute. \n",
    "- It took over 2 hours 14 minutes to collect the accuracy scores over number of iterations = 1000.  To collect more accuracy scores for bigger number of iterations, it will require larger memory space and probably suits better leveraging Big Data technologies such as Spark and Hadoop."
   ]
  },
  {
   "cell_type": "markdown",
   "id": "1cd9a729",
   "metadata": {},
   "source": [
    "REFERENCE\n",
    "Loeber, P. (2019). Perceptron in Python - ML From Scratch 06. Retrieved on 10/1/2022 from https://www.python-engineer.com/courses/mlfromscratch/06_perceptron/"
   ]
  }
 ],
 "metadata": {
  "kernelspec": {
   "display_name": "Python 3 (ipykernel)",
   "language": "python",
   "name": "python3"
  },
  "language_info": {
   "codemirror_mode": {
    "name": "ipython",
    "version": 3
   },
   "file_extension": ".py",
   "mimetype": "text/x-python",
   "name": "python",
   "nbconvert_exporter": "python",
   "pygments_lexer": "ipython3",
   "version": "3.9.7"
  }
 },
 "nbformat": 4,
 "nbformat_minor": 5
}
